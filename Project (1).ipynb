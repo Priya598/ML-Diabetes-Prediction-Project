{
 "cells": [
  {
   "cell_type": "markdown",
   "id": "aca19907-e4b2-4ce5-8a87-2969fe4f5ffd",
   "metadata": {},
   "source": [
    "# Diabetes_Prediction_Dataset"
   ]
  },
  {
   "cell_type": "markdown",
   "id": "37250bbc-9af6-449f-83bc-3b1def659225",
   "metadata": {},
   "source": [
    "#### To predict whether a person has diabetes based on health factors and medical history."
   ]
  },
  {
   "cell_type": "code",
   "execution_count": 3,
   "id": "e636e1d2-35a6-4175-8852-80a78d01356e",
   "metadata": {},
   "outputs": [],
   "source": [
    "import pandas as pd\n",
    "import seaborn as sns\n",
    "import matplotlib.pyplot as plt\n",
    "import numpy as np\n",
    "import warnings\n",
    "warnings.filterwarnings('ignore')"
   ]
  },
  {
   "cell_type": "code",
   "execution_count": 4,
   "id": "1de50a2f-b3a2-4a4f-8e1d-47effb54427e",
   "metadata": {},
   "outputs": [
    {
     "data": {
      "text/html": [
       "<div>\n",
       "<style scoped>\n",
       "    .dataframe tbody tr th:only-of-type {\n",
       "        vertical-align: middle;\n",
       "    }\n",
       "\n",
       "    .dataframe tbody tr th {\n",
       "        vertical-align: top;\n",
       "    }\n",
       "\n",
       "    .dataframe thead th {\n",
       "        text-align: right;\n",
       "    }\n",
       "</style>\n",
       "<table border=\"1\" class=\"dataframe\">\n",
       "  <thead>\n",
       "    <tr style=\"text-align: right;\">\n",
       "      <th></th>\n",
       "      <th>gender</th>\n",
       "      <th>age</th>\n",
       "      <th>hypertension</th>\n",
       "      <th>heart_disease</th>\n",
       "      <th>smoking_history</th>\n",
       "      <th>bmi</th>\n",
       "      <th>HbA1c_level</th>\n",
       "      <th>blood_glucose_level</th>\n",
       "      <th>diabetes</th>\n",
       "    </tr>\n",
       "  </thead>\n",
       "  <tbody>\n",
       "    <tr>\n",
       "      <th>0</th>\n",
       "      <td>Female</td>\n",
       "      <td>80.0</td>\n",
       "      <td>0</td>\n",
       "      <td>1</td>\n",
       "      <td>never</td>\n",
       "      <td>25.19</td>\n",
       "      <td>6.6</td>\n",
       "      <td>140</td>\n",
       "      <td>0</td>\n",
       "    </tr>\n",
       "    <tr>\n",
       "      <th>1</th>\n",
       "      <td>Female</td>\n",
       "      <td>54.0</td>\n",
       "      <td>0</td>\n",
       "      <td>0</td>\n",
       "      <td>No Info</td>\n",
       "      <td>27.32</td>\n",
       "      <td>6.6</td>\n",
       "      <td>80</td>\n",
       "      <td>0</td>\n",
       "    </tr>\n",
       "    <tr>\n",
       "      <th>2</th>\n",
       "      <td>Male</td>\n",
       "      <td>28.0</td>\n",
       "      <td>0</td>\n",
       "      <td>0</td>\n",
       "      <td>never</td>\n",
       "      <td>27.32</td>\n",
       "      <td>5.7</td>\n",
       "      <td>158</td>\n",
       "      <td>0</td>\n",
       "    </tr>\n",
       "    <tr>\n",
       "      <th>3</th>\n",
       "      <td>Female</td>\n",
       "      <td>36.0</td>\n",
       "      <td>0</td>\n",
       "      <td>0</td>\n",
       "      <td>current</td>\n",
       "      <td>23.45</td>\n",
       "      <td>5.0</td>\n",
       "      <td>155</td>\n",
       "      <td>0</td>\n",
       "    </tr>\n",
       "    <tr>\n",
       "      <th>4</th>\n",
       "      <td>Male</td>\n",
       "      <td>76.0</td>\n",
       "      <td>1</td>\n",
       "      <td>1</td>\n",
       "      <td>current</td>\n",
       "      <td>20.14</td>\n",
       "      <td>4.8</td>\n",
       "      <td>155</td>\n",
       "      <td>0</td>\n",
       "    </tr>\n",
       "    <tr>\n",
       "      <th>...</th>\n",
       "      <td>...</td>\n",
       "      <td>...</td>\n",
       "      <td>...</td>\n",
       "      <td>...</td>\n",
       "      <td>...</td>\n",
       "      <td>...</td>\n",
       "      <td>...</td>\n",
       "      <td>...</td>\n",
       "      <td>...</td>\n",
       "    </tr>\n",
       "    <tr>\n",
       "      <th>99995</th>\n",
       "      <td>Female</td>\n",
       "      <td>80.0</td>\n",
       "      <td>0</td>\n",
       "      <td>0</td>\n",
       "      <td>No Info</td>\n",
       "      <td>27.32</td>\n",
       "      <td>6.2</td>\n",
       "      <td>90</td>\n",
       "      <td>0</td>\n",
       "    </tr>\n",
       "    <tr>\n",
       "      <th>99996</th>\n",
       "      <td>Female</td>\n",
       "      <td>2.0</td>\n",
       "      <td>0</td>\n",
       "      <td>0</td>\n",
       "      <td>No Info</td>\n",
       "      <td>17.37</td>\n",
       "      <td>6.5</td>\n",
       "      <td>100</td>\n",
       "      <td>0</td>\n",
       "    </tr>\n",
       "    <tr>\n",
       "      <th>99997</th>\n",
       "      <td>Male</td>\n",
       "      <td>66.0</td>\n",
       "      <td>0</td>\n",
       "      <td>0</td>\n",
       "      <td>former</td>\n",
       "      <td>27.83</td>\n",
       "      <td>5.7</td>\n",
       "      <td>155</td>\n",
       "      <td>0</td>\n",
       "    </tr>\n",
       "    <tr>\n",
       "      <th>99998</th>\n",
       "      <td>Female</td>\n",
       "      <td>24.0</td>\n",
       "      <td>0</td>\n",
       "      <td>0</td>\n",
       "      <td>never</td>\n",
       "      <td>35.42</td>\n",
       "      <td>4.0</td>\n",
       "      <td>100</td>\n",
       "      <td>0</td>\n",
       "    </tr>\n",
       "    <tr>\n",
       "      <th>99999</th>\n",
       "      <td>Female</td>\n",
       "      <td>57.0</td>\n",
       "      <td>0</td>\n",
       "      <td>0</td>\n",
       "      <td>current</td>\n",
       "      <td>22.43</td>\n",
       "      <td>6.6</td>\n",
       "      <td>90</td>\n",
       "      <td>0</td>\n",
       "    </tr>\n",
       "  </tbody>\n",
       "</table>\n",
       "<p>100000 rows × 9 columns</p>\n",
       "</div>"
      ],
      "text/plain": [
       "       gender   age  hypertension  heart_disease smoking_history    bmi  \\\n",
       "0      Female  80.0             0              1           never  25.19   \n",
       "1      Female  54.0             0              0         No Info  27.32   \n",
       "2        Male  28.0             0              0           never  27.32   \n",
       "3      Female  36.0             0              0         current  23.45   \n",
       "4        Male  76.0             1              1         current  20.14   \n",
       "...       ...   ...           ...            ...             ...    ...   \n",
       "99995  Female  80.0             0              0         No Info  27.32   \n",
       "99996  Female   2.0             0              0         No Info  17.37   \n",
       "99997    Male  66.0             0              0          former  27.83   \n",
       "99998  Female  24.0             0              0           never  35.42   \n",
       "99999  Female  57.0             0              0         current  22.43   \n",
       "\n",
       "       HbA1c_level  blood_glucose_level  diabetes  \n",
       "0              6.6                  140         0  \n",
       "1              6.6                   80         0  \n",
       "2              5.7                  158         0  \n",
       "3              5.0                  155         0  \n",
       "4              4.8                  155         0  \n",
       "...            ...                  ...       ...  \n",
       "99995          6.2                   90         0  \n",
       "99996          6.5                  100         0  \n",
       "99997          5.7                  155         0  \n",
       "99998          4.0                  100         0  \n",
       "99999          6.6                   90         0  \n",
       "\n",
       "[100000 rows x 9 columns]"
      ]
     },
     "execution_count": 4,
     "metadata": {},
     "output_type": "execute_result"
    }
   ],
   "source": [
    "data=pd.read_csv(r\"D:\\Edubridge\\Project\\diabetes_prediction_dataset.csv\")\n",
    "data"
   ]
  },
  {
   "cell_type": "code",
   "execution_count": 5,
   "id": "956957de-2c21-4910-8491-3cd76748c18d",
   "metadata": {},
   "outputs": [
    {
     "data": {
      "text/plain": [
       "(100000, 9)"
      ]
     },
     "execution_count": 5,
     "metadata": {},
     "output_type": "execute_result"
    }
   ],
   "source": [
    "data.shape"
   ]
  },
  {
   "cell_type": "code",
   "execution_count": 6,
   "id": "1e8c16d3-2b95-47a8-bc91-ce1da481be35",
   "metadata": {},
   "outputs": [
    {
     "data": {
      "text/html": [
       "<div>\n",
       "<style scoped>\n",
       "    .dataframe tbody tr th:only-of-type {\n",
       "        vertical-align: middle;\n",
       "    }\n",
       "\n",
       "    .dataframe tbody tr th {\n",
       "        vertical-align: top;\n",
       "    }\n",
       "\n",
       "    .dataframe thead th {\n",
       "        text-align: right;\n",
       "    }\n",
       "</style>\n",
       "<table border=\"1\" class=\"dataframe\">\n",
       "  <thead>\n",
       "    <tr style=\"text-align: right;\">\n",
       "      <th></th>\n",
       "      <th>gender</th>\n",
       "      <th>age</th>\n",
       "      <th>hypertension</th>\n",
       "      <th>heart_disease</th>\n",
       "      <th>smoking_history</th>\n",
       "      <th>bmi</th>\n",
       "      <th>HbA1c_level</th>\n",
       "      <th>blood_glucose_level</th>\n",
       "      <th>diabetes</th>\n",
       "    </tr>\n",
       "  </thead>\n",
       "  <tbody>\n",
       "    <tr>\n",
       "      <th>0</th>\n",
       "      <td>Female</td>\n",
       "      <td>80.0</td>\n",
       "      <td>0</td>\n",
       "      <td>1</td>\n",
       "      <td>never</td>\n",
       "      <td>25.19</td>\n",
       "      <td>6.6</td>\n",
       "      <td>140</td>\n",
       "      <td>0</td>\n",
       "    </tr>\n",
       "    <tr>\n",
       "      <th>1</th>\n",
       "      <td>Female</td>\n",
       "      <td>54.0</td>\n",
       "      <td>0</td>\n",
       "      <td>0</td>\n",
       "      <td>No Info</td>\n",
       "      <td>27.32</td>\n",
       "      <td>6.6</td>\n",
       "      <td>80</td>\n",
       "      <td>0</td>\n",
       "    </tr>\n",
       "    <tr>\n",
       "      <th>2</th>\n",
       "      <td>Male</td>\n",
       "      <td>28.0</td>\n",
       "      <td>0</td>\n",
       "      <td>0</td>\n",
       "      <td>never</td>\n",
       "      <td>27.32</td>\n",
       "      <td>5.7</td>\n",
       "      <td>158</td>\n",
       "      <td>0</td>\n",
       "    </tr>\n",
       "    <tr>\n",
       "      <th>3</th>\n",
       "      <td>Female</td>\n",
       "      <td>36.0</td>\n",
       "      <td>0</td>\n",
       "      <td>0</td>\n",
       "      <td>current</td>\n",
       "      <td>23.45</td>\n",
       "      <td>5.0</td>\n",
       "      <td>155</td>\n",
       "      <td>0</td>\n",
       "    </tr>\n",
       "    <tr>\n",
       "      <th>4</th>\n",
       "      <td>Male</td>\n",
       "      <td>76.0</td>\n",
       "      <td>1</td>\n",
       "      <td>1</td>\n",
       "      <td>current</td>\n",
       "      <td>20.14</td>\n",
       "      <td>4.8</td>\n",
       "      <td>155</td>\n",
       "      <td>0</td>\n",
       "    </tr>\n",
       "  </tbody>\n",
       "</table>\n",
       "</div>"
      ],
      "text/plain": [
       "   gender   age  hypertension  heart_disease smoking_history    bmi  \\\n",
       "0  Female  80.0             0              1           never  25.19   \n",
       "1  Female  54.0             0              0         No Info  27.32   \n",
       "2    Male  28.0             0              0           never  27.32   \n",
       "3  Female  36.0             0              0         current  23.45   \n",
       "4    Male  76.0             1              1         current  20.14   \n",
       "\n",
       "   HbA1c_level  blood_glucose_level  diabetes  \n",
       "0          6.6                  140         0  \n",
       "1          6.6                   80         0  \n",
       "2          5.7                  158         0  \n",
       "3          5.0                  155         0  \n",
       "4          4.8                  155         0  "
      ]
     },
     "execution_count": 6,
     "metadata": {},
     "output_type": "execute_result"
    }
   ],
   "source": [
    "data.head()"
   ]
  },
  {
   "cell_type": "code",
   "execution_count": 7,
   "id": "ebc7a8fc-05cf-48e3-a6cb-a5ff830a4e61",
   "metadata": {},
   "outputs": [
    {
     "data": {
      "text/html": [
       "<div>\n",
       "<style scoped>\n",
       "    .dataframe tbody tr th:only-of-type {\n",
       "        vertical-align: middle;\n",
       "    }\n",
       "\n",
       "    .dataframe tbody tr th {\n",
       "        vertical-align: top;\n",
       "    }\n",
       "\n",
       "    .dataframe thead th {\n",
       "        text-align: right;\n",
       "    }\n",
       "</style>\n",
       "<table border=\"1\" class=\"dataframe\">\n",
       "  <thead>\n",
       "    <tr style=\"text-align: right;\">\n",
       "      <th></th>\n",
       "      <th>gender</th>\n",
       "      <th>age</th>\n",
       "      <th>hypertension</th>\n",
       "      <th>heart_disease</th>\n",
       "      <th>smoking_history</th>\n",
       "      <th>bmi</th>\n",
       "      <th>HbA1c_level</th>\n",
       "      <th>blood_glucose_level</th>\n",
       "      <th>diabetes</th>\n",
       "    </tr>\n",
       "  </thead>\n",
       "  <tbody>\n",
       "    <tr>\n",
       "      <th>99995</th>\n",
       "      <td>Female</td>\n",
       "      <td>80.0</td>\n",
       "      <td>0</td>\n",
       "      <td>0</td>\n",
       "      <td>No Info</td>\n",
       "      <td>27.32</td>\n",
       "      <td>6.2</td>\n",
       "      <td>90</td>\n",
       "      <td>0</td>\n",
       "    </tr>\n",
       "    <tr>\n",
       "      <th>99996</th>\n",
       "      <td>Female</td>\n",
       "      <td>2.0</td>\n",
       "      <td>0</td>\n",
       "      <td>0</td>\n",
       "      <td>No Info</td>\n",
       "      <td>17.37</td>\n",
       "      <td>6.5</td>\n",
       "      <td>100</td>\n",
       "      <td>0</td>\n",
       "    </tr>\n",
       "    <tr>\n",
       "      <th>99997</th>\n",
       "      <td>Male</td>\n",
       "      <td>66.0</td>\n",
       "      <td>0</td>\n",
       "      <td>0</td>\n",
       "      <td>former</td>\n",
       "      <td>27.83</td>\n",
       "      <td>5.7</td>\n",
       "      <td>155</td>\n",
       "      <td>0</td>\n",
       "    </tr>\n",
       "    <tr>\n",
       "      <th>99998</th>\n",
       "      <td>Female</td>\n",
       "      <td>24.0</td>\n",
       "      <td>0</td>\n",
       "      <td>0</td>\n",
       "      <td>never</td>\n",
       "      <td>35.42</td>\n",
       "      <td>4.0</td>\n",
       "      <td>100</td>\n",
       "      <td>0</td>\n",
       "    </tr>\n",
       "    <tr>\n",
       "      <th>99999</th>\n",
       "      <td>Female</td>\n",
       "      <td>57.0</td>\n",
       "      <td>0</td>\n",
       "      <td>0</td>\n",
       "      <td>current</td>\n",
       "      <td>22.43</td>\n",
       "      <td>6.6</td>\n",
       "      <td>90</td>\n",
       "      <td>0</td>\n",
       "    </tr>\n",
       "  </tbody>\n",
       "</table>\n",
       "</div>"
      ],
      "text/plain": [
       "       gender   age  hypertension  heart_disease smoking_history    bmi  \\\n",
       "99995  Female  80.0             0              0         No Info  27.32   \n",
       "99996  Female   2.0             0              0         No Info  17.37   \n",
       "99997    Male  66.0             0              0          former  27.83   \n",
       "99998  Female  24.0             0              0           never  35.42   \n",
       "99999  Female  57.0             0              0         current  22.43   \n",
       "\n",
       "       HbA1c_level  blood_glucose_level  diabetes  \n",
       "99995          6.2                   90         0  \n",
       "99996          6.5                  100         0  \n",
       "99997          5.7                  155         0  \n",
       "99998          4.0                  100         0  \n",
       "99999          6.6                   90         0  "
      ]
     },
     "execution_count": 7,
     "metadata": {},
     "output_type": "execute_result"
    }
   ],
   "source": [
    "data.tail()"
   ]
  },
  {
   "cell_type": "code",
   "execution_count": 8,
   "id": "2e910bba-c346-4afd-8752-597337b4e6b6",
   "metadata": {},
   "outputs": [
    {
     "data": {
      "text/html": [
       "<div>\n",
       "<style scoped>\n",
       "    .dataframe tbody tr th:only-of-type {\n",
       "        vertical-align: middle;\n",
       "    }\n",
       "\n",
       "    .dataframe tbody tr th {\n",
       "        vertical-align: top;\n",
       "    }\n",
       "\n",
       "    .dataframe thead th {\n",
       "        text-align: right;\n",
       "    }\n",
       "</style>\n",
       "<table border=\"1\" class=\"dataframe\">\n",
       "  <thead>\n",
       "    <tr style=\"text-align: right;\">\n",
       "      <th></th>\n",
       "      <th>gender</th>\n",
       "      <th>age</th>\n",
       "      <th>hypertension</th>\n",
       "      <th>heart_disease</th>\n",
       "      <th>smoking_history</th>\n",
       "      <th>bmi</th>\n",
       "      <th>HbA1c_level</th>\n",
       "      <th>blood_glucose_level</th>\n",
       "      <th>diabetes</th>\n",
       "    </tr>\n",
       "  </thead>\n",
       "  <tbody>\n",
       "    <tr>\n",
       "      <th>count</th>\n",
       "      <td>100000</td>\n",
       "      <td>100000.000000</td>\n",
       "      <td>100000.00000</td>\n",
       "      <td>100000.000000</td>\n",
       "      <td>100000</td>\n",
       "      <td>100000.000000</td>\n",
       "      <td>100000.000000</td>\n",
       "      <td>100000.000000</td>\n",
       "      <td>100000.000000</td>\n",
       "    </tr>\n",
       "    <tr>\n",
       "      <th>unique</th>\n",
       "      <td>3</td>\n",
       "      <td>NaN</td>\n",
       "      <td>NaN</td>\n",
       "      <td>NaN</td>\n",
       "      <td>6</td>\n",
       "      <td>NaN</td>\n",
       "      <td>NaN</td>\n",
       "      <td>NaN</td>\n",
       "      <td>NaN</td>\n",
       "    </tr>\n",
       "    <tr>\n",
       "      <th>top</th>\n",
       "      <td>Female</td>\n",
       "      <td>NaN</td>\n",
       "      <td>NaN</td>\n",
       "      <td>NaN</td>\n",
       "      <td>No Info</td>\n",
       "      <td>NaN</td>\n",
       "      <td>NaN</td>\n",
       "      <td>NaN</td>\n",
       "      <td>NaN</td>\n",
       "    </tr>\n",
       "    <tr>\n",
       "      <th>freq</th>\n",
       "      <td>58552</td>\n",
       "      <td>NaN</td>\n",
       "      <td>NaN</td>\n",
       "      <td>NaN</td>\n",
       "      <td>35816</td>\n",
       "      <td>NaN</td>\n",
       "      <td>NaN</td>\n",
       "      <td>NaN</td>\n",
       "      <td>NaN</td>\n",
       "    </tr>\n",
       "    <tr>\n",
       "      <th>mean</th>\n",
       "      <td>NaN</td>\n",
       "      <td>41.885856</td>\n",
       "      <td>0.07485</td>\n",
       "      <td>0.039420</td>\n",
       "      <td>NaN</td>\n",
       "      <td>27.320767</td>\n",
       "      <td>5.527507</td>\n",
       "      <td>138.058060</td>\n",
       "      <td>0.085000</td>\n",
       "    </tr>\n",
       "    <tr>\n",
       "      <th>std</th>\n",
       "      <td>NaN</td>\n",
       "      <td>22.516840</td>\n",
       "      <td>0.26315</td>\n",
       "      <td>0.194593</td>\n",
       "      <td>NaN</td>\n",
       "      <td>6.636783</td>\n",
       "      <td>1.070672</td>\n",
       "      <td>40.708136</td>\n",
       "      <td>0.278883</td>\n",
       "    </tr>\n",
       "    <tr>\n",
       "      <th>min</th>\n",
       "      <td>NaN</td>\n",
       "      <td>0.080000</td>\n",
       "      <td>0.00000</td>\n",
       "      <td>0.000000</td>\n",
       "      <td>NaN</td>\n",
       "      <td>10.010000</td>\n",
       "      <td>3.500000</td>\n",
       "      <td>80.000000</td>\n",
       "      <td>0.000000</td>\n",
       "    </tr>\n",
       "    <tr>\n",
       "      <th>25%</th>\n",
       "      <td>NaN</td>\n",
       "      <td>24.000000</td>\n",
       "      <td>0.00000</td>\n",
       "      <td>0.000000</td>\n",
       "      <td>NaN</td>\n",
       "      <td>23.630000</td>\n",
       "      <td>4.800000</td>\n",
       "      <td>100.000000</td>\n",
       "      <td>0.000000</td>\n",
       "    </tr>\n",
       "    <tr>\n",
       "      <th>50%</th>\n",
       "      <td>NaN</td>\n",
       "      <td>43.000000</td>\n",
       "      <td>0.00000</td>\n",
       "      <td>0.000000</td>\n",
       "      <td>NaN</td>\n",
       "      <td>27.320000</td>\n",
       "      <td>5.800000</td>\n",
       "      <td>140.000000</td>\n",
       "      <td>0.000000</td>\n",
       "    </tr>\n",
       "    <tr>\n",
       "      <th>75%</th>\n",
       "      <td>NaN</td>\n",
       "      <td>60.000000</td>\n",
       "      <td>0.00000</td>\n",
       "      <td>0.000000</td>\n",
       "      <td>NaN</td>\n",
       "      <td>29.580000</td>\n",
       "      <td>6.200000</td>\n",
       "      <td>159.000000</td>\n",
       "      <td>0.000000</td>\n",
       "    </tr>\n",
       "    <tr>\n",
       "      <th>max</th>\n",
       "      <td>NaN</td>\n",
       "      <td>80.000000</td>\n",
       "      <td>1.00000</td>\n",
       "      <td>1.000000</td>\n",
       "      <td>NaN</td>\n",
       "      <td>95.690000</td>\n",
       "      <td>9.000000</td>\n",
       "      <td>300.000000</td>\n",
       "      <td>1.000000</td>\n",
       "    </tr>\n",
       "  </tbody>\n",
       "</table>\n",
       "</div>"
      ],
      "text/plain": [
       "        gender            age  hypertension  heart_disease smoking_history  \\\n",
       "count   100000  100000.000000  100000.00000  100000.000000          100000   \n",
       "unique       3            NaN           NaN            NaN               6   \n",
       "top     Female            NaN           NaN            NaN         No Info   \n",
       "freq     58552            NaN           NaN            NaN           35816   \n",
       "mean       NaN      41.885856       0.07485       0.039420             NaN   \n",
       "std        NaN      22.516840       0.26315       0.194593             NaN   \n",
       "min        NaN       0.080000       0.00000       0.000000             NaN   \n",
       "25%        NaN      24.000000       0.00000       0.000000             NaN   \n",
       "50%        NaN      43.000000       0.00000       0.000000             NaN   \n",
       "75%        NaN      60.000000       0.00000       0.000000             NaN   \n",
       "max        NaN      80.000000       1.00000       1.000000             NaN   \n",
       "\n",
       "                  bmi    HbA1c_level  blood_glucose_level       diabetes  \n",
       "count   100000.000000  100000.000000        100000.000000  100000.000000  \n",
       "unique            NaN            NaN                  NaN            NaN  \n",
       "top               NaN            NaN                  NaN            NaN  \n",
       "freq              NaN            NaN                  NaN            NaN  \n",
       "mean        27.320767       5.527507           138.058060       0.085000  \n",
       "std          6.636783       1.070672            40.708136       0.278883  \n",
       "min         10.010000       3.500000            80.000000       0.000000  \n",
       "25%         23.630000       4.800000           100.000000       0.000000  \n",
       "50%         27.320000       5.800000           140.000000       0.000000  \n",
       "75%         29.580000       6.200000           159.000000       0.000000  \n",
       "max         95.690000       9.000000           300.000000       1.000000  "
      ]
     },
     "execution_count": 8,
     "metadata": {},
     "output_type": "execute_result"
    }
   ],
   "source": [
    "data.describe(include=\"all\")"
   ]
  },
  {
   "cell_type": "code",
   "execution_count": 9,
   "id": "99e02945-ec0a-475b-b381-12107a603c51",
   "metadata": {},
   "outputs": [
    {
     "data": {
      "text/plain": [
       "Index(['gender', 'age', 'hypertension', 'heart_disease', 'smoking_history',\n",
       "       'bmi', 'HbA1c_level', 'blood_glucose_level', 'diabetes'],\n",
       "      dtype='object')"
      ]
     },
     "execution_count": 9,
     "metadata": {},
     "output_type": "execute_result"
    }
   ],
   "source": [
    "data.columns"
   ]
  },
  {
   "cell_type": "code",
   "execution_count": 10,
   "id": "d8c29a35-cb17-4ac1-89c4-f73d604cbd80",
   "metadata": {},
   "outputs": [
    {
     "data": {
      "text/plain": [
       "diabetes\n",
       "0    91500\n",
       "1     8500\n",
       "Name: count, dtype: int64"
      ]
     },
     "execution_count": 10,
     "metadata": {},
     "output_type": "execute_result"
    }
   ],
   "source": [
    "data.diabetes.value_counts()"
   ]
  },
  {
   "cell_type": "code",
   "execution_count": 11,
   "id": "2f9b4e27-cfe6-4d33-b260-475c627a43ab",
   "metadata": {},
   "outputs": [
    {
     "name": "stdout",
     "output_type": "stream",
     "text": [
      "<class 'pandas.core.frame.DataFrame'>\n",
      "RangeIndex: 100000 entries, 0 to 99999\n",
      "Data columns (total 9 columns):\n",
      " #   Column               Non-Null Count   Dtype  \n",
      "---  ------               --------------   -----  \n",
      " 0   gender               100000 non-null  object \n",
      " 1   age                  100000 non-null  float64\n",
      " 2   hypertension         100000 non-null  int64  \n",
      " 3   heart_disease        100000 non-null  int64  \n",
      " 4   smoking_history      100000 non-null  object \n",
      " 5   bmi                  100000 non-null  float64\n",
      " 6   HbA1c_level          100000 non-null  float64\n",
      " 7   blood_glucose_level  100000 non-null  int64  \n",
      " 8   diabetes             100000 non-null  int64  \n",
      "dtypes: float64(3), int64(4), object(2)\n",
      "memory usage: 6.9+ MB\n"
     ]
    }
   ],
   "source": [
    "data.info()"
   ]
  },
  {
   "cell_type": "markdown",
   "id": "78ac13a5-25c6-45e7-a83c-1aaf6dbe3776",
   "metadata": {},
   "source": [
    "# Missing Values"
   ]
  },
  {
   "cell_type": "code",
   "execution_count": 13,
   "id": "3a33f77e-bb3c-41fc-94a8-51c63f14b931",
   "metadata": {},
   "outputs": [
    {
     "data": {
      "text/plain": [
       "gender                 0\n",
       "age                    0\n",
       "hypertension           0\n",
       "heart_disease          0\n",
       "smoking_history        0\n",
       "bmi                    0\n",
       "HbA1c_level            0\n",
       "blood_glucose_level    0\n",
       "diabetes               0\n",
       "dtype: int64"
      ]
     },
     "execution_count": 13,
     "metadata": {},
     "output_type": "execute_result"
    }
   ],
   "source": [
    "data.isnull().sum()"
   ]
  },
  {
   "cell_type": "markdown",
   "id": "cd28634c-bfc5-4031-8598-667ee236b885",
   "metadata": {},
   "source": [
    "# Data Conversion"
   ]
  },
  {
   "cell_type": "code",
   "execution_count": 15,
   "id": "7d297328-185b-4b4f-b480-cefb062c426d",
   "metadata": {},
   "outputs": [
    {
     "data": {
      "text/plain": [
       "gender                  object\n",
       "age                    float64\n",
       "hypertension             int64\n",
       "heart_disease            int64\n",
       "smoking_history         object\n",
       "bmi                    float64\n",
       "HbA1c_level            float64\n",
       "blood_glucose_level      int64\n",
       "diabetes                 int64\n",
       "dtype: object"
      ]
     },
     "execution_count": 15,
     "metadata": {},
     "output_type": "execute_result"
    }
   ],
   "source": [
    "data.dtypes"
   ]
  },
  {
   "cell_type": "code",
   "execution_count": 16,
   "id": "6157c7fd-192d-41f0-98d7-9fd537672de8",
   "metadata": {},
   "outputs": [],
   "source": [
    "from sklearn.preprocessing import LabelEncoder\n",
    "le=LabelEncoder()"
   ]
  },
  {
   "cell_type": "code",
   "execution_count": 17,
   "id": "0572133a-05f1-4261-ad8b-3d636348cd60",
   "metadata": {},
   "outputs": [],
   "source": [
    "data.gender=le.fit_transform(data.gender)"
   ]
  },
  {
   "cell_type": "code",
   "execution_count": 18,
   "id": "8018e895-b921-4cf2-bf61-5ee9ea1ce8a8",
   "metadata": {},
   "outputs": [],
   "source": [
    "data.smoking_history=le.fit_transform(data.smoking_history)"
   ]
  },
  {
   "cell_type": "code",
   "execution_count": 19,
   "id": "eaeb1870-2118-4ffa-9e77-df13289e0ed2",
   "metadata": {},
   "outputs": [
    {
     "data": {
      "text/plain": [
       "gender                   int32\n",
       "age                    float64\n",
       "hypertension             int64\n",
       "heart_disease            int64\n",
       "smoking_history          int32\n",
       "bmi                    float64\n",
       "HbA1c_level            float64\n",
       "blood_glucose_level      int64\n",
       "diabetes                 int64\n",
       "dtype: object"
      ]
     },
     "execution_count": 19,
     "metadata": {},
     "output_type": "execute_result"
    }
   ],
   "source": [
    "data.dtypes"
   ]
  },
  {
   "cell_type": "markdown",
   "id": "222b3919-75c9-443b-8cf7-f67da4e7ef77",
   "metadata": {},
   "source": [
    "## Duplicate Value Cheking"
   ]
  },
  {
   "cell_type": "code",
   "execution_count": 21,
   "id": "aef10ce1-b486-4862-bbc8-03e6c426cc0e",
   "metadata": {},
   "outputs": [],
   "source": [
    "data.drop_duplicates(inplace=True)"
   ]
  },
  {
   "cell_type": "code",
   "execution_count": 22,
   "id": "4016dcf4-0fae-4a41-9c13-7b74d7443e4d",
   "metadata": {},
   "outputs": [
    {
     "data": {
      "text/plain": [
       "(96146, 9)"
      ]
     },
     "execution_count": 22,
     "metadata": {},
     "output_type": "execute_result"
    }
   ],
   "source": [
    "data.shape"
   ]
  },
  {
   "cell_type": "markdown",
   "id": "31272021-7fcc-4006-966d-f2640313c8a5",
   "metadata": {},
   "source": [
    "# EDA "
   ]
  },
  {
   "cell_type": "markdown",
   "id": "9aa6884a-3eb9-42d6-b92f-74c7d8b3d393",
   "metadata": {},
   "source": [
    "##### Age"
   ]
  },
  {
   "cell_type": "code",
   "execution_count": 25,
   "id": "50d7262f-4a71-4298-9074-6739e277394e",
   "metadata": {},
   "outputs": [
    {
     "data": {
      "text/plain": [
       "<Axes: xlabel='age', ylabel='Count'>"
      ]
     },
     "execution_count": 25,
     "metadata": {},
     "output_type": "execute_result"
    },
    {
     "data": {
      "image/png": "[encoded data removed]",
      "text/plain": [
       "<Figure size 640x480 with 1 Axes>"
      ]
     },
     "metadata": {},
     "output_type": "display_data"
    }
   ],
   "source": [
    "sns.histplot(x=data[\"age\"],bins=8)"
   ]
  },
  {
   "cell_type": "markdown",
   "id": "39c5d89e-7bc2-4401-a12b-ef82d58a5f71",
   "metadata": {},
   "source": [
    "##### People have age between 40-60 are high and others are evenly distributed"
   ]
  },
  {
   "cell_type": "markdown",
   "id": "7f995533-69c1-488d-9b56-19f52e30e819",
   "metadata": {},
   "source": [
    "#### Hypertension"
   ]
  },
  {
   "cell_type": "code",
   "execution_count": 28,
   "id": "6c93c20c-dee2-4cfc-843c-9fe0cce60551",
   "metadata": {},
   "outputs": [
    {
     "data": {
      "text/plain": [
       "<matplotlib.legend.Legend at 0x2328f393c10>"
      ]
     },
     "execution_count": 28,
     "metadata": {},
     "output_type": "execute_result"
    },
    {
     "data": {
      "image/png": "[encoded data removed]",
      "text/plain": [
       "<Figure size 640x480 with 1 Axes>"
      ]
     },
     "metadata": {},
     "output_type": "display_data"
    }
   ],
   "source": [
    "sns.countplot(x=\"hypertension\",hue=\"diabetes\",data=data)\n",
    "plt.xlabel('hypertension( 0 = NO And 1 = Yes)')\n",
    "plt.legend([\"No_diabetes\", \"Diabetes\"])"
   ]
  },
  {
   "cell_type": "markdown",
   "id": "d33e99a4-759a-4e94-a727-0110a5ca6ef4",
   "metadata": {},
   "source": [
    "##### There are almost 85000 people without Hypertension"
   ]
  },
  {
   "cell_type": "markdown",
   "id": "5c72dde3-7927-431d-af2a-6c92e05d5fa7",
   "metadata": {},
   "source": [
    "#### Heart_disease"
   ]
  },
  {
   "cell_type": "code",
   "execution_count": 31,
   "id": "b713d69a-48dc-44c6-9512-946d0a2d62f0",
   "metadata": {},
   "outputs": [
    {
     "data": {
      "text/plain": [
       "<matplotlib.legend.Legend at 0x2328df340d0>"
      ]
     },
     "execution_count": 31,
     "metadata": {},
     "output_type": "execute_result"
    },
    {
     "data": {
      "image/png": "[encoded data removed]",
      "text/plain": [
       "<Figure size 640x480 with 1 Axes>"
      ]
     },
     "metadata": {},
     "output_type": "display_data"
    }
   ],
   "source": [
    "sns.countplot(x=\"heart_disease\",hue= \"diabetes\",data=data)\n",
    "plt.xlabel('heart_disease( 0 =NO And 1 =Yes)')\n",
    "plt.legend([\"No_diabetes\", \"Diabetes\"])"
   ]
  },
  {
   "cell_type": "markdown",
   "id": "b47e937e-af3a-453a-991b-8e2bd096adf4",
   "metadata": {},
   "source": [
    "##### Almost 95000 people have not any kind of heart disease."
   ]
  },
  {
   "cell_type": "markdown",
   "id": "92f8cd95-f672-4a79-863a-dd84ca5e9961",
   "metadata": {},
   "source": [
    "#### Smoking_history"
   ]
  },
  {
   "cell_type": "code",
   "execution_count": 34,
   "id": "a3aebced-574c-4e0b-a8a0-c3227dec7769",
   "metadata": {},
   "outputs": [
    {
     "data": {
      "text/plain": [
       "<matplotlib.legend.Legend at 0x2328fc61050>"
      ]
     },
     "execution_count": 34,
     "metadata": {},
     "output_type": "execute_result"
    },
    {
     "data": {
      "image/png": "[encoded data removed]",
      "text/plain": [
       "<Figure size 640x480 with 1 Axes>"
      ]
     },
     "metadata": {},
     "output_type": "display_data"
    }
   ],
   "source": [
    "sns.countplot(x=\"smoking_history\",hue= \"diabetes\",data=data)\n",
    "plt.legend([\"No_diabetes\", \"Diabetes\"])"
   ]
  },
  {
   "cell_type": "markdown",
   "id": "d87ac192-d2ea-469f-a76a-458bd4656cc1",
   "metadata": {},
   "source": [
    "##### Almost 35000 people have no diabetes or they never done smoking."
   ]
  },
  {
   "cell_type": "markdown",
   "id": "63f3c173-95a7-4d3c-92fa-392977814f18",
   "metadata": {},
   "source": [
    "#### BMI"
   ]
  },
  {
   "cell_type": "code",
   "execution_count": 37,
   "id": "391cc86b-c7d6-4ae6-9945-76b8d6596a08",
   "metadata": {},
   "outputs": [
    {
     "data": {
      "image/png": "[encoded data removed]",
      "text/plain": [
       "<Figure size 640x480 with 1 Axes>"
      ]
     },
     "metadata": {},
     "output_type": "display_data"
    }
   ],
   "source": [
    "sns.histplot(x=data[\"bmi\"],bins=8)\n",
    "#plt.legend([\"No_diabetes\", \"Diabetes\"])\n",
    "plt.title(\"BMI Distribution\")\n",
    "plt.show()"
   ]
  },
  {
   "cell_type": "markdown",
   "id": "40cf6cd2-ecd3-44a3-878e-9ff1f5d663e1",
   "metadata": {},
   "source": [
    "##### Maximum number of people have BMI of 30."
   ]
  },
  {
   "cell_type": "markdown",
   "id": "d16426f3-c718-48e7-94ff-bb062190e33f",
   "metadata": {},
   "source": [
    "#### Diabetes"
   ]
  },
  {
   "cell_type": "code",
   "execution_count": 40,
   "id": "799583a1-6c14-436e-b9a7-623100090725",
   "metadata": {},
   "outputs": [
    {
     "data": {
      "text/plain": [
       "<matplotlib.legend.Legend at 0x232926f1f50>"
      ]
     },
     "execution_count": 40,
     "metadata": {},
     "output_type": "execute_result"
    },
    {
     "data": {
      "image/png": "[encoded data removed]",
      "text/plain": [
       "<Figure size 640x480 with 1 Axes>"
      ]
     },
     "metadata": {},
     "output_type": "display_data"
    }
   ],
   "source": [
    "sns.countplot(x=\"diabetes\",hue= \"diabetes\",data=data)\n",
    "plt.legend([\"No_diabetes\", \"Diabetes\"])"
   ]
  },
  {
   "cell_type": "markdown",
   "id": "6ba5bb71-7dd3-4a8b-9289-b9cb9d088bc6",
   "metadata": {},
   "source": [
    "##### There is 85000 people have not diabetes. This is also showing that we have imbalanced data as we have to predict Diabetes."
   ]
  },
  {
   "cell_type": "code",
   "execution_count": 42,
   "id": "7c5a576e-3641-499c-a52a-1a2bda22b143",
   "metadata": {},
   "outputs": [
    {
     "data": {
      "text/html": [
       "<div>\n",
       "<style scoped>\n",
       "    .dataframe tbody tr th:only-of-type {\n",
       "        vertical-align: middle;\n",
       "    }\n",
       "\n",
       "    .dataframe tbody tr th {\n",
       "        vertical-align: top;\n",
       "    }\n",
       "\n",
       "    .dataframe thead th {\n",
       "        text-align: right;\n",
       "    }\n",
       "</style>\n",
       "<table border=\"1\" class=\"dataframe\">\n",
       "  <thead>\n",
       "    <tr style=\"text-align: right;\">\n",
       "      <th></th>\n",
       "      <th>gender</th>\n",
       "      <th>age</th>\n",
       "      <th>hypertension</th>\n",
       "      <th>heart_disease</th>\n",
       "      <th>smoking_history</th>\n",
       "      <th>bmi</th>\n",
       "      <th>HbA1c_level</th>\n",
       "      <th>blood_glucose_level</th>\n",
       "      <th>diabetes</th>\n",
       "    </tr>\n",
       "  </thead>\n",
       "  <tbody>\n",
       "    <tr>\n",
       "      <th>gender</th>\n",
       "      <td>1.000000</td>\n",
       "      <td>-0.028968</td>\n",
       "      <td>0.014007</td>\n",
       "      <td>0.078312</td>\n",
       "      <td>-0.079239</td>\n",
       "      <td>-0.023461</td>\n",
       "      <td>0.019836</td>\n",
       "      <td>0.017830</td>\n",
       "      <td>0.037613</td>\n",
       "    </tr>\n",
       "    <tr>\n",
       "      <th>age</th>\n",
       "      <td>-0.028968</td>\n",
       "      <td>1.000000</td>\n",
       "      <td>0.257305</td>\n",
       "      <td>0.238451</td>\n",
       "      <td>0.241128</td>\n",
       "      <td>0.344797</td>\n",
       "      <td>0.106719</td>\n",
       "      <td>0.114317</td>\n",
       "      <td>0.264927</td>\n",
       "    </tr>\n",
       "    <tr>\n",
       "      <th>hypertension</th>\n",
       "      <td>0.014007</td>\n",
       "      <td>0.257305</td>\n",
       "      <td>1.000000</td>\n",
       "      <td>0.119982</td>\n",
       "      <td>0.087892</td>\n",
       "      <td>0.148111</td>\n",
       "      <td>0.081441</td>\n",
       "      <td>0.084834</td>\n",
       "      <td>0.195710</td>\n",
       "    </tr>\n",
       "    <tr>\n",
       "      <th>heart_disease</th>\n",
       "      <td>0.078312</td>\n",
       "      <td>0.238451</td>\n",
       "      <td>0.119982</td>\n",
       "      <td>1.000000</td>\n",
       "      <td>0.023608</td>\n",
       "      <td>0.061376</td>\n",
       "      <td>0.068140</td>\n",
       "      <td>0.070832</td>\n",
       "      <td>0.170711</td>\n",
       "    </tr>\n",
       "    <tr>\n",
       "      <th>smoking_history</th>\n",
       "      <td>-0.079239</td>\n",
       "      <td>0.241128</td>\n",
       "      <td>0.087892</td>\n",
       "      <td>0.023608</td>\n",
       "      <td>1.000000</td>\n",
       "      <td>0.183840</td>\n",
       "      <td>0.035518</td>\n",
       "      <td>0.038259</td>\n",
       "      <td>0.088471</td>\n",
       "    </tr>\n",
       "    <tr>\n",
       "      <th>bmi</th>\n",
       "      <td>-0.023461</td>\n",
       "      <td>0.344797</td>\n",
       "      <td>0.148111</td>\n",
       "      <td>0.061376</td>\n",
       "      <td>0.183840</td>\n",
       "      <td>1.000000</td>\n",
       "      <td>0.084423</td>\n",
       "      <td>0.092543</td>\n",
       "      <td>0.214932</td>\n",
       "    </tr>\n",
       "    <tr>\n",
       "      <th>HbA1c_level</th>\n",
       "      <td>0.019836</td>\n",
       "      <td>0.106719</td>\n",
       "      <td>0.081441</td>\n",
       "      <td>0.068140</td>\n",
       "      <td>0.035518</td>\n",
       "      <td>0.084423</td>\n",
       "      <td>1.000000</td>\n",
       "      <td>0.171615</td>\n",
       "      <td>0.406408</td>\n",
       "    </tr>\n",
       "    <tr>\n",
       "      <th>blood_glucose_level</th>\n",
       "      <td>0.017830</td>\n",
       "      <td>0.114317</td>\n",
       "      <td>0.084834</td>\n",
       "      <td>0.070832</td>\n",
       "      <td>0.038259</td>\n",
       "      <td>0.092543</td>\n",
       "      <td>0.171615</td>\n",
       "      <td>1.000000</td>\n",
       "      <td>0.424336</td>\n",
       "    </tr>\n",
       "    <tr>\n",
       "      <th>diabetes</th>\n",
       "      <td>0.037613</td>\n",
       "      <td>0.264927</td>\n",
       "      <td>0.195710</td>\n",
       "      <td>0.170711</td>\n",
       "      <td>0.088471</td>\n",
       "      <td>0.214932</td>\n",
       "      <td>0.406408</td>\n",
       "      <td>0.424336</td>\n",
       "      <td>1.000000</td>\n",
       "    </tr>\n",
       "  </tbody>\n",
       "</table>\n",
       "</div>"
      ],
      "text/plain": [
       "                       gender       age  hypertension  heart_disease  \\\n",
       "gender               1.000000 -0.028968      0.014007       0.078312   \n",
       "age                 -0.028968  1.000000      0.257305       0.238451   \n",
       "hypertension         0.014007  0.257305      1.000000       0.119982   \n",
       "heart_disease        0.078312  0.238451      0.119982       1.000000   \n",
       "smoking_history     -0.079239  0.241128      0.087892       0.023608   \n",
       "bmi                 -0.023461  0.344797      0.148111       0.061376   \n",
       "HbA1c_level          0.019836  0.106719      0.081441       0.068140   \n",
       "blood_glucose_level  0.017830  0.114317      0.084834       0.070832   \n",
       "diabetes             0.037613  0.264927      0.195710       0.170711   \n",
       "\n",
       "                     smoking_history       bmi  HbA1c_level  \\\n",
       "gender                     -0.079239 -0.023461     0.019836   \n",
       "age                         0.241128  0.344797     0.106719   \n",
       "hypertension                0.087892  0.148111     0.081441   \n",
       "heart_disease               0.023608  0.061376     0.068140   \n",
       "smoking_history             1.000000  0.183840     0.035518   \n",
       "bmi                         0.183840  1.000000     0.084423   \n",
       "HbA1c_level                 0.035518  0.084423     1.000000   \n",
       "blood_glucose_level         0.038259  0.092543     0.171615   \n",
       "diabetes                    0.088471  0.214932     0.406408   \n",
       "\n",
       "                     blood_glucose_level  diabetes  \n",
       "gender                          0.017830  0.037613  \n",
       "age                             0.114317  0.264927  \n",
       "hypertension                    0.084834  0.195710  \n",
       "heart_disease                   0.070832  0.170711  \n",
       "smoking_history                 0.038259  0.088471  \n",
       "bmi                             0.092543  0.214932  \n",
       "HbA1c_level                     0.171615  0.406408  \n",
       "blood_glucose_level             1.000000  0.424336  \n",
       "diabetes                        0.424336  1.000000  "
      ]
     },
     "execution_count": 42,
     "metadata": {},
     "output_type": "execute_result"
    }
   ],
   "source": [
    "data1=data.corr()\n",
    "data1"
   ]
  },
  {
   "cell_type": "code",
   "execution_count": 43,
   "id": "5f1f5dde-226e-411c-8eac-041825adaf9a",
   "metadata": {},
   "outputs": [
    {
     "data": {
      "image/png": "[encoded data removed]",
      "text/plain": [
       "<Figure size 1500x1000 with 2 Axes>"
      ]
     },
     "metadata": {},
     "output_type": "display_data"
    }
   ],
   "source": [
    "plt.figure(figsize=[15,10])\n",
    "heatmap=sns.heatmap(data1,linewidth=1,annot=True,cmap=plt.cm.Blues)"
   ]
  },
  {
   "cell_type": "code",
   "execution_count": 44,
   "id": "5751ee78-c7b9-435d-9560-3f4135ca5886",
   "metadata": {},
   "outputs": [
    {
     "data": {
      "text/plain": [
       "0    0\n",
       "1    0\n",
       "2    0\n",
       "3    0\n",
       "4    0\n",
       "Name: diabetes, dtype: int64"
      ]
     },
     "execution_count": 44,
     "metadata": {},
     "output_type": "execute_result"
    }
   ],
   "source": [
    "x=data.iloc[:,0:8]\n",
    "y=data.iloc[:,-1]\n",
    "x.head()\n",
    "y.head()"
   ]
  },
  {
   "cell_type": "code",
   "execution_count": 45,
   "id": "24aef2cb-b36c-483c-a105-34baedb2f47e",
   "metadata": {},
   "outputs": [],
   "source": [
    "# devide the into train and test\n",
    "from sklearn.model_selection import train_test_split"
   ]
  },
  {
   "cell_type": "code",
   "execution_count": 46,
   "id": "daf06a7e-0dfb-4e4d-8333-e74ba331bdf8",
   "metadata": {},
   "outputs": [],
   "source": [
    "c_x_train,c_x_test,c_y_train,c_y_test= train_test_split(x,y,test_size=0.2,random_state=101)"
   ]
  },
  {
   "cell_type": "code",
   "execution_count": 47,
   "id": "b163d742-b7a6-4d01-b7a2-946c9693bbdc",
   "metadata": {},
   "outputs": [
    {
     "data": {
      "text/plain": [
       "((76916, 8), (19230, 8), (76916,), (19230,))"
      ]
     },
     "execution_count": 47,
     "metadata": {},
     "output_type": "execute_result"
    }
   ],
   "source": [
    "c_x_train.shape,c_x_test.shape,c_y_train.shape,c_y_test.shape"
   ]
  },
  {
   "cell_type": "code",
   "execution_count": 48,
   "id": "a9be059c-7f17-4e77-8d2e-e50215fb0ed9",
   "metadata": {},
   "outputs": [
    {
     "data": {
      "text/plain": [
       "gender                 0\n",
       "age                    0\n",
       "hypertension           0\n",
       "heart_disease          0\n",
       "smoking_history        0\n",
       "bmi                    0\n",
       "HbA1c_level            0\n",
       "blood_glucose_level    0\n",
       "dtype: int64"
      ]
     },
     "execution_count": 48,
     "metadata": {},
     "output_type": "execute_result"
    }
   ],
   "source": [
    "x.isnull().sum()"
   ]
  },
  {
   "cell_type": "markdown",
   "id": "16df8fed-4dde-4764-8cfc-6a45a61cef08",
   "metadata": {},
   "source": [
    "## 1.Logistic Regression"
   ]
  },
  {
   "cell_type": "code",
   "execution_count": 50,
   "id": "79466bc5-b691-42c4-84f9-55928708180b",
   "metadata": {},
   "outputs": [],
   "source": [
    "from sklearn.linear_model import LogisticRegression\n",
    "lg = LogisticRegression()"
   ]
  },
  {
   "cell_type": "code",
   "execution_count": 51,
   "id": "d830e599-b62e-4566-9ddd-fcadaa9b2585",
   "metadata": {},
   "outputs": [
    {
     "data": {
      "text/html": [
       "<style>#sk-container-id-1 {color: black;background-color: white;}#sk-container-id-1 pre{padding: 0;}#sk-container-id-1 div.sk-toggleable {background-color: white;}#sk-container-id-1 label.sk-toggleable__label {cursor: pointer;display: block;width: 100%;margin-bottom: 0;padding: 0.3em;box-sizing: border-box;text-align: center;}#sk-container-id-1 label.sk-toggleable__label-arrow:before {content: \"▸\";float: left;margin-right: 0.25em;color: #696969;}#sk-container-id-1 label.sk-toggleable__label-arrow:hover:before {color: black;}#sk-container-id-1 div.sk-estimator:hover label.sk-toggleable__label-arrow:before {color: black;}#sk-container-id-1 div.sk-toggleable__content {max-height: 0;max-width: 0;overflow: hidden;text-align: left;background-color: #f0f8ff;}#sk-container-id-1 div.sk-toggleable__content pre {margin: 0.2em;color: black;border-radius: 0.25em;background-color: #f0f8ff;}#sk-container-id-1 input.sk-toggleable__control:checked~div.sk-toggleable__content {max-height: 200px;max-width: 100%;overflow: auto;}#sk-container-id-1 input.sk-toggleable__control:checked~label.sk-toggleable__label-arrow:before {content: \"▾\";}#sk-container-id-1 div.sk-estimator input.sk-toggleable__control:checked~label.sk-toggleable__label {background-color: #d4ebff;}#sk-container-id-1 div.sk-label input.sk-toggleable__control:checked~label.sk-toggleable__label {background-color: #d4ebff;}#sk-container-id-1 input.sk-hidden--visually {border: 0;clip: rect(1px 1px 1px 1px);clip: rect(1px, 1px, 1px, 1px);height: 1px;margin: -1px;overflow: hidden;padding: 0;position: absolute;width: 1px;}#sk-container-id-1 div.sk-estimator {font-family: monospace;background-color: #f0f8ff;border: 1px dotted black;border-radius: 0.25em;box-sizing: border-box;margin-bottom: 0.5em;}#sk-container-id-1 div.sk-estimator:hover {background-color: #d4ebff;}#sk-container-id-1 div.sk-parallel-item::after {content: \"\";width: 100%;border-bottom: 1px solid gray;flex-grow: 1;}#sk-container-id-1 div.sk-label:hover label.sk-toggleable__label {background-color: #d4ebff;}#sk-container-id-1 div.sk-serial::before {content: \"\";position: absolute;border-left: 1px solid gray;box-sizing: border-box;top: 0;bottom: 0;left: 50%;z-index: 0;}#sk-container-id-1 div.sk-serial {display: flex;flex-direction: column;align-items: center;background-color: white;padding-right: 0.2em;padding-left: 0.2em;position: relative;}#sk-container-id-1 div.sk-item {position: relative;z-index: 1;}#sk-container-id-1 div.sk-parallel {display: flex;align-items: stretch;justify-content: center;background-color: white;position: relative;}#sk-container-id-1 div.sk-item::before, #sk-container-id-1 div.sk-parallel-item::before {content: \"\";position: absolute;border-left: 1px solid gray;box-sizing: border-box;top: 0;bottom: 0;left: 50%;z-index: -1;}#sk-container-id-1 div.sk-parallel-item {display: flex;flex-direction: column;z-index: 1;position: relative;background-color: white;}#sk-container-id-1 div.sk-parallel-item:first-child::after {align-self: flex-end;width: 50%;}#sk-container-id-1 div.sk-parallel-item:last-child::after {align-self: flex-start;width: 50%;}#sk-container-id-1 div.sk-parallel-item:only-child::after {width: 0;}#sk-container-id-1 div.sk-dashed-wrapped {border: 1px dashed gray;margin: 0 0.4em 0.5em 0.4em;box-sizing: border-box;padding-bottom: 0.4em;background-color: white;}#sk-container-id-1 div.sk-label label {font-family: monospace;font-weight: bold;display: inline-block;line-height: 1.2em;}#sk-container-id-1 div.sk-label-container {text-align: center;}#sk-container-id-1 div.sk-container {/* jupyter's `normalize.less` sets `[hidden] { display: none; }` but bootstrap.min.css set `[hidden] { display: none !important; }` so we also need the `!important` here to be able to override the default hidden behavior on the sphinx rendered scikit-learn.org. See: https://github.com/scikit-learn/scikit-learn/issues/21755 */display: inline-block !important;position: relative;}#sk-container-id-1 div.sk-text-repr-fallback {display: none;}</style><div id=\"sk-container-id-1\" class=\"sk-top-container\"><div class=\"sk-text-repr-fallback\"><pre>LogisticRegression()</pre><b>In a Jupyter environment, please rerun this cell to show the HTML representation or trust the notebook. <br />On GitHub, the HTML representation is unable to render, please try loading this page with nbviewer.org.</b></div><div class=\"sk-container\" hidden><div class=\"sk-item\"><div class=\"sk-estimator sk-toggleable\"><input class=\"sk-toggleable__control sk-hidden--visually\" id=\"sk-estimator-id-1\" type=\"checkbox\" checked><label for=\"sk-estimator-id-1\" class=\"sk-toggleable__label sk-toggleable__label-arrow\">LogisticRegression</label><div class=\"sk-toggleable__content\"><pre>LogisticRegression()</pre></div></div></div></div></div>"
      ],
      "text/plain": [
       "LogisticRegression()"
      ]
     },
     "execution_count": 51,
     "metadata": {},
     "output_type": "execute_result"
    }
   ],
   "source": [
    "lg.fit(c_x_train,c_y_train)"
   ]
  },
  {
   "cell_type": "code",
   "execution_count": 52,
   "id": "f5634b56-fc0a-4693-ba7a-240da3ce3e87",
   "metadata": {},
   "outputs": [
    {
     "data": {
      "text/plain": [
       "array([0, 0, 0, ..., 0, 0, 0], dtype=int64)"
      ]
     },
     "execution_count": 52,
     "metadata": {},
     "output_type": "execute_result"
    }
   ],
   "source": [
    "p1=lg.predict(c_x_test)\n",
    "p1"
   ]
  },
  {
   "cell_type": "code",
   "execution_count": 53,
   "id": "b022e6de-468f-4965-8294-5a55f8062e02",
   "metadata": {},
   "outputs": [
    {
     "data": {
      "text/plain": [
       "array([[9.99985824e-01, 1.41757913e-05],\n",
       "       [7.55581675e-01, 2.44418325e-01],\n",
       "       [9.99132177e-01, 8.67822758e-04],\n",
       "       ...,\n",
       "       [9.97885599e-01, 2.11440109e-03],\n",
       "       [9.99076642e-01, 9.23357611e-04],\n",
       "       [9.99468166e-01, 5.31834424e-04]])"
      ]
     },
     "execution_count": 53,
     "metadata": {},
     "output_type": "execute_result"
    }
   ],
   "source": [
    "p_value=lg.predict_proba(c_x_test)\n",
    "p_value"
   ]
  },
  {
   "cell_type": "code",
   "execution_count": 54,
   "id": "812388fb-a0fd-4ecb-bca0-6f46cab940f1",
   "metadata": {},
   "outputs": [],
   "source": [
    "from sklearn.metrics import confusion_matrix"
   ]
  },
  {
   "cell_type": "code",
   "execution_count": 55,
   "id": "72ffc162-1cc7-49a6-8d8a-48696a84675b",
   "metadata": {},
   "outputs": [
    {
     "data": {
      "text/plain": [
       "array([[17385,   625],\n",
       "       [  165,  1055]], dtype=int64)"
      ]
     },
     "execution_count": 55,
     "metadata": {},
     "output_type": "execute_result"
    }
   ],
   "source": [
    "m1=confusion_matrix(p1,c_y_test)\n",
    "m1"
   ]
  },
  {
   "cell_type": "markdown",
   "id": "ac3d4247-1592-4af5-a0ac-2681b5d7cd38",
   "metadata": {},
   "source": [
    "#### Accuracy"
   ]
  },
  {
   "cell_type": "code",
   "execution_count": 57,
   "id": "a34bf596-85a3-46e7-874e-e398da503597",
   "metadata": {},
   "outputs": [
    {
     "data": {
      "text/plain": [
       "95.89183567342694"
      ]
     },
     "execution_count": 57,
     "metadata": {},
     "output_type": "execute_result"
    }
   ],
   "source": [
    "ac1=m1.diagonal().sum()/m1.sum()*100  \n",
    "ac1"
   ]
  },
  {
   "cell_type": "markdown",
   "id": "bc2bc788-8ab4-4343-a5ee-54a6c5b49a1c",
   "metadata": {},
   "source": [
    "#### Precision\n",
    "###### dp=tp/tp+fp"
   ]
  },
  {
   "cell_type": "code",
   "execution_count": 59,
   "id": "0ff02adb-de6e-4a4c-834b-0e60cb8bbe54",
   "metadata": {},
   "outputs": [
    {
     "data": {
      "text/plain": [
       "0.9652970571904498"
      ]
     },
     "execution_count": 59,
     "metadata": {},
     "output_type": "execute_result"
    }
   ],
   "source": [
    "lp=(17385)/(17385+625)\n",
    "lp"
   ]
  },
  {
   "cell_type": "markdown",
   "id": "a7a5682d-5c76-4ef3-9a28-02d3f7f7930f",
   "metadata": {},
   "source": [
    "#### Recall\n",
    "###### lr=tp/tp+fn"
   ]
  },
  {
   "cell_type": "code",
   "execution_count": 61,
   "id": "4093bf69-92ec-425f-9599-c45ba1c17655",
   "metadata": {},
   "outputs": [
    {
     "data": {
      "text/plain": [
       "0.9905982905982906"
      ]
     },
     "execution_count": 61,
     "metadata": {},
     "output_type": "execute_result"
    }
   ],
   "source": [
    "lr=(17385)/(17385+165)\n",
    "lr"
   ]
  },
  {
   "cell_type": "markdown",
   "id": "3a0ae31c-98e2-4758-ac94-46a7fb51bbdf",
   "metadata": {},
   "source": [
    "#### F1 Score\n",
    "###### lf2=2*Precision*recall/Precision+recall"
   ]
  },
  {
   "cell_type": "code",
   "execution_count": 63,
   "id": "9ff1b042-566a-4932-9b3f-4958c3e369a6",
   "metadata": {},
   "outputs": [
    {
     "data": {
      "text/plain": [
       "0.9747692307692307"
      ]
     },
     "execution_count": 63,
     "metadata": {},
     "output_type": "execute_result"
    }
   ],
   "source": [
    "lf1=2*(0.96*0.99)/(0.96+0.99)\n",
    "lf1"
   ]
  },
  {
   "cell_type": "code",
   "execution_count": 64,
   "id": "1d6dc58c-bbfb-4e44-bc7a-018cfcee919b",
   "metadata": {},
   "outputs": [],
   "source": [
    "from sklearn.metrics import classification_report"
   ]
  },
  {
   "cell_type": "code",
   "execution_count": 65,
   "id": "d1010344-d545-468b-a38d-8158d48cd032",
   "metadata": {},
   "outputs": [
    {
     "name": "stdout",
     "output_type": "stream",
     "text": [
      "              precision    recall  f1-score   support\n",
      "\n",
      "           0       0.99      0.97      0.98     18010\n",
      "           1       0.63      0.86      0.73      1220\n",
      "\n",
      "    accuracy                           0.96     19230\n",
      "   macro avg       0.81      0.92      0.85     19230\n",
      "weighted avg       0.97      0.96      0.96     19230\n",
      "\n"
     ]
    }
   ],
   "source": [
    "print(classification_report(p1,c_y_test))"
   ]
  },
  {
   "cell_type": "markdown",
   "id": "83610ab7-a2bf-4027-b0a7-cbf22d24cfbd",
   "metadata": {},
   "source": [
    "## 2.Decision Tree"
   ]
  },
  {
   "cell_type": "code",
   "execution_count": 67,
   "id": "feced4a8-d8fa-4d8d-ab03-ddadf022b347",
   "metadata": {},
   "outputs": [],
   "source": [
    "from sklearn.tree import DecisionTreeClassifier\n",
    "dt=DecisionTreeClassifier()"
   ]
  },
  {
   "cell_type": "code",
   "execution_count": 68,
   "id": "67d87b82-14cb-46f7-bf72-171f8ad7bfef",
   "metadata": {},
   "outputs": [
    {
     "data": {
      "text/html": [
       "<style>#sk-container-id-2 {color: black;background-color: white;}#sk-container-id-2 pre{padding: 0;}#sk-container-id-2 div.sk-toggleable {background-color: white;}#sk-container-id-2 label.sk-toggleable__label {cursor: pointer;display: block;width: 100%;margin-bottom: 0;padding: 0.3em;box-sizing: border-box;text-align: center;}#sk-container-id-2 label.sk-toggleable__label-arrow:before {content: \"▸\";float: left;margin-right: 0.25em;color: #696969;}#sk-container-id-2 label.sk-toggleable__label-arrow:hover:before {color: black;}#sk-container-id-2 div.sk-estimator:hover label.sk-toggleable__label-arrow:before {color: black;}#sk-container-id-2 div.sk-toggleable__content {max-height: 0;max-width: 0;overflow: hidden;text-align: left;background-color: #f0f8ff;}#sk-container-id-2 div.sk-toggleable__content pre {margin: 0.2em;color: black;border-radius: 0.25em;background-color: #f0f8ff;}#sk-container-id-2 input.sk-toggleable__control:checked~div.sk-toggleable__content {max-height: 200px;max-width: 100%;overflow: auto;}#sk-container-id-2 input.sk-toggleable__control:checked~label.sk-toggleable__label-arrow:before {content: \"▾\";}#sk-container-id-2 div.sk-estimator input.sk-toggleable__control:checked~label.sk-toggleable__label {background-color: #d4ebff;}#sk-container-id-2 div.sk-label input.sk-toggleable__control:checked~label.sk-toggleable__label {background-color: #d4ebff;}#sk-container-id-2 input.sk-hidden--visually {border: 0;clip: rect(1px 1px 1px 1px);clip: rect(1px, 1px, 1px, 1px);height: 1px;margin: -1px;overflow: hidden;padding: 0;position: absolute;width: 1px;}#sk-container-id-2 div.sk-estimator {font-family: monospace;background-color: #f0f8ff;border: 1px dotted black;border-radius: 0.25em;box-sizing: border-box;margin-bottom: 0.5em;}#sk-container-id-2 div.sk-estimator:hover {background-color: #d4ebff;}#sk-container-id-2 div.sk-parallel-item::after {content: \"\";width: 100%;border-bottom: 1px solid gray;flex-grow: 1;}#sk-container-id-2 div.sk-label:hover label.sk-toggleable__label {background-color: #d4ebff;}#sk-container-id-2 div.sk-serial::before {content: \"\";position: absolute;border-left: 1px solid gray;box-sizing: border-box;top: 0;bottom: 0;left: 50%;z-index: 0;}#sk-container-id-2 div.sk-serial {display: flex;flex-direction: column;align-items: center;background-color: white;padding-right: 0.2em;padding-left: 0.2em;position: relative;}#sk-container-id-2 div.sk-item {position: relative;z-index: 1;}#sk-container-id-2 div.sk-parallel {display: flex;align-items: stretch;justify-content: center;background-color: white;position: relative;}#sk-container-id-2 div.sk-item::before, #sk-container-id-2 div.sk-parallel-item::before {content: \"\";position: absolute;border-left: 1px solid gray;box-sizing: border-box;top: 0;bottom: 0;left: 50%;z-index: -1;}#sk-container-id-2 div.sk-parallel-item {display: flex;flex-direction: column;z-index: 1;position: relative;background-color: white;}#sk-container-id-2 div.sk-parallel-item:first-child::after {align-self: flex-end;width: 50%;}#sk-container-id-2 div.sk-parallel-item:last-child::after {align-self: flex-start;width: 50%;}#sk-container-id-2 div.sk-parallel-item:only-child::after {width: 0;}#sk-container-id-2 div.sk-dashed-wrapped {border: 1px dashed gray;margin: 0 0.4em 0.5em 0.4em;box-sizing: border-box;padding-bottom: 0.4em;background-color: white;}#sk-container-id-2 div.sk-label label {font-family: monospace;font-weight: bold;display: inline-block;line-height: 1.2em;}#sk-container-id-2 div.sk-label-container {text-align: center;}#sk-container-id-2 div.sk-container {/* jupyter's `normalize.less` sets `[hidden] { display: none; }` but bootstrap.min.css set `[hidden] { display: none !important; }` so we also need the `!important` here to be able to override the default hidden behavior on the sphinx rendered scikit-learn.org. See: https://github.com/scikit-learn/scikit-learn/issues/21755 */display: inline-block !important;position: relative;}#sk-container-id-2 div.sk-text-repr-fallback {display: none;}</style><div id=\"sk-container-id-2\" class=\"sk-top-container\"><div class=\"sk-text-repr-fallback\"><pre>DecisionTreeClassifier()</pre><b>In a Jupyter environment, please rerun this cell to show the HTML representation or trust the notebook. <br />On GitHub, the HTML representation is unable to render, please try loading this page with nbviewer.org.</b></div><div class=\"sk-container\" hidden><div class=\"sk-item\"><div class=\"sk-estimator sk-toggleable\"><input class=\"sk-toggleable__control sk-hidden--visually\" id=\"sk-estimator-id-2\" type=\"checkbox\" checked><label for=\"sk-estimator-id-2\" class=\"sk-toggleable__label sk-toggleable__label-arrow\">DecisionTreeClassifier</label><div class=\"sk-toggleable__content\"><pre>DecisionTreeClassifier()</pre></div></div></div></div></div>"
      ],
      "text/plain": [
       "DecisionTreeClassifier()"
      ]
     },
     "execution_count": 68,
     "metadata": {},
     "output_type": "execute_result"
    }
   ],
   "source": [
    "dt.fit(c_x_train,c_y_train)"
   ]
  },
  {
   "cell_type": "code",
   "execution_count": 69,
   "id": "6eb397a8-ec03-4792-beef-8de4a58864ce",
   "metadata": {},
   "outputs": [],
   "source": [
    "d_p=dt.predict(c_x_test)"
   ]
  },
  {
   "cell_type": "code",
   "execution_count": 70,
   "id": "83f0c167-b5a5-4d4f-9946-13e7d49e9449",
   "metadata": {},
   "outputs": [
    {
     "data": {
      "text/plain": [
       "array([[17032,   436],\n",
       "       [  518,  1244]], dtype=int64)"
      ]
     },
     "execution_count": 70,
     "metadata": {},
     "output_type": "execute_result"
    }
   ],
   "source": [
    "d_m=confusion_matrix(d_p,c_y_test)\n",
    "d_m"
   ]
  },
  {
   "cell_type": "code",
   "execution_count": 71,
   "id": "a8be7384-c4e4-49a8-a336-1f81f7f9eced",
   "metadata": {},
   "outputs": [
    {
     "data": {
      "text/plain": [
       "95.0390015600624"
      ]
     },
     "execution_count": 71,
     "metadata": {},
     "output_type": "execute_result"
    }
   ],
   "source": [
    "d_acc=d_m.diagonal().sum()/d_m.sum()*100\n",
    "d_acc"
   ]
  },
  {
   "cell_type": "markdown",
   "id": "d2d78398-489e-436c-ba96-6c91bde85b77",
   "metadata": {},
   "source": [
    "#### Precision"
   ]
  },
  {
   "cell_type": "code",
   "execution_count": 73,
   "id": "3dddd711-a70f-4d12-9771-eb3263ba5fa5",
   "metadata": {},
   "outputs": [
    {
     "data": {
      "text/plain": [
       "0.9751990377455754"
      ]
     },
     "execution_count": 73,
     "metadata": {},
     "output_type": "execute_result"
    }
   ],
   "source": [
    "dp=(17026)/(17026+433)\n",
    "dp"
   ]
  },
  {
   "cell_type": "markdown",
   "id": "173bf6fc-7bc7-4a4d-b3bc-a9378cb75ddf",
   "metadata": {},
   "source": [
    "#### Recall\n"
   ]
  },
  {
   "cell_type": "code",
   "execution_count": 75,
   "id": "147b3cc4-f9f9-4160-b9b0-b6e857619ec9",
   "metadata": {},
   "outputs": [
    {
     "data": {
      "text/plain": [
       "0.9701424501424502"
      ]
     },
     "execution_count": 75,
     "metadata": {},
     "output_type": "execute_result"
    }
   ],
   "source": [
    "dr=(17026)/(17026+524)\n",
    "dr"
   ]
  },
  {
   "cell_type": "markdown",
   "id": "53f4dcc4-540d-4c8e-a050-541beb8c5696",
   "metadata": {},
   "source": [
    "#### F1 Score\n"
   ]
  },
  {
   "cell_type": "code",
   "execution_count": 77,
   "id": "86a038ad-f0ac-40a1-92cc-ea01984a560a",
   "metadata": {},
   "outputs": [
    {
     "data": {
      "text/plain": [
       "0.97"
      ]
     },
     "execution_count": 77,
     "metadata": {},
     "output_type": "execute_result"
    }
   ],
   "source": [
    "df1=2*(0.97*0.97)/(0.97+0.97)\n",
    "df1"
   ]
  },
  {
   "cell_type": "code",
   "execution_count": 78,
   "id": "81f1e9c7-6cc2-4eef-9c5f-e27089c32aac",
   "metadata": {},
   "outputs": [
    {
     "name": "stdout",
     "output_type": "stream",
     "text": [
      "              precision    recall  f1-score   support\n",
      "\n",
      "           0       0.97      0.98      0.97     17468\n",
      "           1       0.74      0.71      0.72      1762\n",
      "\n",
      "    accuracy                           0.95     19230\n",
      "   macro avg       0.86      0.84      0.85     19230\n",
      "weighted avg       0.95      0.95      0.95     19230\n",
      "\n"
     ]
    }
   ],
   "source": [
    "print(classification_report(d_p,c_y_test))"
   ]
  },
  {
   "cell_type": "markdown",
   "id": "dd3c5fb8-7030-49ed-bf58-b0ea6fa847d6",
   "metadata": {},
   "source": [
    "## 3.Random Forest"
   ]
  },
  {
   "cell_type": "code",
   "execution_count": 80,
   "id": "182797ee-9afc-444e-b557-9c5d92d4009f",
   "metadata": {},
   "outputs": [],
   "source": [
    "from sklearn.ensemble import RandomForestClassifier\n",
    "rf=RandomForestClassifier()"
   ]
  },
  {
   "cell_type": "code",
   "execution_count": 81,
   "id": "71b72765-3631-4435-b6df-46349ad19898",
   "metadata": {},
   "outputs": [
    {
     "data": {
      "text/html": [
       "<style>#sk-container-id-3 {color: black;background-color: white;}#sk-container-id-3 pre{padding: 0;}#sk-container-id-3 div.sk-toggleable {background-color: white;}#sk-container-id-3 label.sk-toggleable__label {cursor: pointer;display: block;width: 100%;margin-bottom: 0;padding: 0.3em;box-sizing: border-box;text-align: center;}#sk-container-id-3 label.sk-toggleable__label-arrow:before {content: \"▸\";float: left;margin-right: 0.25em;color: #696969;}#sk-container-id-3 label.sk-toggleable__label-arrow:hover:before {color: black;}#sk-container-id-3 div.sk-estimator:hover label.sk-toggleable__label-arrow:before {color: black;}#sk-container-id-3 div.sk-toggleable__content {max-height: 0;max-width: 0;overflow: hidden;text-align: left;background-color: #f0f8ff;}#sk-container-id-3 div.sk-toggleable__content pre {margin: 0.2em;color: black;border-radius: 0.25em;background-color: #f0f8ff;}#sk-container-id-3 input.sk-toggleable__control:checked~div.sk-toggleable__content {max-height: 200px;max-width: 100%;overflow: auto;}#sk-container-id-3 input.sk-toggleable__control:checked~label.sk-toggleable__label-arrow:before {content: \"▾\";}#sk-container-id-3 div.sk-estimator input.sk-toggleable__control:checked~label.sk-toggleable__label {background-color: #d4ebff;}#sk-container-id-3 div.sk-label input.sk-toggleable__control:checked~label.sk-toggleable__label {background-color: #d4ebff;}#sk-container-id-3 input.sk-hidden--visually {border: 0;clip: rect(1px 1px 1px 1px);clip: rect(1px, 1px, 1px, 1px);height: 1px;margin: -1px;overflow: hidden;padding: 0;position: absolute;width: 1px;}#sk-container-id-3 div.sk-estimator {font-family: monospace;background-color: #f0f8ff;border: 1px dotted black;border-radius: 0.25em;box-sizing: border-box;margin-bottom: 0.5em;}#sk-container-id-3 div.sk-estimator:hover {background-color: #d4ebff;}#sk-container-id-3 div.sk-parallel-item::after {content: \"\";width: 100%;border-bottom: 1px solid gray;flex-grow: 1;}#sk-container-id-3 div.sk-label:hover label.sk-toggleable__label {background-color: #d4ebff;}#sk-container-id-3 div.sk-serial::before {content: \"\";position: absolute;border-left: 1px solid gray;box-sizing: border-box;top: 0;bottom: 0;left: 50%;z-index: 0;}#sk-container-id-3 div.sk-serial {display: flex;flex-direction: column;align-items: center;background-color: white;padding-right: 0.2em;padding-left: 0.2em;position: relative;}#sk-container-id-3 div.sk-item {position: relative;z-index: 1;}#sk-container-id-3 div.sk-parallel {display: flex;align-items: stretch;justify-content: center;background-color: white;position: relative;}#sk-container-id-3 div.sk-item::before, #sk-container-id-3 div.sk-parallel-item::before {content: \"\";position: absolute;border-left: 1px solid gray;box-sizing: border-box;top: 0;bottom: 0;left: 50%;z-index: -1;}#sk-container-id-3 div.sk-parallel-item {display: flex;flex-direction: column;z-index: 1;position: relative;background-color: white;}#sk-container-id-3 div.sk-parallel-item:first-child::after {align-self: flex-end;width: 50%;}#sk-container-id-3 div.sk-parallel-item:last-child::after {align-self: flex-start;width: 50%;}#sk-container-id-3 div.sk-parallel-item:only-child::after {width: 0;}#sk-container-id-3 div.sk-dashed-wrapped {border: 1px dashed gray;margin: 0 0.4em 0.5em 0.4em;box-sizing: border-box;padding-bottom: 0.4em;background-color: white;}#sk-container-id-3 div.sk-label label {font-family: monospace;font-weight: bold;display: inline-block;line-height: 1.2em;}#sk-container-id-3 div.sk-label-container {text-align: center;}#sk-container-id-3 div.sk-container {/* jupyter's `normalize.less` sets `[hidden] { display: none; }` but bootstrap.min.css set `[hidden] { display: none !important; }` so we also need the `!important` here to be able to override the default hidden behavior on the sphinx rendered scikit-learn.org. See: https://github.com/scikit-learn/scikit-learn/issues/21755 */display: inline-block !important;position: relative;}#sk-container-id-3 div.sk-text-repr-fallback {display: none;}</style><div id=\"sk-container-id-3\" class=\"sk-top-container\"><div class=\"sk-text-repr-fallback\"><pre>RandomForestClassifier()</pre><b>In a Jupyter environment, please rerun this cell to show the HTML representation or trust the notebook. <br />On GitHub, the HTML representation is unable to render, please try loading this page with nbviewer.org.</b></div><div class=\"sk-container\" hidden><div class=\"sk-item\"><div class=\"sk-estimator sk-toggleable\"><input class=\"sk-toggleable__control sk-hidden--visually\" id=\"sk-estimator-id-3\" type=\"checkbox\" checked><label for=\"sk-estimator-id-3\" class=\"sk-toggleable__label sk-toggleable__label-arrow\">RandomForestClassifier</label><div class=\"sk-toggleable__content\"><pre>RandomForestClassifier()</pre></div></div></div></div></div>"
      ],
      "text/plain": [
       "RandomForestClassifier()"
      ]
     },
     "execution_count": 81,
     "metadata": {},
     "output_type": "execute_result"
    }
   ],
   "source": [
    "rf.fit(c_x_train,c_y_train)"
   ]
  },
  {
   "cell_type": "code",
   "execution_count": 82,
   "id": "6b5d547a-74c4-4ffe-b073-dddaea47ef1c",
   "metadata": {},
   "outputs": [
    {
     "data": {
      "text/plain": [
       "array([0, 0, 0, ..., 0, 0, 0], dtype=int64)"
      ]
     },
     "execution_count": 82,
     "metadata": {},
     "output_type": "execute_result"
    }
   ],
   "source": [
    "rp=rf.predict(c_x_test)\n",
    "rp"
   ]
  },
  {
   "cell_type": "code",
   "execution_count": 83,
   "id": "a8dbbb21-cabc-4e20-98e2-552b7e74e55d",
   "metadata": {},
   "outputs": [
    {
     "data": {
      "text/plain": [
       "array([[17485,   534],\n",
       "       [   65,  1146]], dtype=int64)"
      ]
     },
     "execution_count": 83,
     "metadata": {},
     "output_type": "execute_result"
    }
   ],
   "source": [
    "r_m=confusion_matrix(rp,c_y_test)\n",
    "r_m"
   ]
  },
  {
   "cell_type": "code",
   "execution_count": 84,
   "id": "5db3111a-42db-4158-8606-ebc9dc48a951",
   "metadata": {},
   "outputs": [
    {
     "data": {
      "text/plain": [
       "96.88507540301612"
      ]
     },
     "execution_count": 84,
     "metadata": {},
     "output_type": "execute_result"
    }
   ],
   "source": [
    "r_acc1=r_m.diagonal().sum()/r_m.sum()*100\n",
    "r_acc1"
   ]
  },
  {
   "cell_type": "markdown",
   "id": "277ee899-06b3-4dc4-a8ae-b0e6e42add7e",
   "metadata": {},
   "source": [
    "#### Precision"
   ]
  },
  {
   "cell_type": "code",
   "execution_count": 86,
   "id": "85a1ced3-c0ca-49e2-9b54-5c65ace8abf3",
   "metadata": {},
   "outputs": [
    {
     "data": {
      "text/plain": [
       "0.9704250360670292"
      ]
     },
     "execution_count": 86,
     "metadata": {},
     "output_type": "execute_result"
    }
   ],
   "source": [
    "rp1=(17489)/(17489+533)\n",
    "rp1"
   ]
  },
  {
   "cell_type": "markdown",
   "id": "d1135eb1-709f-485a-afc8-7c4e3b5b9b37",
   "metadata": {},
   "source": [
    "#### Recall"
   ]
  },
  {
   "cell_type": "code",
   "execution_count": 88,
   "id": "7a1b4acf-0615-4fd3-96eb-71fe13c61a17",
   "metadata": {},
   "outputs": [
    {
     "data": {
      "text/plain": [
       "0.9965242165242165"
      ]
     },
     "execution_count": 88,
     "metadata": {},
     "output_type": "execute_result"
    }
   ],
   "source": [
    "rr=(17489)/(17489+61)\n",
    "rr"
   ]
  },
  {
   "cell_type": "markdown",
   "id": "ac8c740b-a12f-4f34-86e5-354d1bb8e6fc",
   "metadata": {},
   "source": [
    "#### F1 Score"
   ]
  },
  {
   "cell_type": "code",
   "execution_count": 90,
   "id": "095ea608-9112-4f44-bcf3-c29709ef0501",
   "metadata": {},
   "outputs": [
    {
     "data": {
      "text/plain": [
       "0.9798979591836734"
      ]
     },
     "execution_count": 90,
     "metadata": {},
     "output_type": "execute_result"
    }
   ],
   "source": [
    "rf1=2*(0.97*0.99)/(0.97+0.99)\n",
    "rf1"
   ]
  },
  {
   "cell_type": "code",
   "execution_count": 91,
   "id": "27033e3c-7b16-4910-9062-e757321f7b75",
   "metadata": {},
   "outputs": [
    {
     "name": "stdout",
     "output_type": "stream",
     "text": [
      "              precision    recall  f1-score   support\n",
      "\n",
      "           0       1.00      0.97      0.98     18019\n",
      "           1       0.68      0.95      0.79      1211\n",
      "\n",
      "    accuracy                           0.97     19230\n",
      "   macro avg       0.84      0.96      0.89     19230\n",
      "weighted avg       0.98      0.97      0.97     19230\n",
      "\n"
     ]
    }
   ],
   "source": [
    "print(classification_report(rp,c_y_test))"
   ]
  },
  {
   "cell_type": "markdown",
   "id": "c99537fd-5316-4ff8-9ada-b533497c50af",
   "metadata": {},
   "source": [
    "## 4.KNN"
   ]
  },
  {
   "cell_type": "code",
   "execution_count": 93,
   "id": "1c0c743a-db8e-41dc-a777-c4b91fd4d3e6",
   "metadata": {},
   "outputs": [],
   "source": [
    "from sklearn.neighbors import KNeighborsClassifier\n",
    "knn=KNeighborsClassifier(n_neighbors=40)"
   ]
  },
  {
   "cell_type": "code",
   "execution_count": 94,
   "id": "c0f11df6-7cf6-45ec-a132-2863d88f70de",
   "metadata": {},
   "outputs": [
    {
     "data": {
      "text/html": [
       "<style>#sk-container-id-4 {color: black;background-color: white;}#sk-container-id-4 pre{padding: 0;}#sk-container-id-4 div.sk-toggleable {background-color: white;}#sk-container-id-4 label.sk-toggleable__label {cursor: pointer;display: block;width: 100%;margin-bottom: 0;padding: 0.3em;box-sizing: border-box;text-align: center;}#sk-container-id-4 label.sk-toggleable__label-arrow:before {content: \"▸\";float: left;margin-right: 0.25em;color: #696969;}#sk-container-id-4 label.sk-toggleable__label-arrow:hover:before {color: black;}#sk-container-id-4 div.sk-estimator:hover label.sk-toggleable__label-arrow:before {color: black;}#sk-container-id-4 div.sk-toggleable__content {max-height: 0;max-width: 0;overflow: hidden;text-align: left;background-color: #f0f8ff;}#sk-container-id-4 div.sk-toggleable__content pre {margin: 0.2em;color: black;border-radius: 0.25em;background-color: #f0f8ff;}#sk-container-id-4 input.sk-toggleable__control:checked~div.sk-toggleable__content {max-height: 200px;max-width: 100%;overflow: auto;}#sk-container-id-4 input.sk-toggleable__control:checked~label.sk-toggleable__label-arrow:before {content: \"▾\";}#sk-container-id-4 div.sk-estimator input.sk-toggleable__control:checked~label.sk-toggleable__label {background-color: #d4ebff;}#sk-container-id-4 div.sk-label input.sk-toggleable__control:checked~label.sk-toggleable__label {background-color: #d4ebff;}#sk-container-id-4 input.sk-hidden--visually {border: 0;clip: rect(1px 1px 1px 1px);clip: rect(1px, 1px, 1px, 1px);height: 1px;margin: -1px;overflow: hidden;padding: 0;position: absolute;width: 1px;}#sk-container-id-4 div.sk-estimator {font-family: monospace;background-color: #f0f8ff;border: 1px dotted black;border-radius: 0.25em;box-sizing: border-box;margin-bottom: 0.5em;}#sk-container-id-4 div.sk-estimator:hover {background-color: #d4ebff;}#sk-container-id-4 div.sk-parallel-item::after {content: \"\";width: 100%;border-bottom: 1px solid gray;flex-grow: 1;}#sk-container-id-4 div.sk-label:hover label.sk-toggleable__label {background-color: #d4ebff;}#sk-container-id-4 div.sk-serial::before {content: \"\";position: absolute;border-left: 1px solid gray;box-sizing: border-box;top: 0;bottom: 0;left: 50%;z-index: 0;}#sk-container-id-4 div.sk-serial {display: flex;flex-direction: column;align-items: center;background-color: white;padding-right: 0.2em;padding-left: 0.2em;position: relative;}#sk-container-id-4 div.sk-item {position: relative;z-index: 1;}#sk-container-id-4 div.sk-parallel {display: flex;align-items: stretch;justify-content: center;background-color: white;position: relative;}#sk-container-id-4 div.sk-item::before, #sk-container-id-4 div.sk-parallel-item::before {content: \"\";position: absolute;border-left: 1px solid gray;box-sizing: border-box;top: 0;bottom: 0;left: 50%;z-index: -1;}#sk-container-id-4 div.sk-parallel-item {display: flex;flex-direction: column;z-index: 1;position: relative;background-color: white;}#sk-container-id-4 div.sk-parallel-item:first-child::after {align-self: flex-end;width: 50%;}#sk-container-id-4 div.sk-parallel-item:last-child::after {align-self: flex-start;width: 50%;}#sk-container-id-4 div.sk-parallel-item:only-child::after {width: 0;}#sk-container-id-4 div.sk-dashed-wrapped {border: 1px dashed gray;margin: 0 0.4em 0.5em 0.4em;box-sizing: border-box;padding-bottom: 0.4em;background-color: white;}#sk-container-id-4 div.sk-label label {font-family: monospace;font-weight: bold;display: inline-block;line-height: 1.2em;}#sk-container-id-4 div.sk-label-container {text-align: center;}#sk-container-id-4 div.sk-container {/* jupyter's `normalize.less` sets `[hidden] { display: none; }` but bootstrap.min.css set `[hidden] { display: none !important; }` so we also need the `!important` here to be able to override the default hidden behavior on the sphinx rendered scikit-learn.org. See: https://github.com/scikit-learn/scikit-learn/issues/21755 */display: inline-block !important;position: relative;}#sk-container-id-4 div.sk-text-repr-fallback {display: none;}</style><div id=\"sk-container-id-4\" class=\"sk-top-container\"><div class=\"sk-text-repr-fallback\"><pre>KNeighborsClassifier(n_neighbors=40)</pre><b>In a Jupyter environment, please rerun this cell to show the HTML representation or trust the notebook. <br />On GitHub, the HTML representation is unable to render, please try loading this page with nbviewer.org.</b></div><div class=\"sk-container\" hidden><div class=\"sk-item\"><div class=\"sk-estimator sk-toggleable\"><input class=\"sk-toggleable__control sk-hidden--visually\" id=\"sk-estimator-id-4\" type=\"checkbox\" checked><label for=\"sk-estimator-id-4\" class=\"sk-toggleable__label sk-toggleable__label-arrow\">KNeighborsClassifier</label><div class=\"sk-toggleable__content\"><pre>KNeighborsClassifier(n_neighbors=40)</pre></div></div></div></div></div>"
      ],
      "text/plain": [
       "KNeighborsClassifier(n_neighbors=40)"
      ]
     },
     "execution_count": 94,
     "metadata": {},
     "output_type": "execute_result"
    }
   ],
   "source": [
    "knn.fit(c_x_train,c_y_train)"
   ]
  },
  {
   "cell_type": "code",
   "execution_count": 95,
   "id": "407015f1-83d4-46e4-b640-d3924d20906e",
   "metadata": {},
   "outputs": [],
   "source": [
    "kp=knn.predict(c_x_test)"
   ]
  },
  {
   "cell_type": "code",
   "execution_count": 96,
   "id": "80688b6a-863a-482c-9833-a402e2f16646",
   "metadata": {},
   "outputs": [
    {
     "data": {
      "text/plain": [
       "array([[17539,  1001],\n",
       "       [   11,   679]], dtype=int64)"
      ]
     },
     "execution_count": 96,
     "metadata": {},
     "output_type": "execute_result"
    }
   ],
   "source": [
    "k_c=confusion_matrix(kp,c_y_test)\n",
    "k_c"
   ]
  },
  {
   "cell_type": "code",
   "execution_count": 97,
   "id": "5bee0522-c863-4643-a911-94eb45676e91",
   "metadata": {},
   "outputs": [
    {
     "data": {
      "text/plain": [
       "94.73738949557983"
      ]
     },
     "execution_count": 97,
     "metadata": {},
     "output_type": "execute_result"
    }
   ],
   "source": [
    "k_acc=k_c.diagonal().sum()/k_c.sum()*100\n",
    "k_acc"
   ]
  },
  {
   "cell_type": "markdown",
   "id": "896c44cf-b7a8-4b0b-8fbb-441f61a9d158",
   "metadata": {},
   "source": [
    "#### Precision"
   ]
  },
  {
   "cell_type": "code",
   "execution_count": 99,
   "id": "8d9b938d-0308-4d66-be86-a77e4020182a",
   "metadata": {},
   "outputs": [
    {
     "data": {
      "text/plain": [
       "0.9460086299892125"
      ]
     },
     "execution_count": 99,
     "metadata": {},
     "output_type": "execute_result"
    }
   ],
   "source": [
    "kp1=(17539)/(17539+1001)\n",
    "kp1"
   ]
  },
  {
   "cell_type": "markdown",
   "id": "a5445e83-37fa-4cc5-a3ca-3975d88996a9",
   "metadata": {},
   "source": [
    "#### Recall"
   ]
  },
  {
   "cell_type": "code",
   "execution_count": 101,
   "id": "e17d84ab-2f71-40fc-b932-9b1adfa14e4a",
   "metadata": {},
   "outputs": [
    {
     "data": {
      "text/plain": [
       "0.9993732193732193"
      ]
     },
     "execution_count": 101,
     "metadata": {},
     "output_type": "execute_result"
    }
   ],
   "source": [
    "kr=(17539)/(17539+11)\n",
    "kr"
   ]
  },
  {
   "cell_type": "markdown",
   "id": "975a4b6a-0ba2-40c4-a8db-2405f4149391",
   "metadata": {},
   "source": [
    "#### F1 Score"
   ]
  },
  {
   "cell_type": "code",
   "execution_count": 103,
   "id": "1e69a862-4084-4e3c-9a48-be7a8cfcaa14",
   "metadata": {},
   "outputs": [
    {
     "data": {
      "text/plain": [
       "0.9643523316062176"
      ]
     },
     "execution_count": 103,
     "metadata": {},
     "output_type": "execute_result"
    }
   ],
   "source": [
    "kf1=2*(0.94*0.99)/(0.94+0.99)\n",
    "kf1"
   ]
  },
  {
   "cell_type": "code",
   "execution_count": 104,
   "id": "2a25ec9d-671b-4920-9f1e-2a64db661808",
   "metadata": {},
   "outputs": [
    {
     "name": "stdout",
     "output_type": "stream",
     "text": [
      "              precision    recall  f1-score   support\n",
      "\n",
      "           0       1.00      0.95      0.97     18540\n",
      "           1       0.40      0.98      0.57       690\n",
      "\n",
      "    accuracy                           0.95     19230\n",
      "   macro avg       0.70      0.97      0.77     19230\n",
      "weighted avg       0.98      0.95      0.96     19230\n",
      "\n"
     ]
    }
   ],
   "source": [
    "print(classification_report(kp,c_y_test))"
   ]
  },
  {
   "cell_type": "markdown",
   "id": "7300855b-958f-4ed4-a1f9-cd6725055a4b",
   "metadata": {},
   "source": [
    "## 5.SVM"
   ]
  },
  {
   "cell_type": "code",
   "execution_count": 106,
   "id": "4946af03-e18e-41b0-83cf-e6d411d78010",
   "metadata": {},
   "outputs": [],
   "source": [
    "from sklearn.svm import SVC\n",
    "svc=SVC()"
   ]
  },
  {
   "cell_type": "code",
   "execution_count": 107,
   "id": "09437654-fce1-4aec-822e-804e01af534d",
   "metadata": {},
   "outputs": [
    {
     "data": {
      "text/html": [
       "<style>#sk-container-id-5 {color: black;background-color: white;}#sk-container-id-5 pre{padding: 0;}#sk-container-id-5 div.sk-toggleable {background-color: white;}#sk-container-id-5 label.sk-toggleable__label {cursor: pointer;display: block;width: 100%;margin-bottom: 0;padding: 0.3em;box-sizing: border-box;text-align: center;}#sk-container-id-5 label.sk-toggleable__label-arrow:before {content: \"▸\";float: left;margin-right: 0.25em;color: #696969;}#sk-container-id-5 label.sk-toggleable__label-arrow:hover:before {color: black;}#sk-container-id-5 div.sk-estimator:hover label.sk-toggleable__label-arrow:before {color: black;}#sk-container-id-5 div.sk-toggleable__content {max-height: 0;max-width: 0;overflow: hidden;text-align: left;background-color: #f0f8ff;}#sk-container-id-5 div.sk-toggleable__content pre {margin: 0.2em;color: black;border-radius: 0.25em;background-color: #f0f8ff;}#sk-container-id-5 input.sk-toggleable__control:checked~div.sk-toggleable__content {max-height: 200px;max-width: 100%;overflow: auto;}#sk-container-id-5 input.sk-toggleable__control:checked~label.sk-toggleable__label-arrow:before {content: \"▾\";}#sk-container-id-5 div.sk-estimator input.sk-toggleable__control:checked~label.sk-toggleable__label {background-color: #d4ebff;}#sk-container-id-5 div.sk-label input.sk-toggleable__control:checked~label.sk-toggleable__label {background-color: #d4ebff;}#sk-container-id-5 input.sk-hidden--visually {border: 0;clip: rect(1px 1px 1px 1px);clip: rect(1px, 1px, 1px, 1px);height: 1px;margin: -1px;overflow: hidden;padding: 0;position: absolute;width: 1px;}#sk-container-id-5 div.sk-estimator {font-family: monospace;background-color: #f0f8ff;border: 1px dotted black;border-radius: 0.25em;box-sizing: border-box;margin-bottom: 0.5em;}#sk-container-id-5 div.sk-estimator:hover {background-color: #d4ebff;}#sk-container-id-5 div.sk-parallel-item::after {content: \"\";width: 100%;border-bottom: 1px solid gray;flex-grow: 1;}#sk-container-id-5 div.sk-label:hover label.sk-toggleable__label {background-color: #d4ebff;}#sk-container-id-5 div.sk-serial::before {content: \"\";position: absolute;border-left: 1px solid gray;box-sizing: border-box;top: 0;bottom: 0;left: 50%;z-index: 0;}#sk-container-id-5 div.sk-serial {display: flex;flex-direction: column;align-items: center;background-color: white;padding-right: 0.2em;padding-left: 0.2em;position: relative;}#sk-container-id-5 div.sk-item {position: relative;z-index: 1;}#sk-container-id-5 div.sk-parallel {display: flex;align-items: stretch;justify-content: center;background-color: white;position: relative;}#sk-container-id-5 div.sk-item::before, #sk-container-id-5 div.sk-parallel-item::before {content: \"\";position: absolute;border-left: 1px solid gray;box-sizing: border-box;top: 0;bottom: 0;left: 50%;z-index: -1;}#sk-container-id-5 div.sk-parallel-item {display: flex;flex-direction: column;z-index: 1;position: relative;background-color: white;}#sk-container-id-5 div.sk-parallel-item:first-child::after {align-self: flex-end;width: 50%;}#sk-container-id-5 div.sk-parallel-item:last-child::after {align-self: flex-start;width: 50%;}#sk-container-id-5 div.sk-parallel-item:only-child::after {width: 0;}#sk-container-id-5 div.sk-dashed-wrapped {border: 1px dashed gray;margin: 0 0.4em 0.5em 0.4em;box-sizing: border-box;padding-bottom: 0.4em;background-color: white;}#sk-container-id-5 div.sk-label label {font-family: monospace;font-weight: bold;display: inline-block;line-height: 1.2em;}#sk-container-id-5 div.sk-label-container {text-align: center;}#sk-container-id-5 div.sk-container {/* jupyter's `normalize.less` sets `[hidden] { display: none; }` but bootstrap.min.css set `[hidden] { display: none !important; }` so we also need the `!important` here to be able to override the default hidden behavior on the sphinx rendered scikit-learn.org. See: https://github.com/scikit-learn/scikit-learn/issues/21755 */display: inline-block !important;position: relative;}#sk-container-id-5 div.sk-text-repr-fallback {display: none;}</style><div id=\"sk-container-id-5\" class=\"sk-top-container\"><div class=\"sk-text-repr-fallback\"><pre>SVC()</pre><b>In a Jupyter environment, please rerun this cell to show the HTML representation or trust the notebook. <br />On GitHub, the HTML representation is unable to render, please try loading this page with nbviewer.org.</b></div><div class=\"sk-container\" hidden><div class=\"sk-item\"><div class=\"sk-estimator sk-toggleable\"><input class=\"sk-toggleable__control sk-hidden--visually\" id=\"sk-estimator-id-5\" type=\"checkbox\" checked><label for=\"sk-estimator-id-5\" class=\"sk-toggleable__label sk-toggleable__label-arrow\">SVC</label><div class=\"sk-toggleable__content\"><pre>SVC()</pre></div></div></div></div></div>"
      ],
      "text/plain": [
       "SVC()"
      ]
     },
     "execution_count": 107,
     "metadata": {},
     "output_type": "execute_result"
    }
   ],
   "source": [
    "svc.fit(c_x_train,c_y_train)"
   ]
  },
  {
   "cell_type": "code",
   "execution_count": 108,
   "id": "78f72115-7fce-4672-9807-b58146faa589",
   "metadata": {},
   "outputs": [],
   "source": [
    "sp=svc.predict(c_x_test)"
   ]
  },
  {
   "cell_type": "code",
   "execution_count": 109,
   "id": "f99b6e97-1672-4ff1-9a0c-a60964762cc1",
   "metadata": {},
   "outputs": [
    {
     "data": {
      "text/plain": [
       "array([[17550,  1034],\n",
       "       [    0,   646]], dtype=int64)"
      ]
     },
     "execution_count": 109,
     "metadata": {},
     "output_type": "execute_result"
    }
   ],
   "source": [
    "sm=confusion_matrix(sp,c_y_test)\n",
    "sm"
   ]
  },
  {
   "cell_type": "code",
   "execution_count": 110,
   "id": "556ad52d-e8ce-49a0-bc5d-93af75b57336",
   "metadata": {},
   "outputs": [
    {
     "data": {
      "text/plain": [
       "94.62298491939679"
      ]
     },
     "execution_count": 110,
     "metadata": {},
     "output_type": "execute_result"
    }
   ],
   "source": [
    "s_acc=sm.diagonal().sum()/sm.sum()*100\n",
    "s_acc"
   ]
  },
  {
   "cell_type": "markdown",
   "id": "d563df61-f2f7-4c14-b074-1ffd177a6a95",
   "metadata": {},
   "source": [
    "#### Precision"
   ]
  },
  {
   "cell_type": "code",
   "execution_count": 112,
   "id": "4778dee6-c1b7-41cf-b1f0-da7919780011",
   "metadata": {},
   "outputs": [
    {
     "data": {
      "text/plain": [
       "0.9443607404218682"
      ]
     },
     "execution_count": 112,
     "metadata": {},
     "output_type": "execute_result"
    }
   ],
   "source": [
    "sp1=(17550)/(17550+1034)\n",
    "sp1"
   ]
  },
  {
   "cell_type": "markdown",
   "id": "88ca25fa-dcc7-4de4-85c0-6b05f34cb0b0",
   "metadata": {},
   "source": [
    "#### Recall"
   ]
  },
  {
   "cell_type": "code",
   "execution_count": 114,
   "id": "34ec8317-de26-4c89-a0cd-e5bc9828793f",
   "metadata": {},
   "outputs": [
    {
     "data": {
      "text/plain": [
       "1.0"
      ]
     },
     "execution_count": 114,
     "metadata": {},
     "output_type": "execute_result"
    }
   ],
   "source": [
    "sr=(17550)/(17550+0)\n",
    "sr"
   ]
  },
  {
   "cell_type": "markdown",
   "id": "40b5e9a0-8371-4e8a-ba78-14a192e373b0",
   "metadata": {},
   "source": [
    "#### F1 Score"
   ]
  },
  {
   "cell_type": "code",
   "execution_count": 116,
   "id": "328cd034-c0a4-42f5-b74a-2404d4a023ac",
   "metadata": {},
   "outputs": [
    {
     "data": {
      "text/plain": [
       "0.9690721649484536"
      ]
     },
     "execution_count": 116,
     "metadata": {},
     "output_type": "execute_result"
    }
   ],
   "source": [
    "sf1=2*(0.94*1.0)/(0.94+1.0)\n",
    "sf1"
   ]
  },
  {
   "cell_type": "code",
   "execution_count": 117,
   "id": "e8cade86-3824-442f-9ab8-9b6d5981c7af",
   "metadata": {},
   "outputs": [
    {
     "name": "stdout",
     "output_type": "stream",
     "text": [
      "              precision    recall  f1-score   support\n",
      "\n",
      "           0       1.00      0.94      0.97     18584\n",
      "           1       0.38      1.00      0.56       646\n",
      "\n",
      "    accuracy                           0.95     19230\n",
      "   macro avg       0.69      0.97      0.76     19230\n",
      "weighted avg       0.98      0.95      0.96     19230\n",
      "\n"
     ]
    }
   ],
   "source": [
    "print(classification_report(sp,c_y_test))"
   ]
  },
  {
   "cell_type": "markdown",
   "id": "b9322b31-b1ca-48f8-aa80-0e958936286c",
   "metadata": {},
   "source": [
    "## 6.Navie-Bayes"
   ]
  },
  {
   "cell_type": "code",
   "execution_count": 119,
   "id": "087951ac-ed05-44b8-bd89-b67eacbb8617",
   "metadata": {},
   "outputs": [],
   "source": [
    "from sklearn.naive_bayes import MultinomialNB\n",
    "nb=MultinomialNB()"
   ]
  },
  {
   "cell_type": "code",
   "execution_count": 120,
   "id": "b223d31e-2311-4be5-a95f-d8215fa9f21f",
   "metadata": {},
   "outputs": [
    {
     "data": {
      "text/html": [
       "<style>#sk-container-id-6 {color: black;background-color: white;}#sk-container-id-6 pre{padding: 0;}#sk-container-id-6 div.sk-toggleable {background-color: white;}#sk-container-id-6 label.sk-toggleable__label {cursor: pointer;display: block;width: 100%;margin-bottom: 0;padding: 0.3em;box-sizing: border-box;text-align: center;}#sk-container-id-6 label.sk-toggleable__label-arrow:before {content: \"▸\";float: left;margin-right: 0.25em;color: #696969;}#sk-container-id-6 label.sk-toggleable__label-arrow:hover:before {color: black;}#sk-container-id-6 div.sk-estimator:hover label.sk-toggleable__label-arrow:before {color: black;}#sk-container-id-6 div.sk-toggleable__content {max-height: 0;max-width: 0;overflow: hidden;text-align: left;background-color: #f0f8ff;}#sk-container-id-6 div.sk-toggleable__content pre {margin: 0.2em;color: black;border-radius: 0.25em;background-color: #f0f8ff;}#sk-container-id-6 input.sk-toggleable__control:checked~div.sk-toggleable__content {max-height: 200px;max-width: 100%;overflow: auto;}#sk-container-id-6 input.sk-toggleable__control:checked~label.sk-toggleable__label-arrow:before {content: \"▾\";}#sk-container-id-6 div.sk-estimator input.sk-toggleable__control:checked~label.sk-toggleable__label {background-color: #d4ebff;}#sk-container-id-6 div.sk-label input.sk-toggleable__control:checked~label.sk-toggleable__label {background-color: #d4ebff;}#sk-container-id-6 input.sk-hidden--visually {border: 0;clip: rect(1px 1px 1px 1px);clip: rect(1px, 1px, 1px, 1px);height: 1px;margin: -1px;overflow: hidden;padding: 0;position: absolute;width: 1px;}#sk-container-id-6 div.sk-estimator {font-family: monospace;background-color: #f0f8ff;border: 1px dotted black;border-radius: 0.25em;box-sizing: border-box;margin-bottom: 0.5em;}#sk-container-id-6 div.sk-estimator:hover {background-color: #d4ebff;}#sk-container-id-6 div.sk-parallel-item::after {content: \"\";width: 100%;border-bottom: 1px solid gray;flex-grow: 1;}#sk-container-id-6 div.sk-label:hover label.sk-toggleable__label {background-color: #d4ebff;}#sk-container-id-6 div.sk-serial::before {content: \"\";position: absolute;border-left: 1px solid gray;box-sizing: border-box;top: 0;bottom: 0;left: 50%;z-index: 0;}#sk-container-id-6 div.sk-serial {display: flex;flex-direction: column;align-items: center;background-color: white;padding-right: 0.2em;padding-left: 0.2em;position: relative;}#sk-container-id-6 div.sk-item {position: relative;z-index: 1;}#sk-container-id-6 div.sk-parallel {display: flex;align-items: stretch;justify-content: center;background-color: white;position: relative;}#sk-container-id-6 div.sk-item::before, #sk-container-id-6 div.sk-parallel-item::before {content: \"\";position: absolute;border-left: 1px solid gray;box-sizing: border-box;top: 0;bottom: 0;left: 50%;z-index: -1;}#sk-container-id-6 div.sk-parallel-item {display: flex;flex-direction: column;z-index: 1;position: relative;background-color: white;}#sk-container-id-6 div.sk-parallel-item:first-child::after {align-self: flex-end;width: 50%;}#sk-container-id-6 div.sk-parallel-item:last-child::after {align-self: flex-start;width: 50%;}#sk-container-id-6 div.sk-parallel-item:only-child::after {width: 0;}#sk-container-id-6 div.sk-dashed-wrapped {border: 1px dashed gray;margin: 0 0.4em 0.5em 0.4em;box-sizing: border-box;padding-bottom: 0.4em;background-color: white;}#sk-container-id-6 div.sk-label label {font-family: monospace;font-weight: bold;display: inline-block;line-height: 1.2em;}#sk-container-id-6 div.sk-label-container {text-align: center;}#sk-container-id-6 div.sk-container {/* jupyter's `normalize.less` sets `[hidden] { display: none; }` but bootstrap.min.css set `[hidden] { display: none !important; }` so we also need the `!important` here to be able to override the default hidden behavior on the sphinx rendered scikit-learn.org. See: https://github.com/scikit-learn/scikit-learn/issues/21755 */display: inline-block !important;position: relative;}#sk-container-id-6 div.sk-text-repr-fallback {display: none;}</style><div id=\"sk-container-id-6\" class=\"sk-top-container\"><div class=\"sk-text-repr-fallback\"><pre>MultinomialNB()</pre><b>In a Jupyter environment, please rerun this cell to show the HTML representation or trust the notebook. <br />On GitHub, the HTML representation is unable to render, please try loading this page with nbviewer.org.</b></div><div class=\"sk-container\" hidden><div class=\"sk-item\"><div class=\"sk-estimator sk-toggleable\"><input class=\"sk-toggleable__control sk-hidden--visually\" id=\"sk-estimator-id-6\" type=\"checkbox\" checked><label for=\"sk-estimator-id-6\" class=\"sk-toggleable__label sk-toggleable__label-arrow\">MultinomialNB</label><div class=\"sk-toggleable__content\"><pre>MultinomialNB()</pre></div></div></div></div></div>"
      ],
      "text/plain": [
       "MultinomialNB()"
      ]
     },
     "execution_count": 120,
     "metadata": {},
     "output_type": "execute_result"
    }
   ],
   "source": [
    "nb.fit(c_x_train,c_y_train)"
   ]
  },
  {
   "cell_type": "code",
   "execution_count": 121,
   "id": "a6fd161f-4521-41d1-9d02-c0b00ac9a122",
   "metadata": {},
   "outputs": [],
   "source": [
    "np=nb.predict(c_x_test)"
   ]
  },
  {
   "cell_type": "code",
   "execution_count": 122,
   "id": "f9c53054-0732-45da-924c-50bfd74c9393",
   "metadata": {},
   "outputs": [
    {
     "data": {
      "text/plain": [
       "array([[16748,  1207],\n",
       "       [  802,   473]], dtype=int64)"
      ]
     },
     "execution_count": 122,
     "metadata": {},
     "output_type": "execute_result"
    }
   ],
   "source": [
    "n_m=confusion_matrix(np,c_y_test)\n",
    "n_m"
   ]
  },
  {
   "cell_type": "code",
   "execution_count": 123,
   "id": "b5d8a84c-2b91-457e-a63d-c49a08a137ae",
   "metadata": {},
   "outputs": [
    {
     "data": {
      "text/plain": [
       "89.55278211128446"
      ]
     },
     "execution_count": 123,
     "metadata": {},
     "output_type": "execute_result"
    }
   ],
   "source": [
    "n_acc=n_m.diagonal().sum()/n_m.sum()*100\n",
    "n_acc"
   ]
  },
  {
   "cell_type": "markdown",
   "id": "28bd3e4c-10cd-46e1-92b5-b624672c6078",
   "metadata": {},
   "source": [
    "#### Precision"
   ]
  },
  {
   "cell_type": "code",
   "execution_count": 125,
   "id": "e071368f-5119-406a-8c41-80f9b0de1219",
   "metadata": {},
   "outputs": [
    {
     "data": {
      "text/plain": [
       "0.9327763854079644"
      ]
     },
     "execution_count": 125,
     "metadata": {},
     "output_type": "execute_result"
    }
   ],
   "source": [
    "np1=(16748)/(16748+1207)\n",
    "np1"
   ]
  },
  {
   "cell_type": "markdown",
   "id": "7525ca2f-7f0c-4a10-b3de-dcb71f0cca8e",
   "metadata": {},
   "source": [
    "#### Recall"
   ]
  },
  {
   "cell_type": "code",
   "execution_count": 127,
   "id": "97864cc9-e421-4e7d-88f2-b1c895d42d74",
   "metadata": {},
   "outputs": [
    {
     "data": {
      "text/plain": [
       "0.972533534637942"
      ]
     },
     "execution_count": 127,
     "metadata": {},
     "output_type": "execute_result"
    }
   ],
   "source": [
    "nr=(16748)/(16748+473)\n",
    "nr"
   ]
  },
  {
   "cell_type": "markdown",
   "id": "7fad3192-a7a0-4089-b98e-27ef2e0be39f",
   "metadata": {},
   "source": [
    "#### F1 Score"
   ]
  },
  {
   "cell_type": "code",
   "execution_count": 129,
   "id": "0ed9a09f-6234-4862-ac4d-5a7d55420742",
   "metadata": {},
   "outputs": [
    {
     "data": {
      "text/plain": [
       "0.9495789473684211"
      ]
     },
     "execution_count": 129,
     "metadata": {},
     "output_type": "execute_result"
    }
   ],
   "source": [
    "nf1=2*(0.93*0.97)/(0.93+0.97)\n",
    "nf1"
   ]
  },
  {
   "cell_type": "code",
   "execution_count": 130,
   "id": "c3ae50c3-7542-4f03-afbd-07dc77382e58",
   "metadata": {},
   "outputs": [
    {
     "name": "stdout",
     "output_type": "stream",
     "text": [
      "              precision    recall  f1-score   support\n",
      "\n",
      "           0       0.95      0.93      0.94     17955\n",
      "           1       0.28      0.37      0.32      1275\n",
      "\n",
      "    accuracy                           0.90     19230\n",
      "   macro avg       0.62      0.65      0.63     19230\n",
      "weighted avg       0.91      0.90      0.90     19230\n",
      "\n"
     ]
    }
   ],
   "source": [
    "print(classification_report(np,c_y_test))"
   ]
  },
  {
   "cell_type": "markdown",
   "id": "331106e0-262b-435e-81e2-64a11710d9ae",
   "metadata": {},
   "source": [
    "## Report"
   ]
  },
  {
   "cell_type": "code",
   "execution_count": 132,
   "id": "004b4d37-9f2b-4725-8710-3d088de55615",
   "metadata": {},
   "outputs": [],
   "source": [
    "list1=[\"Logistic\",\"DT\",\"RF\",\"KNN\",\"SVM\",\"NB\"]\n",
    "list2=[ac1,d_acc,r_acc1,k_acc,s_acc,n_acc]\n",
    "list3=[lp,dp,rp1,kp1,sp1,np1]\n",
    "list4=[lr,dr,rr,kr,sr,nr]\n",
    "list5=[lf1,df1,rf1,kf1,sf1,nf1]"
   ]
  },
  {
   "cell_type": "code",
   "execution_count": 133,
   "id": "e6853c45-a281-4da3-ada8-2aba5fe0da3e",
   "metadata": {},
   "outputs": [
    {
     "data": {
      "text/html": [
       "<div>\n",
       "<style scoped>\n",
       "    .dataframe tbody tr th:only-of-type {\n",
       "        vertical-align: middle;\n",
       "    }\n",
       "\n",
       "    .dataframe tbody tr th {\n",
       "        vertical-align: top;\n",
       "    }\n",
       "\n",
       "    .dataframe thead th {\n",
       "        text-align: right;\n",
       "    }\n",
       "</style>\n",
       "<table border=\"1\" class=\"dataframe\">\n",
       "  <thead>\n",
       "    <tr style=\"text-align: right;\">\n",
       "      <th></th>\n",
       "      <th>Model_Name</th>\n",
       "      <th>Accuracy</th>\n",
       "      <th>Precision</th>\n",
       "      <th>Recall</th>\n",
       "      <th>F1-Score</th>\n",
       "    </tr>\n",
       "  </thead>\n",
       "  <tbody>\n",
       "    <tr>\n",
       "      <th>0</th>\n",
       "      <td>Logistic</td>\n",
       "      <td>95.891836</td>\n",
       "      <td>0.965297</td>\n",
       "      <td>0.990598</td>\n",
       "      <td>0.974769</td>\n",
       "    </tr>\n",
       "    <tr>\n",
       "      <th>1</th>\n",
       "      <td>DT</td>\n",
       "      <td>95.039002</td>\n",
       "      <td>0.975199</td>\n",
       "      <td>0.970142</td>\n",
       "      <td>0.970000</td>\n",
       "    </tr>\n",
       "    <tr>\n",
       "      <th>2</th>\n",
       "      <td>RF</td>\n",
       "      <td>96.885075</td>\n",
       "      <td>0.970425</td>\n",
       "      <td>0.996524</td>\n",
       "      <td>0.979898</td>\n",
       "    </tr>\n",
       "    <tr>\n",
       "      <th>3</th>\n",
       "      <td>KNN</td>\n",
       "      <td>94.737389</td>\n",
       "      <td>0.946009</td>\n",
       "      <td>0.999373</td>\n",
       "      <td>0.964352</td>\n",
       "    </tr>\n",
       "    <tr>\n",
       "      <th>4</th>\n",
       "      <td>SVM</td>\n",
       "      <td>94.622985</td>\n",
       "      <td>0.944361</td>\n",
       "      <td>1.000000</td>\n",
       "      <td>0.969072</td>\n",
       "    </tr>\n",
       "    <tr>\n",
       "      <th>5</th>\n",
       "      <td>NB</td>\n",
       "      <td>89.552782</td>\n",
       "      <td>0.932776</td>\n",
       "      <td>0.972534</td>\n",
       "      <td>0.949579</td>\n",
       "    </tr>\n",
       "  </tbody>\n",
       "</table>\n",
       "</div>"
      ],
      "text/plain": [
       "  Model_Name   Accuracy  Precision    Recall  F1-Score\n",
       "0   Logistic  95.891836   0.965297  0.990598  0.974769\n",
       "1         DT  95.039002   0.975199  0.970142  0.970000\n",
       "2         RF  96.885075   0.970425  0.996524  0.979898\n",
       "3        KNN  94.737389   0.946009  0.999373  0.964352\n",
       "4        SVM  94.622985   0.944361  1.000000  0.969072\n",
       "5         NB  89.552782   0.932776  0.972534  0.949579"
      ]
     },
     "execution_count": 133,
     "metadata": {},
     "output_type": "execute_result"
    }
   ],
   "source": [
    "result=pd.DataFrame({\"Model_Name\":list1,\"Accuracy\":list2,\"Precision\":list3,\"Recall\":list4,\"F1-Score\":list5})\n",
    "result"
   ]
  },
  {
   "cell_type": "markdown",
   "id": "b9885906-bbd5-493e-9f4f-0dedc23d1886",
   "metadata": {},
   "source": [
    " #### Conclusion- Random Forest is the best model in this comparison due to its superior accuracy, high recall, and balanced F1-Score. \n",
    "####                      It strikes the best balance between precision and recall, making it the most reliable model "
   ]
  },
  {
   "cell_type": "markdown",
   "id": "ab6362d3-e999-4c82-9a42-e52b562bcf3d",
   "metadata": {},
   "source": [
    "# Class Imbalance and Sampling"
   ]
  },
  {
   "cell_type": "code",
   "execution_count": 136,
   "id": "efeeb3b4-ea2c-47c8-8ea2-26f6b58c065b",
   "metadata": {},
   "outputs": [
    {
     "data": {
      "text/plain": [
       "diabetes\n",
       "0    87664\n",
       "1     8482\n",
       "Name: count, dtype: int64"
      ]
     },
     "execution_count": 136,
     "metadata": {},
     "output_type": "execute_result"
    }
   ],
   "source": [
    "data.diabetes.value_counts()"
   ]
  },
  {
   "cell_type": "code",
   "execution_count": 137,
   "id": "e478d551-4a92-4254-8c89-5f834da77b8c",
   "metadata": {},
   "outputs": [
    {
     "data": {
      "text/plain": [
       "(87664, 8482)"
      ]
     },
     "execution_count": 137,
     "metadata": {},
     "output_type": "execute_result"
    }
   ],
   "source": [
    "c_0,c_1=data[\"diabetes\"].value_counts()\n",
    "c_0,c_1"
   ]
  },
  {
   "cell_type": "code",
   "execution_count": 138,
   "id": "d21ef151-f164-4257-a7e5-1f2650efedb8",
   "metadata": {},
   "outputs": [
    {
     "data": {
      "text/plain": [
       "((87664, 9), (8482, 9))"
      ]
     },
     "execution_count": 138,
     "metadata": {},
     "output_type": "execute_result"
    }
   ],
   "source": [
    "train_0=data[data[\"diabetes\"]==0]\n",
    "train_1=data[data[\"diabetes\"]==1]\n",
    "train_0.shape,train_1.shape"
   ]
  },
  {
   "cell_type": "markdown",
   "id": "6c9844e2-7b65-42d8-9dd9-4e964915e57a",
   "metadata": {},
   "source": [
    "## Random Oversampling"
   ]
  },
  {
   "cell_type": "code",
   "execution_count": 140,
   "id": "d9581bba-2fd2-4e90-952c-7a81160125a2",
   "metadata": {},
   "outputs": [],
   "source": [
    "class_0_over=train_0.sample(c_0,replace=True)"
   ]
  },
  {
   "cell_type": "code",
   "execution_count": 141,
   "id": "b5ceae37-42cc-4294-a0b5-61eb1e51f7bc",
   "metadata": {},
   "outputs": [],
   "source": [
    "class_0_1=pd.concat([class_0_over,train_1],axis=0)"
   ]
  },
  {
   "cell_type": "code",
   "execution_count": 142,
   "id": "d6bb54f6-bc05-4ac9-a0e9-bcbbd79df701",
   "metadata": {},
   "outputs": [
    {
     "data": {
      "text/plain": [
       "(96146, 9)"
      ]
     },
     "execution_count": 142,
     "metadata": {},
     "output_type": "execute_result"
    }
   ],
   "source": [
    "class_0_1.shape"
   ]
  },
  {
   "cell_type": "code",
   "execution_count": 143,
   "id": "d0c7385d-c792-450b-8eb9-353ac36e5746",
   "metadata": {},
   "outputs": [
    {
     "data": {
      "text/plain": [
       "diabetes\n",
       "0    87664\n",
       "1     8482\n",
       "Name: count, dtype: int64"
      ]
     },
     "execution_count": 143,
     "metadata": {},
     "output_type": "execute_result"
    }
   ],
   "source": [
    "class_0_1[\"diabetes\"].value_counts()\n"
   ]
  },
  {
   "cell_type": "markdown",
   "id": "89208d39-f02f-473a-93c9-40eacc42816b",
   "metadata": {},
   "source": [
    "## SMOTE"
   ]
  },
  {
   "cell_type": "code",
   "execution_count": 145,
   "id": "5155fc34-bfd2-4bf6-b2a4-a0866c2016f4",
   "metadata": {},
   "outputs": [],
   "source": [
    "from imblearn.over_sampling import SMOTE\n",
    "smote=SMOTE()"
   ]
  },
  {
   "cell_type": "code",
   "execution_count": 146,
   "id": "406ea6f8-732a-4b56-a320-b1aa709ca3fe",
   "metadata": {},
   "outputs": [],
   "source": [
    "x_smote,y_smote=smote.fit_resample(x,y)"
   ]
  },
  {
   "cell_type": "code",
   "execution_count": 147,
   "id": "acb5439b-d1dc-4239-b2b7-684c0ac57c73",
   "metadata": {},
   "outputs": [
    {
     "data": {
      "text/plain": [
       "((175328, 8), (175328,))"
      ]
     },
     "execution_count": 147,
     "metadata": {},
     "output_type": "execute_result"
    }
   ],
   "source": [
    "x_smote.shape,y_smote.shape"
   ]
  },
  {
   "cell_type": "code",
   "execution_count": 148,
   "id": "f52b06d3-1986-4613-933a-773ccd47ef18",
   "metadata": {},
   "outputs": [
    {
     "data": {
      "text/plain": [
       "diabetes\n",
       "0    87664\n",
       "1    87664\n",
       "Name: count, dtype: int64"
      ]
     },
     "execution_count": 148,
     "metadata": {},
     "output_type": "execute_result"
    }
   ],
   "source": [
    "y_smote.value_counts()"
   ]
  },
  {
   "cell_type": "markdown",
   "id": "6b6dafa3-b765-4dc6-957a-35192897a921",
   "metadata": {},
   "source": [
    "# Outlier Tretment"
   ]
  },
  {
   "cell_type": "code",
   "execution_count": 150,
   "id": "a5311056-79eb-46f7-9712-4b894884ad73",
   "metadata": {},
   "outputs": [
    {
     "data": {
      "text/plain": [
       "<Axes: >"
      ]
     },
     "execution_count": 150,
     "metadata": {},
     "output_type": "execute_result"
    },
    {
     "data": {
      "image/png": "[encoded data removed]",
      "text/plain": [
       "<Figure size 1200x600 with 1 Axes>"
      ]
     },
     "metadata": {},
     "output_type": "display_data"
    }
   ],
   "source": [
    "plt.figure(figsize=(12,6))\n",
    "x_smote.boxplot()\n"
   ]
  },
  {
   "cell_type": "markdown",
   "id": "dbefc69c-56cb-4193-a5d9-2bcc518d4717",
   "metadata": {},
   "source": [
    "#### Age"
   ]
  },
  {
   "cell_type": "code",
   "execution_count": 152,
   "id": "8dbaccf6-efd6-4928-be10-8f2b9c68300d",
   "metadata": {},
   "outputs": [
    {
     "data": {
      "text/plain": [
       "<Axes: ylabel='age'>"
      ]
     },
     "execution_count": 152,
     "metadata": {},
     "output_type": "execute_result"
    },
    {
     "data": {
      "image/png": "[encoded data removed]",
      "text/plain": [
       "<Figure size 640x480 with 1 Axes>"
      ]
     },
     "metadata": {},
     "output_type": "display_data"
    }
   ],
   "source": [
    "sns.boxplot(x_smote[\"age\"])"
   ]
  },
  {
   "cell_type": "markdown",
   "id": "0bace724-2a7e-4c41-a207-5a975f94ba1f",
   "metadata": {},
   "source": [
    "#### Hypertension"
   ]
  },
  {
   "cell_type": "code",
   "execution_count": 154,
   "id": "9cc4996e-f629-4f5f-a654-42a75fb158de",
   "metadata": {},
   "outputs": [
    {
     "data": {
      "text/plain": [
       "<Axes: ylabel='hypertension'>"
      ]
     },
     "execution_count": 154,
     "metadata": {},
     "output_type": "execute_result"
    },
    {
     "data": {
      "image/png": "[encoded data removed]",
      "text/plain": [
       "<Figure size 640x480 with 1 Axes>"
      ]
     },
     "metadata": {},
     "output_type": "display_data"
    }
   ],
   "source": [
    "sns.boxplot(x_smote[\"hypertension\"])\n",
    "# binary"
   ]
  },
  {
   "cell_type": "markdown",
   "id": "a0abebc7-f123-4056-921a-655fbce1270e",
   "metadata": {},
   "source": [
    "#### Heart_Disease"
   ]
  },
  {
   "cell_type": "code",
   "execution_count": 156,
   "id": "d5c79cc7-60af-4a0a-a067-7454c9285de8",
   "metadata": {},
   "outputs": [
    {
     "data": {
      "text/plain": [
       "<Axes: ylabel='heart_disease'>"
      ]
     },
     "execution_count": 156,
     "metadata": {},
     "output_type": "execute_result"
    },
    {
     "data": {
      "image/png": "[encoded data removed]",
      "text/plain": [
       "<Figure size 640x480 with 1 Axes>"
      ]
     },
     "metadata": {},
     "output_type": "display_data"
    }
   ],
   "source": [
    "sns.boxplot(x_smote[\"heart_disease\"])\n",
    "# binary"
   ]
  },
  {
   "cell_type": "markdown",
   "id": "52fee307-7e2b-49d5-bf2b-cdd313d8c796",
   "metadata": {},
   "source": [
    "#### BMI"
   ]
  },
  {
   "cell_type": "code",
   "execution_count": 158,
   "id": "ba1a0765-a61d-4be7-a1cc-7badbdcf11b3",
   "metadata": {},
   "outputs": [
    {
     "data": {
      "text/plain": [
       "<Axes: ylabel='bmi'>"
      ]
     },
     "execution_count": 158,
     "metadata": {},
     "output_type": "execute_result"
    },
    {
     "data": {
      "image/png": "[encoded data removed]",
      "text/plain": [
       "<Figure size 640x480 with 1 Axes>"
      ]
     },
     "metadata": {},
     "output_type": "display_data"
    }
   ],
   "source": [
    "sns.boxplot(x_smote[\"bmi\"])"
   ]
  },
  {
   "cell_type": "code",
   "execution_count": 159,
   "id": "1ffa220a-7957-482c-9843-905463fd1f7b",
   "metadata": {},
   "outputs": [
    {
     "data": {
      "text/plain": [
       "<Axes: xlabel='bmi', ylabel='Count'>"
      ]
     },
     "execution_count": 159,
     "metadata": {},
     "output_type": "execute_result"
    },
    {
     "data": {
      "image/png": "[encoded data removed]",
      "text/plain": [
       "<Figure size 640x480 with 1 Axes>"
      ]
     },
     "metadata": {},
     "output_type": "display_data"
    }
   ],
   "source": [
    "sns.histplot(x_smote[\"bmi\"])"
   ]
  },
  {
   "cell_type": "code",
   "execution_count": 160,
   "id": "f30a15b6-9603-40a5-9f5c-cd4672f1bf38",
   "metadata": {},
   "outputs": [
    {
     "data": {
      "text/plain": [
       "<Axes: xlabel='bmi', ylabel='Density'>"
      ]
     },
     "execution_count": 160,
     "metadata": {},
     "output_type": "execute_result"
    },
    {
     "data": {
      "image/png": "[encoded data removed]",
      "text/plain": [
       "<Figure size 640x480 with 1 Axes>"
      ]
     },
     "metadata": {},
     "output_type": "display_data"
    }
   ],
   "source": [
    "sns.distplot(x_smote[\"bmi\"])"
   ]
  },
  {
   "cell_type": "code",
   "execution_count": 161,
   "id": "b0ea0248-3280-4998-83fb-5cf39698ed0d",
   "metadata": {},
   "outputs": [
    {
     "data": {
      "text/plain": [
       "count    175328.000000\n",
       "mean         29.410487\n",
       "std           7.395630\n",
       "min          10.010000\n",
       "25%          25.700000\n",
       "50%          27.320000\n",
       "75%          32.900000\n",
       "max          95.690000\n",
       "Name: bmi, dtype: float64"
      ]
     },
     "execution_count": 161,
     "metadata": {},
     "output_type": "execute_result"
    }
   ],
   "source": [
    "x_smote[\"bmi\"].describe()"
   ]
  },
  {
   "cell_type": "code",
   "execution_count": 162,
   "id": "94093734-22c5-4a8e-bba5-12a7a0ec845a",
   "metadata": {},
   "outputs": [
    {
     "data": {
      "text/plain": [
       "7.199999999999999"
      ]
     },
     "execution_count": 162,
     "metadata": {},
     "output_type": "execute_result"
    }
   ],
   "source": [
    "IQR=x_smote.bmi.quantile(0.75)-x_smote.bmi.quantile(0.25)\n",
    "IQR"
   ]
  },
  {
   "cell_type": "code",
   "execution_count": 163,
   "id": "356eef8c-3bd4-45a6-a228-a0afa5c74fae",
   "metadata": {},
   "outputs": [
    {
     "data": {
      "text/plain": [
       "54.5"
      ]
     },
     "execution_count": 163,
     "metadata": {},
     "output_type": "execute_result"
    }
   ],
   "source": [
    "up3=x_smote.bmi.quantile(0.75)+(3*IQR)\n",
    "up3"
   ]
  },
  {
   "cell_type": "code",
   "execution_count": 164,
   "id": "67481844-67ea-48be-bc96-ebf14816ec43",
   "metadata": {},
   "outputs": [],
   "source": [
    "x_smote.loc[x_smote[\"bmi\"]>0.0,\"bmi\"]=0.0"
   ]
  },
  {
   "cell_type": "code",
   "execution_count": 165,
   "id": "8e22b2d8-7f7a-4a39-a489-e6d3a5de5be9",
   "metadata": {},
   "outputs": [
    {
     "data": {
      "text/plain": [
       "(array([     0.,      0.,      0.,      0.,      0., 175328.,      0.,\n",
       "             0.,      0.,      0.]),\n",
       " array([-0.5, -0.4, -0.3, -0.2, -0.1,  0. ,  0.1,  0.2,  0.3,  0.4,  0.5]),\n",
       " <BarContainer object of 10 artists>)"
      ]
     },
     "execution_count": 165,
     "metadata": {},
     "output_type": "execute_result"
    },
    {
     "data": {
      "image/png": "[encoded data removed]",
      "text/plain": [
       "<Figure size 640x480 with 1 Axes>"
      ]
     },
     "metadata": {},
     "output_type": "display_data"
    }
   ],
   "source": [
    "plt.hist(x_smote[\"bmi\"])"
   ]
  },
  {
   "cell_type": "code",
   "execution_count": 166,
   "id": "340943de-7089-44ce-8603-cf5d2f86a06b",
   "metadata": {},
   "outputs": [
    {
     "data": {
      "text/plain": [
       "0.0"
      ]
     },
     "execution_count": 166,
     "metadata": {},
     "output_type": "execute_result"
    }
   ],
   "source": [
    "x_smote[\"bmi\"].skew()"
   ]
  },
  {
   "cell_type": "code",
   "execution_count": 167,
   "id": "fa4298cd-333d-4e14-88dd-36bc8e7955d9",
   "metadata": {},
   "outputs": [
    {
     "data": {
      "text/plain": [
       "<Axes: xlabel='bmi', ylabel='Density'>"
      ]
     },
     "execution_count": 167,
     "metadata": {},
     "output_type": "execute_result"
    },
    {
     "data": {
      "image/png": "[encoded data removed]",
      "text/plain": [
       "<Figure size 640x480 with 1 Axes>"
      ]
     },
     "metadata": {},
     "output_type": "display_data"
    }
   ],
   "source": [
    "sns.distplot(x_smote[\"bmi\"])"
   ]
  },
  {
   "cell_type": "markdown",
   "id": "23437100-e1f8-4b6e-8242-c8150951003a",
   "metadata": {},
   "source": [
    "#### HbA1c_level"
   ]
  },
  {
   "cell_type": "code",
   "execution_count": 169,
   "id": "99a94710-b530-42d1-b557-858a3483e75a",
   "metadata": {},
   "outputs": [
    {
     "data": {
      "text/plain": [
       "<Axes: ylabel='HbA1c_level'>"
      ]
     },
     "execution_count": 169,
     "metadata": {},
     "output_type": "execute_result"
    },
    {
     "data": {
      "image/png": "[encoded data removed]",
      "text/plain": [
       "<Figure size 640x480 with 1 Axes>"
      ]
     },
     "metadata": {},
     "output_type": "display_data"
    }
   ],
   "source": [
    "sns.boxplot(x_smote[\"HbA1c_level\"])"
   ]
  },
  {
   "cell_type": "code",
   "execution_count": 170,
   "id": "ae6e0073-902a-472a-bd74-a69f789b7514",
   "metadata": {},
   "outputs": [
    {
     "data": {
      "text/plain": [
       "<Axes: xlabel='HbA1c_level', ylabel='Count'>"
      ]
     },
     "execution_count": 170,
     "metadata": {},
     "output_type": "execute_result"
    },
    {
     "data": {
      "image/png": "[encoded data removed]",
      "text/plain": [
       "<Figure size 640x480 with 1 Axes>"
      ]
     },
     "metadata": {},
     "output_type": "display_data"
    }
   ],
   "source": [
    "sns.histplot(x_smote[\"HbA1c_level\"])"
   ]
  },
  {
   "cell_type": "code",
   "execution_count": 171,
   "id": "410df4d4-a280-4b8c-9a6c-8e6b1c0f70d2",
   "metadata": {},
   "outputs": [
    {
     "data": {
      "text/plain": [
       "<Axes: xlabel='HbA1c_level', ylabel='Density'>"
      ]
     },
     "execution_count": 171,
     "metadata": {},
     "output_type": "execute_result"
    },
    {
     "data": {
      "image/png": "[encoded data removed]",
      "text/plain": [
       "<Figure size 640x480 with 1 Axes>"
      ]
     },
     "metadata": {},
     "output_type": "display_data"
    }
   ],
   "source": [
    "sns.distplot(x_smote[\"HbA1c_level\"])"
   ]
  },
  {
   "cell_type": "code",
   "execution_count": 172,
   "id": "98b32f9f-86b9-48ac-baba-4fd6e09ec540",
   "metadata": {},
   "outputs": [
    {
     "data": {
      "text/plain": [
       "count    175328.000000\n",
       "mean          6.144430\n",
       "std           1.219444\n",
       "min           3.500000\n",
       "25%           5.700000\n",
       "50%           6.136999\n",
       "75%           6.600000\n",
       "max           9.000000\n",
       "Name: HbA1c_level, dtype: float64"
      ]
     },
     "execution_count": 172,
     "metadata": {},
     "output_type": "execute_result"
    }
   ],
   "source": [
    "x_smote[\"HbA1c_level\"].describe()"
   ]
  },
  {
   "cell_type": "code",
   "execution_count": 173,
   "id": "23f4d7a2-635e-4fad-a822-8cf420bd03fe",
   "metadata": {},
   "outputs": [
    {
     "data": {
      "text/plain": [
       "0.8999999999999995"
      ]
     },
     "execution_count": 173,
     "metadata": {},
     "output_type": "execute_result"
    }
   ],
   "source": [
    "IQR=x_smote.HbA1c_level.quantile(0.75)-x_smote.HbA1c_level.quantile(0.25)\n",
    "IQR"
   ]
  },
  {
   "cell_type": "code",
   "execution_count": 174,
   "id": "292935b8-7db1-428a-bd0b-4c6664003b2d",
   "metadata": {},
   "outputs": [
    {
     "data": {
      "text/plain": [
       "9.299999999999997"
      ]
     },
     "execution_count": 174,
     "metadata": {},
     "output_type": "execute_result"
    }
   ],
   "source": [
    "up3=x_smote.HbA1c_level.quantile(0.75)+(3*IQR)\n",
    "up3"
   ]
  },
  {
   "cell_type": "code",
   "execution_count": 175,
   "id": "95c19783-921b-4380-a36a-d7f2890f1b7b",
   "metadata": {},
   "outputs": [],
   "source": [
    "x_smote.loc[x_smote[\"HbA1c_level\"]>0.0,\"HbA1c_level\"]=0.0"
   ]
  },
  {
   "cell_type": "code",
   "execution_count": 176,
   "id": "b5cec625-ceb2-42af-9a78-b9e118feeeeb",
   "metadata": {},
   "outputs": [
    {
     "data": {
      "text/plain": [
       "(array([     0.,      0.,      0.,      0.,      0., 175328.,      0.,\n",
       "             0.,      0.,      0.]),\n",
       " array([-0.5, -0.4, -0.3, -0.2, -0.1,  0. ,  0.1,  0.2,  0.3,  0.4,  0.5]),\n",
       " <BarContainer object of 10 artists>)"
      ]
     },
     "execution_count": 176,
     "metadata": {},
     "output_type": "execute_result"
    },
    {
     "data": {
      "image/png": "[encoded data removed]",
      "text/plain": [
       "<Figure size 640x480 with 1 Axes>"
      ]
     },
     "metadata": {},
     "output_type": "display_data"
    }
   ],
   "source": [
    "plt.hist(x_smote[\"HbA1c_level\"])"
   ]
  },
  {
   "cell_type": "code",
   "execution_count": 177,
   "id": "3e512f16-7820-4879-94a5-7c8d42fda17f",
   "metadata": {},
   "outputs": [
    {
     "data": {
      "text/plain": [
       "<Axes: xlabel='HbA1c_level', ylabel='Density'>"
      ]
     },
     "execution_count": 177,
     "metadata": {},
     "output_type": "execute_result"
    },
    {
     "data": {
      "image/png": "[encoded data removed]",
      "text/plain": [
       "<Figure size 640x480 with 1 Axes>"
      ]
     },
     "metadata": {},
     "output_type": "display_data"
    }
   ],
   "source": [
    "sns.distplot(x_smote[\"HbA1c_level\"])"
   ]
  },
  {
   "cell_type": "code",
   "execution_count": 178,
   "id": "223e71d9-4a14-4849-b017-954428d2c83d",
   "metadata": {},
   "outputs": [
    {
     "data": {
      "text/plain": [
       "0.0"
      ]
     },
     "execution_count": 178,
     "metadata": {},
     "output_type": "execute_result"
    }
   ],
   "source": [
    "x_smote[\"HbA1c_level\"].skew()"
   ]
  },
  {
   "cell_type": "markdown",
   "id": "b56682ae-1640-4495-ba44-9a3413361993",
   "metadata": {},
   "source": [
    "# Skewness "
   ]
  },
  {
   "cell_type": "code",
   "execution_count": 180,
   "id": "4db3c66f-e409-4cb4-ad38-e81569683457",
   "metadata": {},
   "outputs": [
    {
     "data": {
      "text/plain": [
       "gender                 0.639264\n",
       "age                   -0.548447\n",
       "hypertension           3.166853\n",
       "heart_disease          4.828886\n",
       "smoking_history       -0.290333\n",
       "bmi                    0.000000\n",
       "HbA1c_level            0.000000\n",
       "blood_glucose_level    0.840506\n",
       "dtype: float64"
      ]
     },
     "execution_count": 180,
     "metadata": {},
     "output_type": "execute_result"
    }
   ],
   "source": [
    "x_smote.skew()"
   ]
  },
  {
   "cell_type": "code",
   "execution_count": 181,
   "id": "31f35ad4-3ec7-4768-80fa-3925ab94500b",
   "metadata": {},
   "outputs": [],
   "source": [
    "# bmi                    0.0\n",
    "# HbA1c_level            0.0"
   ]
  },
  {
   "cell_type": "markdown",
   "id": "84b846af-3f45-4841-961a-0662d0b5cbd7",
   "metadata": {},
   "source": [
    "# model Building"
   ]
  },
  {
   "cell_type": "code",
   "execution_count": 183,
   "id": "46d99212-7de2-4a02-8f7b-f7d3e0650052",
   "metadata": {},
   "outputs": [],
   "source": [
    "from sklearn.model_selection import train_test_split"
   ]
  },
  {
   "cell_type": "code",
   "execution_count": 184,
   "id": "8ef11059-932b-4410-b677-cd0265567944",
   "metadata": {},
   "outputs": [],
   "source": [
    "sx_train,sx_test,sy_train,sy_test= train_test_split(x_smote, y_smote,test_size=0.2,random_state=101)"
   ]
  },
  {
   "cell_type": "code",
   "execution_count": 185,
   "id": "5dc00328-cb38-4d6a-b26b-eaab89eaa50c",
   "metadata": {},
   "outputs": [
    {
     "data": {
      "text/plain": [
       "((140262, 8), (35066, 8), (140262,), (35066,))"
      ]
     },
     "execution_count": 185,
     "metadata": {},
     "output_type": "execute_result"
    }
   ],
   "source": [
    "sx_train.shape,sx_test.shape,sy_train.shape,sy_test.shape"
   ]
  },
  {
   "cell_type": "markdown",
   "id": "0d8d4424-2d27-4068-8aac-c95bf6cbee4f",
   "metadata": {},
   "source": [
    "# 1.Logistic Regression"
   ]
  },
  {
   "cell_type": "code",
   "execution_count": 187,
   "id": "9d29ba54-e1a9-4e75-b6ee-4ec191d6c2a4",
   "metadata": {},
   "outputs": [],
   "source": [
    "from sklearn.linear_model import LogisticRegression\n",
    "lg12 = LogisticRegression()"
   ]
  },
  {
   "cell_type": "code",
   "execution_count": 188,
   "id": "f712dc35-a773-4715-94dd-0292da887732",
   "metadata": {},
   "outputs": [
    {
     "data": {
      "text/html": [
       "<style>#sk-container-id-7 {color: black;background-color: white;}#sk-container-id-7 pre{padding: 0;}#sk-container-id-7 div.sk-toggleable {background-color: white;}#sk-container-id-7 label.sk-toggleable__label {cursor: pointer;display: block;width: 100%;margin-bottom: 0;padding: 0.3em;box-sizing: border-box;text-align: center;}#sk-container-id-7 label.sk-toggleable__label-arrow:before {content: \"▸\";float: left;margin-right: 0.25em;color: #696969;}#sk-container-id-7 label.sk-toggleable__label-arrow:hover:before {color: black;}#sk-container-id-7 div.sk-estimator:hover label.sk-toggleable__label-arrow:before {color: black;}#sk-container-id-7 div.sk-toggleable__content {max-height: 0;max-width: 0;overflow: hidden;text-align: left;background-color: #f0f8ff;}#sk-container-id-7 div.sk-toggleable__content pre {margin: 0.2em;color: black;border-radius: 0.25em;background-color: #f0f8ff;}#sk-container-id-7 input.sk-toggleable__control:checked~div.sk-toggleable__content {max-height: 200px;max-width: 100%;overflow: auto;}#sk-container-id-7 input.sk-toggleable__control:checked~label.sk-toggleable__label-arrow:before {content: \"▾\";}#sk-container-id-7 div.sk-estimator input.sk-toggleable__control:checked~label.sk-toggleable__label {background-color: #d4ebff;}#sk-container-id-7 div.sk-label input.sk-toggleable__control:checked~label.sk-toggleable__label {background-color: #d4ebff;}#sk-container-id-7 input.sk-hidden--visually {border: 0;clip: rect(1px 1px 1px 1px);clip: rect(1px, 1px, 1px, 1px);height: 1px;margin: -1px;overflow: hidden;padding: 0;position: absolute;width: 1px;}#sk-container-id-7 div.sk-estimator {font-family: monospace;background-color: #f0f8ff;border: 1px dotted black;border-radius: 0.25em;box-sizing: border-box;margin-bottom: 0.5em;}#sk-container-id-7 div.sk-estimator:hover {background-color: #d4ebff;}#sk-container-id-7 div.sk-parallel-item::after {content: \"\";width: 100%;border-bottom: 1px solid gray;flex-grow: 1;}#sk-container-id-7 div.sk-label:hover label.sk-toggleable__label {background-color: #d4ebff;}#sk-container-id-7 div.sk-serial::before {content: \"\";position: absolute;border-left: 1px solid gray;box-sizing: border-box;top: 0;bottom: 0;left: 50%;z-index: 0;}#sk-container-id-7 div.sk-serial {display: flex;flex-direction: column;align-items: center;background-color: white;padding-right: 0.2em;padding-left: 0.2em;position: relative;}#sk-container-id-7 div.sk-item {position: relative;z-index: 1;}#sk-container-id-7 div.sk-parallel {display: flex;align-items: stretch;justify-content: center;background-color: white;position: relative;}#sk-container-id-7 div.sk-item::before, #sk-container-id-7 div.sk-parallel-item::before {content: \"\";position: absolute;border-left: 1px solid gray;box-sizing: border-box;top: 0;bottom: 0;left: 50%;z-index: -1;}#sk-container-id-7 div.sk-parallel-item {display: flex;flex-direction: column;z-index: 1;position: relative;background-color: white;}#sk-container-id-7 div.sk-parallel-item:first-child::after {align-self: flex-end;width: 50%;}#sk-container-id-7 div.sk-parallel-item:last-child::after {align-self: flex-start;width: 50%;}#sk-container-id-7 div.sk-parallel-item:only-child::after {width: 0;}#sk-container-id-7 div.sk-dashed-wrapped {border: 1px dashed gray;margin: 0 0.4em 0.5em 0.4em;box-sizing: border-box;padding-bottom: 0.4em;background-color: white;}#sk-container-id-7 div.sk-label label {font-family: monospace;font-weight: bold;display: inline-block;line-height: 1.2em;}#sk-container-id-7 div.sk-label-container {text-align: center;}#sk-container-id-7 div.sk-container {/* jupyter's `normalize.less` sets `[hidden] { display: none; }` but bootstrap.min.css set `[hidden] { display: none !important; }` so we also need the `!important` here to be able to override the default hidden behavior on the sphinx rendered scikit-learn.org. See: https://github.com/scikit-learn/scikit-learn/issues/21755 */display: inline-block !important;position: relative;}#sk-container-id-7 div.sk-text-repr-fallback {display: none;}</style><div id=\"sk-container-id-7\" class=\"sk-top-container\"><div class=\"sk-text-repr-fallback\"><pre>LogisticRegression()</pre><b>In a Jupyter environment, please rerun this cell to show the HTML representation or trust the notebook. <br />On GitHub, the HTML representation is unable to render, please try loading this page with nbviewer.org.</b></div><div class=\"sk-container\" hidden><div class=\"sk-item\"><div class=\"sk-estimator sk-toggleable\"><input class=\"sk-toggleable__control sk-hidden--visually\" id=\"sk-estimator-id-7\" type=\"checkbox\" checked><label for=\"sk-estimator-id-7\" class=\"sk-toggleable__label sk-toggleable__label-arrow\">LogisticRegression</label><div class=\"sk-toggleable__content\"><pre>LogisticRegression()</pre></div></div></div></div></div>"
      ],
      "text/plain": [
       "LogisticRegression()"
      ]
     },
     "execution_count": 188,
     "metadata": {},
     "output_type": "execute_result"
    }
   ],
   "source": [
    "lg12.fit(sx_train,sy_train)  "
   ]
  },
  {
   "cell_type": "code",
   "execution_count": 189,
   "id": "448ee140-9edd-453c-a255-fbfac3621f0e",
   "metadata": {},
   "outputs": [
    {
     "data": {
      "text/plain": [
       "array([0, 0, 0, ..., 0, 0, 0], dtype=int64)"
      ]
     },
     "execution_count": 189,
     "metadata": {},
     "output_type": "execute_result"
    }
   ],
   "source": [
    "p12=lg.predict(sx_test)\n",
    "p12"
   ]
  },
  {
   "cell_type": "code",
   "execution_count": 190,
   "id": "a679782c-c744-4e7b-8d4f-25ca8616ac64",
   "metadata": {},
   "outputs": [
    {
     "data": {
      "text/plain": [
       "array([[9.99999999e-01, 5.45734142e-10],\n",
       "       [9.99999990e-01, 1.00351458e-08],\n",
       "       [9.99999999e-01, 1.24164635e-09],\n",
       "       ...,\n",
       "       [9.99999987e-01, 1.30839747e-08],\n",
       "       [9.99999301e-01, 6.99015610e-07],\n",
       "       [1.00000000e+00, 8.39956496e-11]])"
      ]
     },
     "execution_count": 190,
     "metadata": {},
     "output_type": "execute_result"
    }
   ],
   "source": [
    "p_value12=lg.predict_proba(sx_test)\n",
    "p_value12"
   ]
  },
  {
   "cell_type": "code",
   "execution_count": 191,
   "id": "4c70c598-fe9c-4596-9343-ce13d34581b7",
   "metadata": {},
   "outputs": [
    {
     "data": {
      "text/plain": [
       "array([[17584, 17482],\n",
       "       [    0,     0]], dtype=int64)"
      ]
     },
     "execution_count": 191,
     "metadata": {},
     "output_type": "execute_result"
    }
   ],
   "source": [
    "m12=confusion_matrix(p12,sy_test)\n",
    "m12"
   ]
  },
  {
   "cell_type": "markdown",
   "id": "3c3d52c9-c268-4a6d-aea6-4d94610c2a5d",
   "metadata": {},
   "source": [
    "#### Accuracy"
   ]
  },
  {
   "cell_type": "code",
   "execution_count": 193,
   "id": "2d3fcadb-2bea-424e-a056-20663229023c",
   "metadata": {},
   "outputs": [
    {
     "data": {
      "text/plain": [
       "50.14544002737694"
      ]
     },
     "execution_count": 193,
     "metadata": {},
     "output_type": "execute_result"
    }
   ],
   "source": [
    "ac12=m12.diagonal().sum()/m12.sum()*100  \n",
    "ac12"
   ]
  },
  {
   "cell_type": "markdown",
   "id": "d6704ed5-3452-4fe2-a21b-603fec23374d",
   "metadata": {},
   "source": [
    "#### precision\n",
    "###### dp=tp/tp+fp"
   ]
  },
  {
   "cell_type": "code",
   "execution_count": 195,
   "id": "b68c424a-3806-4935-b579-ac1b16c76477",
   "metadata": {},
   "outputs": [
    {
     "data": {
      "text/plain": [
       "0.5014544002737694"
      ]
     },
     "execution_count": 195,
     "metadata": {},
     "output_type": "execute_result"
    }
   ],
   "source": [
    "lp12=(17584)/(17584+17482)\n",
    "lp12"
   ]
  },
  {
   "cell_type": "markdown",
   "id": "8ea8bf6c-1411-4d81-b81d-0593505c3e2d",
   "metadata": {},
   "source": [
    "#### Recall\n",
    "###### lr=tp/tp+fn"
   ]
  },
  {
   "cell_type": "code",
   "execution_count": 197,
   "id": "b6299ff9-97e8-4b6f-9f7a-a17070954079",
   "metadata": {},
   "outputs": [
    {
     "data": {
      "text/plain": [
       "1.0"
      ]
     },
     "execution_count": 197,
     "metadata": {},
     "output_type": "execute_result"
    }
   ],
   "source": [
    "lr12=(17584)/(17584+0)\n",
    "lr12"
   ]
  },
  {
   "cell_type": "markdown",
   "id": "27007ea0-8f74-4fe9-b589-a47e1afde5f0",
   "metadata": {},
   "source": [
    "#### F1 Score\n",
    "###### lf2=2*Precision*recall/Precision+recall"
   ]
  },
  {
   "cell_type": "code",
   "execution_count": 199,
   "id": "f0bcee04-51e3-4188-a33f-2a374dfcb4ef",
   "metadata": {},
   "outputs": [
    {
     "data": {
      "text/plain": [
       "0.6666666666666666"
      ]
     },
     "execution_count": 199,
     "metadata": {},
     "output_type": "execute_result"
    }
   ],
   "source": [
    "lf12=2*(0.50*1.0)/(0.50+1.0)\n",
    "lf12"
   ]
  },
  {
   "cell_type": "code",
   "execution_count": 200,
   "id": "23e9dcbb-a34f-4a50-b07b-dd8fce8757db",
   "metadata": {},
   "outputs": [],
   "source": [
    "from sklearn.metrics import classification_report"
   ]
  },
  {
   "cell_type": "code",
   "execution_count": 201,
   "id": "0f109738-a73f-403b-8aa0-d40ca114edab",
   "metadata": {},
   "outputs": [
    {
     "name": "stdout",
     "output_type": "stream",
     "text": [
      "              precision    recall  f1-score   support\n",
      "\n",
      "           0       1.00      0.50      0.67     35066\n",
      "           1       0.00      0.00      0.00         0\n",
      "\n",
      "    accuracy                           0.50     35066\n",
      "   macro avg       0.50      0.25      0.33     35066\n",
      "weighted avg       1.00      0.50      0.67     35066\n",
      "\n"
     ]
    }
   ],
   "source": [
    "print(classification_report(p12,sy_test))"
   ]
  },
  {
   "cell_type": "markdown",
   "id": "92e1cf4f-4856-4246-a2f2-0a5d4456f9ac",
   "metadata": {},
   "source": [
    "# 2.Decision Tree"
   ]
  },
  {
   "cell_type": "code",
   "execution_count": 203,
   "id": "0d2a6232-4760-40c6-bda4-8d2ab921d792",
   "metadata": {},
   "outputs": [],
   "source": [
    "from sklearn.tree import DecisionTreeClassifier\n",
    "dt12=DecisionTreeClassifier()"
   ]
  },
  {
   "cell_type": "code",
   "execution_count": 204,
   "id": "7e8d27c8-918d-4083-b109-73a45b041e03",
   "metadata": {},
   "outputs": [
    {
     "data": {
      "text/html": [
       "<style>#sk-container-id-8 {color: black;background-color: white;}#sk-container-id-8 pre{padding: 0;}#sk-container-id-8 div.sk-toggleable {background-color: white;}#sk-container-id-8 label.sk-toggleable__label {cursor: pointer;display: block;width: 100%;margin-bottom: 0;padding: 0.3em;box-sizing: border-box;text-align: center;}#sk-container-id-8 label.sk-toggleable__label-arrow:before {content: \"▸\";float: left;margin-right: 0.25em;color: #696969;}#sk-container-id-8 label.sk-toggleable__label-arrow:hover:before {color: black;}#sk-container-id-8 div.sk-estimator:hover label.sk-toggleable__label-arrow:before {color: black;}#sk-container-id-8 div.sk-toggleable__content {max-height: 0;max-width: 0;overflow: hidden;text-align: left;background-color: #f0f8ff;}#sk-container-id-8 div.sk-toggleable__content pre {margin: 0.2em;color: black;border-radius: 0.25em;background-color: #f0f8ff;}#sk-container-id-8 input.sk-toggleable__control:checked~div.sk-toggleable__content {max-height: 200px;max-width: 100%;overflow: auto;}#sk-container-id-8 input.sk-toggleable__control:checked~label.sk-toggleable__label-arrow:before {content: \"▾\";}#sk-container-id-8 div.sk-estimator input.sk-toggleable__control:checked~label.sk-toggleable__label {background-color: #d4ebff;}#sk-container-id-8 div.sk-label input.sk-toggleable__control:checked~label.sk-toggleable__label {background-color: #d4ebff;}#sk-container-id-8 input.sk-hidden--visually {border: 0;clip: rect(1px 1px 1px 1px);clip: rect(1px, 1px, 1px, 1px);height: 1px;margin: -1px;overflow: hidden;padding: 0;position: absolute;width: 1px;}#sk-container-id-8 div.sk-estimator {font-family: monospace;background-color: #f0f8ff;border: 1px dotted black;border-radius: 0.25em;box-sizing: border-box;margin-bottom: 0.5em;}#sk-container-id-8 div.sk-estimator:hover {background-color: #d4ebff;}#sk-container-id-8 div.sk-parallel-item::after {content: \"\";width: 100%;border-bottom: 1px solid gray;flex-grow: 1;}#sk-container-id-8 div.sk-label:hover label.sk-toggleable__label {background-color: #d4ebff;}#sk-container-id-8 div.sk-serial::before {content: \"\";position: absolute;border-left: 1px solid gray;box-sizing: border-box;top: 0;bottom: 0;left: 50%;z-index: 0;}#sk-container-id-8 div.sk-serial {display: flex;flex-direction: column;align-items: center;background-color: white;padding-right: 0.2em;padding-left: 0.2em;position: relative;}#sk-container-id-8 div.sk-item {position: relative;z-index: 1;}#sk-container-id-8 div.sk-parallel {display: flex;align-items: stretch;justify-content: center;background-color: white;position: relative;}#sk-container-id-8 div.sk-item::before, #sk-container-id-8 div.sk-parallel-item::before {content: \"\";position: absolute;border-left: 1px solid gray;box-sizing: border-box;top: 0;bottom: 0;left: 50%;z-index: -1;}#sk-container-id-8 div.sk-parallel-item {display: flex;flex-direction: column;z-index: 1;position: relative;background-color: white;}#sk-container-id-8 div.sk-parallel-item:first-child::after {align-self: flex-end;width: 50%;}#sk-container-id-8 div.sk-parallel-item:last-child::after {align-self: flex-start;width: 50%;}#sk-container-id-8 div.sk-parallel-item:only-child::after {width: 0;}#sk-container-id-8 div.sk-dashed-wrapped {border: 1px dashed gray;margin: 0 0.4em 0.5em 0.4em;box-sizing: border-box;padding-bottom: 0.4em;background-color: white;}#sk-container-id-8 div.sk-label label {font-family: monospace;font-weight: bold;display: inline-block;line-height: 1.2em;}#sk-container-id-8 div.sk-label-container {text-align: center;}#sk-container-id-8 div.sk-container {/* jupyter's `normalize.less` sets `[hidden] { display: none; }` but bootstrap.min.css set `[hidden] { display: none !important; }` so we also need the `!important` here to be able to override the default hidden behavior on the sphinx rendered scikit-learn.org. See: https://github.com/scikit-learn/scikit-learn/issues/21755 */display: inline-block !important;position: relative;}#sk-container-id-8 div.sk-text-repr-fallback {display: none;}</style><div id=\"sk-container-id-8\" class=\"sk-top-container\"><div class=\"sk-text-repr-fallback\"><pre>DecisionTreeClassifier()</pre><b>In a Jupyter environment, please rerun this cell to show the HTML representation or trust the notebook. <br />On GitHub, the HTML representation is unable to render, please try loading this page with nbviewer.org.</b></div><div class=\"sk-container\" hidden><div class=\"sk-item\"><div class=\"sk-estimator sk-toggleable\"><input class=\"sk-toggleable__control sk-hidden--visually\" id=\"sk-estimator-id-8\" type=\"checkbox\" checked><label for=\"sk-estimator-id-8\" class=\"sk-toggleable__label sk-toggleable__label-arrow\">DecisionTreeClassifier</label><div class=\"sk-toggleable__content\"><pre>DecisionTreeClassifier()</pre></div></div></div></div></div>"
      ],
      "text/plain": [
       "DecisionTreeClassifier()"
      ]
     },
     "execution_count": 204,
     "metadata": {},
     "output_type": "execute_result"
    }
   ],
   "source": [
    "dt12.fit(sx_train,sy_train)"
   ]
  },
  {
   "cell_type": "code",
   "execution_count": 205,
   "id": "fc120fd4-697e-4085-bb2a-4e843d0a715a",
   "metadata": {},
   "outputs": [],
   "source": [
    "d_p12=dt.predict(sx_test)"
   ]
  },
  {
   "cell_type": "code",
   "execution_count": 206,
   "id": "ef74a1f6-57e5-4e9f-b51b-d0f4efb34904",
   "metadata": {},
   "outputs": [
    {
     "data": {
      "text/plain": [
       "array([[17584, 10718],\n",
       "       [    0,  6764]], dtype=int64)"
      ]
     },
     "execution_count": 206,
     "metadata": {},
     "output_type": "execute_result"
    }
   ],
   "source": [
    "d_m12=confusion_matrix(d_p12,sy_test)\n",
    "d_m12"
   ]
  },
  {
   "cell_type": "code",
   "execution_count": 207,
   "id": "0d0dfd76-380d-4565-b1d8-cdef43ed4dc7",
   "metadata": {},
   "outputs": [
    {
     "data": {
      "text/plain": [
       "69.43478012889979"
      ]
     },
     "execution_count": 207,
     "metadata": {},
     "output_type": "execute_result"
    }
   ],
   "source": [
    "d_acc12=d_m12.diagonal().sum()/d_m12.sum()*100\n",
    "d_acc12"
   ]
  },
  {
   "cell_type": "markdown",
   "id": "43ddd066-9cc5-4af8-a427-0409c4c08d7b",
   "metadata": {},
   "source": [
    "#### Precision"
   ]
  },
  {
   "cell_type": "code",
   "execution_count": 209,
   "id": "107c18cd-e7e6-46ae-9999-40162d6fdf94",
   "metadata": {},
   "outputs": [
    {
     "data": {
      "text/plain": [
       "0.6203125551204713"
      ]
     },
     "execution_count": 209,
     "metadata": {},
     "output_type": "execute_result"
    }
   ],
   "source": [
    "dp12=(17584)/(17584+10763)\n",
    "dp12"
   ]
  },
  {
   "cell_type": "markdown",
   "id": "a2b79900-3fa6-4d4c-a531-897b627d6b3d",
   "metadata": {},
   "source": [
    "#### Recall"
   ]
  },
  {
   "cell_type": "code",
   "execution_count": 211,
   "id": "6a1865a8-5817-4c9b-aec3-6169418ed241",
   "metadata": {},
   "outputs": [
    {
     "data": {
      "text/plain": [
       "1.0"
      ]
     },
     "execution_count": 211,
     "metadata": {},
     "output_type": "execute_result"
    }
   ],
   "source": [
    "dr12=(17584)/(17584+0)\n",
    "dr12"
   ]
  },
  {
   "cell_type": "markdown",
   "id": "2d8348e1-c3c6-4b6b-98a3-d08f74f19837",
   "metadata": {},
   "source": [
    "#### F1 Score"
   ]
  },
  {
   "cell_type": "code",
   "execution_count": 213,
   "id": "78f3f349-940c-464b-84a2-c969def5e7cb",
   "metadata": {},
   "outputs": [
    {
     "data": {
      "text/plain": [
       "0.7654320987654321"
      ]
     },
     "execution_count": 213,
     "metadata": {},
     "output_type": "execute_result"
    }
   ],
   "source": [
    "df12=2*(0.62*1.0)/(0.62+1.0)\n",
    "df12"
   ]
  },
  {
   "cell_type": "code",
   "execution_count": 214,
   "id": "8e5381e2-96d0-46d9-a098-25fc864b4de8",
   "metadata": {},
   "outputs": [
    {
     "name": "stdout",
     "output_type": "stream",
     "text": [
      "              precision    recall  f1-score   support\n",
      "\n",
      "           0       1.00      0.62      0.77     28302\n",
      "           1       0.39      1.00      0.56      6764\n",
      "\n",
      "    accuracy                           0.69     35066\n",
      "   macro avg       0.69      0.81      0.66     35066\n",
      "weighted avg       0.88      0.69      0.73     35066\n",
      "\n"
     ]
    }
   ],
   "source": [
    "print(classification_report(d_p12,sy_test))"
   ]
  },
  {
   "cell_type": "markdown",
   "id": "15ffacf2-53f5-4113-8362-e7745b11ca46",
   "metadata": {},
   "source": [
    "# 3.Random Forest"
   ]
  },
  {
   "cell_type": "code",
   "execution_count": 216,
   "id": "6882a061-d19b-4e40-b569-109cc67ba0ad",
   "metadata": {},
   "outputs": [],
   "source": [
    "from sklearn.ensemble import RandomForestClassifier\n",
    "rf12=RandomForestClassifier()"
   ]
  },
  {
   "cell_type": "code",
   "execution_count": 217,
   "id": "06c81b21-6bef-4e0b-a86a-a2859f52faf9",
   "metadata": {},
   "outputs": [
    {
     "data": {
      "text/html": [
       "<style>#sk-container-id-9 {color: black;background-color: white;}#sk-container-id-9 pre{padding: 0;}#sk-container-id-9 div.sk-toggleable {background-color: white;}#sk-container-id-9 label.sk-toggleable__label {cursor: pointer;display: block;width: 100%;margin-bottom: 0;padding: 0.3em;box-sizing: border-box;text-align: center;}#sk-container-id-9 label.sk-toggleable__label-arrow:before {content: \"▸\";float: left;margin-right: 0.25em;color: #696969;}#sk-container-id-9 label.sk-toggleable__label-arrow:hover:before {color: black;}#sk-container-id-9 div.sk-estimator:hover label.sk-toggleable__label-arrow:before {color: black;}#sk-container-id-9 div.sk-toggleable__content {max-height: 0;max-width: 0;overflow: hidden;text-align: left;background-color: #f0f8ff;}#sk-container-id-9 div.sk-toggleable__content pre {margin: 0.2em;color: black;border-radius: 0.25em;background-color: #f0f8ff;}#sk-container-id-9 input.sk-toggleable__control:checked~div.sk-toggleable__content {max-height: 200px;max-width: 100%;overflow: auto;}#sk-container-id-9 input.sk-toggleable__control:checked~label.sk-toggleable__label-arrow:before {content: \"▾\";}#sk-container-id-9 div.sk-estimator input.sk-toggleable__control:checked~label.sk-toggleable__label {background-color: #d4ebff;}#sk-container-id-9 div.sk-label input.sk-toggleable__control:checked~label.sk-toggleable__label {background-color: #d4ebff;}#sk-container-id-9 input.sk-hidden--visually {border: 0;clip: rect(1px 1px 1px 1px);clip: rect(1px, 1px, 1px, 1px);height: 1px;margin: -1px;overflow: hidden;padding: 0;position: absolute;width: 1px;}#sk-container-id-9 div.sk-estimator {font-family: monospace;background-color: #f0f8ff;border: 1px dotted black;border-radius: 0.25em;box-sizing: border-box;margin-bottom: 0.5em;}#sk-container-id-9 div.sk-estimator:hover {background-color: #d4ebff;}#sk-container-id-9 div.sk-parallel-item::after {content: \"\";width: 100%;border-bottom: 1px solid gray;flex-grow: 1;}#sk-container-id-9 div.sk-label:hover label.sk-toggleable__label {background-color: #d4ebff;}#sk-container-id-9 div.sk-serial::before {content: \"\";position: absolute;border-left: 1px solid gray;box-sizing: border-box;top: 0;bottom: 0;left: 50%;z-index: 0;}#sk-container-id-9 div.sk-serial {display: flex;flex-direction: column;align-items: center;background-color: white;padding-right: 0.2em;padding-left: 0.2em;position: relative;}#sk-container-id-9 div.sk-item {position: relative;z-index: 1;}#sk-container-id-9 div.sk-parallel {display: flex;align-items: stretch;justify-content: center;background-color: white;position: relative;}#sk-container-id-9 div.sk-item::before, #sk-container-id-9 div.sk-parallel-item::before {content: \"\";position: absolute;border-left: 1px solid gray;box-sizing: border-box;top: 0;bottom: 0;left: 50%;z-index: -1;}#sk-container-id-9 div.sk-parallel-item {display: flex;flex-direction: column;z-index: 1;position: relative;background-color: white;}#sk-container-id-9 div.sk-parallel-item:first-child::after {align-self: flex-end;width: 50%;}#sk-container-id-9 div.sk-parallel-item:last-child::after {align-self: flex-start;width: 50%;}#sk-container-id-9 div.sk-parallel-item:only-child::after {width: 0;}#sk-container-id-9 div.sk-dashed-wrapped {border: 1px dashed gray;margin: 0 0.4em 0.5em 0.4em;box-sizing: border-box;padding-bottom: 0.4em;background-color: white;}#sk-container-id-9 div.sk-label label {font-family: monospace;font-weight: bold;display: inline-block;line-height: 1.2em;}#sk-container-id-9 div.sk-label-container {text-align: center;}#sk-container-id-9 div.sk-container {/* jupyter's `normalize.less` sets `[hidden] { display: none; }` but bootstrap.min.css set `[hidden] { display: none !important; }` so we also need the `!important` here to be able to override the default hidden behavior on the sphinx rendered scikit-learn.org. See: https://github.com/scikit-learn/scikit-learn/issues/21755 */display: inline-block !important;position: relative;}#sk-container-id-9 div.sk-text-repr-fallback {display: none;}</style><div id=\"sk-container-id-9\" class=\"sk-top-container\"><div class=\"sk-text-repr-fallback\"><pre>RandomForestClassifier()</pre><b>In a Jupyter environment, please rerun this cell to show the HTML representation or trust the notebook. <br />On GitHub, the HTML representation is unable to render, please try loading this page with nbviewer.org.</b></div><div class=\"sk-container\" hidden><div class=\"sk-item\"><div class=\"sk-estimator sk-toggleable\"><input class=\"sk-toggleable__control sk-hidden--visually\" id=\"sk-estimator-id-9\" type=\"checkbox\" checked><label for=\"sk-estimator-id-9\" class=\"sk-toggleable__label sk-toggleable__label-arrow\">RandomForestClassifier</label><div class=\"sk-toggleable__content\"><pre>RandomForestClassifier()</pre></div></div></div></div></div>"
      ],
      "text/plain": [
       "RandomForestClassifier()"
      ]
     },
     "execution_count": 217,
     "metadata": {},
     "output_type": "execute_result"
    }
   ],
   "source": [
    "rf12.fit(sx_train,sy_train)"
   ]
  },
  {
   "cell_type": "code",
   "execution_count": 218,
   "id": "e3d37571-559e-4d8c-9500-5b1e2bd690fd",
   "metadata": {},
   "outputs": [
    {
     "data": {
      "text/plain": [
       "array([0, 0, 0, ..., 1, 1, 0], dtype=int64)"
      ]
     },
     "execution_count": 218,
     "metadata": {},
     "output_type": "execute_result"
    }
   ],
   "source": [
    "r_p12=rf12.predict(sx_test)\n",
    "r_p12"
   ]
  },
  {
   "cell_type": "code",
   "execution_count": 219,
   "id": "d425bca8-61a7-4c8e-b28c-53354e383e77",
   "metadata": {},
   "outputs": [
    {
     "data": {
      "text/plain": [
       "array([[15997,  1821],\n",
       "       [ 1587, 15661]], dtype=int64)"
      ]
     },
     "execution_count": 219,
     "metadata": {},
     "output_type": "execute_result"
    }
   ],
   "source": [
    "r_m12=confusion_matrix(r_p12,sy_test)\n",
    "r_m12"
   ]
  },
  {
   "cell_type": "code",
   "execution_count": 220,
   "id": "7379aa34-7215-4455-9ec5-c7d620d05b66",
   "metadata": {},
   "outputs": [
    {
     "data": {
      "text/plain": [
       "90.28118405292877"
      ]
     },
     "execution_count": 220,
     "metadata": {},
     "output_type": "execute_result"
    }
   ],
   "source": [
    "r_acc12=r_m12.diagonal().sum()/r_m12.sum()*100\n",
    "r_acc12"
   ]
  },
  {
   "cell_type": "markdown",
   "id": "aa021ced-9b84-45cc-9bea-52f924da00f9",
   "metadata": {},
   "source": [
    "#### Precision"
   ]
  },
  {
   "cell_type": "code",
   "execution_count": 222,
   "id": "9c57fee7-05a5-4009-befe-2f9d79b45d7f",
   "metadata": {},
   "outputs": [
    {
     "data": {
      "text/plain": [
       "0.8940796075370722"
      ]
     },
     "execution_count": 222,
     "metadata": {},
     "output_type": "execute_result"
    }
   ],
   "source": [
    "rp12=(16038)/(16038+1900)\n",
    "rp12"
   ]
  },
  {
   "cell_type": "markdown",
   "id": "08ba2d8a-949c-4190-b2e8-4e8458be1035",
   "metadata": {},
   "source": [
    "#### Recall"
   ]
  },
  {
   "cell_type": "code",
   "execution_count": 224,
   "id": "a14d149f-1696-4858-9ee1-0cd1f0d79d8e",
   "metadata": {},
   "outputs": [
    {
     "data": {
      "text/plain": [
       "0.9120791628753412"
      ]
     },
     "execution_count": 224,
     "metadata": {},
     "output_type": "execute_result"
    }
   ],
   "source": [
    "rr12=(16038)/(16038+1546)\n",
    "rr12"
   ]
  },
  {
   "cell_type": "markdown",
   "id": "8a13bbb3-c10b-4319-bcf2-9b0a5399fd44",
   "metadata": {},
   "source": [
    "#### F1 Score"
   ]
  },
  {
   "cell_type": "code",
   "execution_count": 540,
   "id": "7e2b1de7-b5e1-4fec-ab79-3a446bb69287",
   "metadata": {},
   "outputs": [
    {
     "data": {
      "text/plain": [
       "0.899888888888889"
      ]
     },
     "execution_count": 540,
     "metadata": {},
     "output_type": "execute_result"
    }
   ],
   "source": [
    "rf120=2*(0.89*0.91)/(0.89+0.91)\n",
    "rf120"
   ]
  },
  {
   "cell_type": "code",
   "execution_count": 542,
   "id": "080274c0-fe2e-40d6-bbe7-e758c5fefad4",
   "metadata": {},
   "outputs": [
    {
     "name": "stdout",
     "output_type": "stream",
     "text": [
      "              precision    recall  f1-score   support\n",
      "\n",
      "           0       0.91      0.90      0.90     17818\n",
      "           1       0.90      0.91      0.90     17248\n",
      "\n",
      "    accuracy                           0.90     35066\n",
      "   macro avg       0.90      0.90      0.90     35066\n",
      "weighted avg       0.90      0.90      0.90     35066\n",
      "\n"
     ]
    }
   ],
   "source": [
    "print(classification_report(r_p12,sy_test))"
   ]
  },
  {
   "cell_type": "markdown",
   "id": "9909a6af-1bb4-472b-9141-44b9c893321a",
   "metadata": {},
   "source": [
    "## AUC-ROC Curve"
   ]
  },
  {
   "cell_type": "code",
   "execution_count": 229,
   "id": "00a421ca-ce68-4349-acfc-57168fed9c3b",
   "metadata": {},
   "outputs": [],
   "source": [
    "from sklearn.metrics import roc_auc_score\n",
    "from sklearn.metrics import roc_curve"
   ]
  },
  {
   "cell_type": "code",
   "execution_count": 230,
   "id": "84cecd8e-3e47-4c73-b247-1cad822d8c63",
   "metadata": {},
   "outputs": [
    {
     "data": {
      "text/plain": [
       "0.9028946548236332"
      ]
     },
     "execution_count": 230,
     "metadata": {},
     "output_type": "execute_result"
    }
   ],
   "source": [
    "roc=roc_auc_score(r_p12,sy_test)\n",
    "roc"
   ]
  },
  {
   "cell_type": "code",
   "execution_count": 231,
   "id": "1d6f045b-5373-4465-9840-37518aef659f",
   "metadata": {},
   "outputs": [
    {
     "data": {
      "text/html": [
       "<div>\n",
       "<style scoped>\n",
       "    .dataframe tbody tr th:only-of-type {\n",
       "        vertical-align: middle;\n",
       "    }\n",
       "\n",
       "    .dataframe tbody tr th {\n",
       "        vertical-align: top;\n",
       "    }\n",
       "\n",
       "    .dataframe thead th {\n",
       "        text-align: right;\n",
       "    }\n",
       "</style>\n",
       "<table border=\"1\" class=\"dataframe\">\n",
       "  <thead>\n",
       "    <tr style=\"text-align: right;\">\n",
       "      <th></th>\n",
       "      <th>0</th>\n",
       "    </tr>\n",
       "  </thead>\n",
       "  <tbody>\n",
       "    <tr>\n",
       "      <th>0</th>\n",
       "      <td>0</td>\n",
       "    </tr>\n",
       "    <tr>\n",
       "      <th>1</th>\n",
       "      <td>0</td>\n",
       "    </tr>\n",
       "    <tr>\n",
       "      <th>2</th>\n",
       "      <td>0</td>\n",
       "    </tr>\n",
       "    <tr>\n",
       "      <th>3</th>\n",
       "      <td>1</td>\n",
       "    </tr>\n",
       "    <tr>\n",
       "      <th>4</th>\n",
       "      <td>1</td>\n",
       "    </tr>\n",
       "    <tr>\n",
       "      <th>...</th>\n",
       "      <td>...</td>\n",
       "    </tr>\n",
       "    <tr>\n",
       "      <th>35061</th>\n",
       "      <td>0</td>\n",
       "    </tr>\n",
       "    <tr>\n",
       "      <th>35062</th>\n",
       "      <td>1</td>\n",
       "    </tr>\n",
       "    <tr>\n",
       "      <th>35063</th>\n",
       "      <td>1</td>\n",
       "    </tr>\n",
       "    <tr>\n",
       "      <th>35064</th>\n",
       "      <td>1</td>\n",
       "    </tr>\n",
       "    <tr>\n",
       "      <th>35065</th>\n",
       "      <td>0</td>\n",
       "    </tr>\n",
       "  </tbody>\n",
       "</table>\n",
       "<p>35066 rows × 1 columns</p>\n",
       "</div>"
      ],
      "text/plain": [
       "       0\n",
       "0      0\n",
       "1      0\n",
       "2      0\n",
       "3      1\n",
       "4      1\n",
       "...   ..\n",
       "35061  0\n",
       "35062  1\n",
       "35063  1\n",
       "35064  1\n",
       "35065  0\n",
       "\n",
       "[35066 rows x 1 columns]"
      ]
     },
     "execution_count": 231,
     "metadata": {},
     "output_type": "execute_result"
    }
   ],
   "source": [
    "df=pd.DataFrame(r_p12)\n",
    "df"
   ]
  },
  {
   "cell_type": "code",
   "execution_count": 232,
   "id": "2deba619-ed4d-4dc1-9140-0d5c5cc0f0de",
   "metadata": {},
   "outputs": [],
   "source": [
    "fpr,tpr,threshould=roc_curve(sy_test,df.iloc[:,0])"
   ]
  },
  {
   "cell_type": "code",
   "execution_count": 233,
   "id": "296a5b5b-71b3-4560-b721-f7aba8a0f5cb",
   "metadata": {},
   "outputs": [
    {
     "data": {
      "text/plain": [
       "array([0.       , 0.0902525, 1.       ])"
      ]
     },
     "execution_count": 233,
     "metadata": {},
     "output_type": "execute_result"
    }
   ],
   "source": [
    "fpr"
   ]
  },
  {
   "cell_type": "code",
   "execution_count": 234,
   "id": "0f00ea50-db0b-4aa7-bdad-f6e8d932c3d3",
   "metadata": {},
   "outputs": [
    {
     "data": {
      "text/plain": [
       "array([0.        , 0.89583572, 1.        ])"
      ]
     },
     "execution_count": 234,
     "metadata": {},
     "output_type": "execute_result"
    }
   ],
   "source": [
    "tpr"
   ]
  },
  {
   "cell_type": "code",
   "execution_count": 235,
   "id": "bf15bdb3-067b-454a-9040-861658a47db1",
   "metadata": {},
   "outputs": [
    {
     "data": {
      "text/plain": [
       "[<matplotlib.lines.Line2D at 0x232a7c7f190>]"
      ]
     },
     "execution_count": 235,
     "metadata": {},
     "output_type": "execute_result"
    },
    {
     "data": {
      "image/png": "[encoded data removed]",
      "text/plain": [
       "<Figure size 640x480 with 1 Axes>"
      ]
     },
     "metadata": {},
     "output_type": "display_data"
    }
   ],
   "source": [
    "plt.plot(fpr,tpr)"
   ]
  },
  {
   "cell_type": "markdown",
   "id": "1edb10e1-3366-4447-b689-a59fd86a1ba0",
   "metadata": {},
   "source": [
    "# 4.KNN"
   ]
  },
  {
   "cell_type": "code",
   "execution_count": 237,
   "id": "03e1255c-c5d9-4868-9d37-92fb4b9b229b",
   "metadata": {},
   "outputs": [],
   "source": [
    "from sklearn.neighbors import KNeighborsClassifier\n",
    "knn12=KNeighborsClassifier(n_neighbors=40)"
   ]
  },
  {
   "cell_type": "code",
   "execution_count": 238,
   "id": "00c132e7-ad9b-4695-bcc6-c1a609218924",
   "metadata": {},
   "outputs": [
    {
     "data": {
      "text/html": [
       "<style>#sk-container-id-10 {color: black;background-color: white;}#sk-container-id-10 pre{padding: 0;}#sk-container-id-10 div.sk-toggleable {background-color: white;}#sk-container-id-10 label.sk-toggleable__label {cursor: pointer;display: block;width: 100%;margin-bottom: 0;padding: 0.3em;box-sizing: border-box;text-align: center;}#sk-container-id-10 label.sk-toggleable__label-arrow:before {content: \"▸\";float: left;margin-right: 0.25em;color: #696969;}#sk-container-id-10 label.sk-toggleable__label-arrow:hover:before {color: black;}#sk-container-id-10 div.sk-estimator:hover label.sk-toggleable__label-arrow:before {color: black;}#sk-container-id-10 div.sk-toggleable__content {max-height: 0;max-width: 0;overflow: hidden;text-align: left;background-color: #f0f8ff;}#sk-container-id-10 div.sk-toggleable__content pre {margin: 0.2em;color: black;border-radius: 0.25em;background-color: #f0f8ff;}#sk-container-id-10 input.sk-toggleable__control:checked~div.sk-toggleable__content {max-height: 200px;max-width: 100%;overflow: auto;}#sk-container-id-10 input.sk-toggleable__control:checked~label.sk-toggleable__label-arrow:before {content: \"▾\";}#sk-container-id-10 div.sk-estimator input.sk-toggleable__control:checked~label.sk-toggleable__label {background-color: #d4ebff;}#sk-container-id-10 div.sk-label input.sk-toggleable__control:checked~label.sk-toggleable__label {background-color: #d4ebff;}#sk-container-id-10 input.sk-hidden--visually {border: 0;clip: rect(1px 1px 1px 1px);clip: rect(1px, 1px, 1px, 1px);height: 1px;margin: -1px;overflow: hidden;padding: 0;position: absolute;width: 1px;}#sk-container-id-10 div.sk-estimator {font-family: monospace;background-color: #f0f8ff;border: 1px dotted black;border-radius: 0.25em;box-sizing: border-box;margin-bottom: 0.5em;}#sk-container-id-10 div.sk-estimator:hover {background-color: #d4ebff;}#sk-container-id-10 div.sk-parallel-item::after {content: \"\";width: 100%;border-bottom: 1px solid gray;flex-grow: 1;}#sk-container-id-10 div.sk-label:hover label.sk-toggleable__label {background-color: #d4ebff;}#sk-container-id-10 div.sk-serial::before {content: \"\";position: absolute;border-left: 1px solid gray;box-sizing: border-box;top: 0;bottom: 0;left: 50%;z-index: 0;}#sk-container-id-10 div.sk-serial {display: flex;flex-direction: column;align-items: center;background-color: white;padding-right: 0.2em;padding-left: 0.2em;position: relative;}#sk-container-id-10 div.sk-item {position: relative;z-index: 1;}#sk-container-id-10 div.sk-parallel {display: flex;align-items: stretch;justify-content: center;background-color: white;position: relative;}#sk-container-id-10 div.sk-item::before, #sk-container-id-10 div.sk-parallel-item::before {content: \"\";position: absolute;border-left: 1px solid gray;box-sizing: border-box;top: 0;bottom: 0;left: 50%;z-index: -1;}#sk-container-id-10 div.sk-parallel-item {display: flex;flex-direction: column;z-index: 1;position: relative;background-color: white;}#sk-container-id-10 div.sk-parallel-item:first-child::after {align-self: flex-end;width: 50%;}#sk-container-id-10 div.sk-parallel-item:last-child::after {align-self: flex-start;width: 50%;}#sk-container-id-10 div.sk-parallel-item:only-child::after {width: 0;}#sk-container-id-10 div.sk-dashed-wrapped {border: 1px dashed gray;margin: 0 0.4em 0.5em 0.4em;box-sizing: border-box;padding-bottom: 0.4em;background-color: white;}#sk-container-id-10 div.sk-label label {font-family: monospace;font-weight: bold;display: inline-block;line-height: 1.2em;}#sk-container-id-10 div.sk-label-container {text-align: center;}#sk-container-id-10 div.sk-container {/* jupyter's `normalize.less` sets `[hidden] { display: none; }` but bootstrap.min.css set `[hidden] { display: none !important; }` so we also need the `!important` here to be able to override the default hidden behavior on the sphinx rendered scikit-learn.org. See: https://github.com/scikit-learn/scikit-learn/issues/21755 */display: inline-block !important;position: relative;}#sk-container-id-10 div.sk-text-repr-fallback {display: none;}</style><div id=\"sk-container-id-10\" class=\"sk-top-container\"><div class=\"sk-text-repr-fallback\"><pre>KNeighborsClassifier(n_neighbors=40)</pre><b>In a Jupyter environment, please rerun this cell to show the HTML representation or trust the notebook. <br />On GitHub, the HTML representation is unable to render, please try loading this page with nbviewer.org.</b></div><div class=\"sk-container\" hidden><div class=\"sk-item\"><div class=\"sk-estimator sk-toggleable\"><input class=\"sk-toggleable__control sk-hidden--visually\" id=\"sk-estimator-id-10\" type=\"checkbox\" checked><label for=\"sk-estimator-id-10\" class=\"sk-toggleable__label sk-toggleable__label-arrow\">KNeighborsClassifier</label><div class=\"sk-toggleable__content\"><pre>KNeighborsClassifier(n_neighbors=40)</pre></div></div></div></div></div>"
      ],
      "text/plain": [
       "KNeighborsClassifier(n_neighbors=40)"
      ]
     },
     "execution_count": 238,
     "metadata": {},
     "output_type": "execute_result"
    }
   ],
   "source": [
    "knn12.fit(sx_train,sy_train)"
   ]
  },
  {
   "cell_type": "code",
   "execution_count": 239,
   "id": "bb915c09-9b17-4fc3-9fa4-e9f639c0a9bf",
   "metadata": {},
   "outputs": [],
   "source": [
    "k_p12=knn12.predict(sx_test)"
   ]
  },
  {
   "cell_type": "code",
   "execution_count": 240,
   "id": "16132d75-c525-490a-b39c-3d05180b2b3b",
   "metadata": {},
   "outputs": [
    {
     "data": {
      "text/plain": [
       "array([[14353,  1963],\n",
       "       [ 3231, 15519]], dtype=int64)"
      ]
     },
     "execution_count": 240,
     "metadata": {},
     "output_type": "execute_result"
    }
   ],
   "source": [
    "k_c12=confusion_matrix(k_p12,sy_test)\n",
    "k_c12"
   ]
  },
  {
   "cell_type": "code",
   "execution_count": 241,
   "id": "f7c5fa5e-f23e-469e-a9b7-989c66bed6b0",
   "metadata": {},
   "outputs": [
    {
     "data": {
      "text/plain": [
       "85.18793132949295"
      ]
     },
     "execution_count": 241,
     "metadata": {},
     "output_type": "execute_result"
    }
   ],
   "source": [
    "k_acc12=k_c12.diagonal().sum()/k_c12.sum()*100\n",
    "k_acc12"
   ]
  },
  {
   "cell_type": "markdown",
   "id": "ddfe7357-cc7c-4c97-b36a-bd7b1598a9a9",
   "metadata": {},
   "source": [
    "#### Precision"
   ]
  },
  {
   "cell_type": "code",
   "execution_count": 243,
   "id": "c6beff8a-4279-40e7-aa43-cbf247fc03e9",
   "metadata": {},
   "outputs": [
    {
     "data": {
      "text/plain": [
       "0.8766209933936873"
      ]
     },
     "execution_count": 243,
     "metadata": {},
     "output_type": "execute_result"
    }
   ],
   "source": [
    "kp12=(14331)/(14331+2017)\n",
    "kp12"
   ]
  },
  {
   "cell_type": "markdown",
   "id": "e92445de-a07d-4419-87b0-ddb6252489bf",
   "metadata": {},
   "source": [
    "#### Recall"
   ]
  },
  {
   "cell_type": "code",
   "execution_count": 245,
   "id": "a0023895-9bc4-42a9-b107-06d165841149",
   "metadata": {},
   "outputs": [
    {
     "data": {
      "text/plain": [
       "0.8150022747952684"
      ]
     },
     "execution_count": 245,
     "metadata": {},
     "output_type": "execute_result"
    }
   ],
   "source": [
    "kr12=(14331)/(14331+3253)\n",
    "kr12"
   ]
  },
  {
   "cell_type": "markdown",
   "id": "1c3922a7-7adf-46cd-918c-77dcb264a531",
   "metadata": {},
   "source": [
    "#### F1 Score"
   ]
  },
  {
   "cell_type": "code",
   "execution_count": 247,
   "id": "7cf69a83-5090-4d1e-856a-ccc94fd9fb18",
   "metadata": {},
   "outputs": [
    {
     "data": {
      "text/plain": [
       "0.8389285714285714"
      ]
     },
     "execution_count": 247,
     "metadata": {},
     "output_type": "execute_result"
    }
   ],
   "source": [
    "kf12=2*(0.87*0.81)/(0.87+0.81)\n",
    "kf12"
   ]
  },
  {
   "cell_type": "code",
   "execution_count": 248,
   "id": "32face6d-8cf3-4309-bbf8-208bbef203bc",
   "metadata": {},
   "outputs": [
    {
     "name": "stdout",
     "output_type": "stream",
     "text": [
      "              precision    recall  f1-score   support\n",
      "\n",
      "           0       0.82      0.88      0.85     16316\n",
      "           1       0.89      0.83      0.86     18750\n",
      "\n",
      "    accuracy                           0.85     35066\n",
      "   macro avg       0.85      0.85      0.85     35066\n",
      "weighted avg       0.85      0.85      0.85     35066\n",
      "\n"
     ]
    }
   ],
   "source": [
    "print(classification_report(k_p12,sy_test))"
   ]
  },
  {
   "cell_type": "markdown",
   "id": "ab8ce664-7c5c-40d1-9e50-cdae15598760",
   "metadata": {},
   "source": [
    "# 5.SVM"
   ]
  },
  {
   "cell_type": "code",
   "execution_count": 250,
   "id": "b23bb07b-f6e8-4729-a2ec-52ab701aa936",
   "metadata": {},
   "outputs": [],
   "source": [
    "from sklearn.svm import SVC\n",
    "svc12=SVC()"
   ]
  },
  {
   "cell_type": "code",
   "execution_count": 251,
   "id": "e90076f0-ca4e-49aa-9dda-2e280a862af9",
   "metadata": {},
   "outputs": [
    {
     "data": {
      "text/html": [
       "<style>#sk-container-id-11 {color: black;background-color: white;}#sk-container-id-11 pre{padding: 0;}#sk-container-id-11 div.sk-toggleable {background-color: white;}#sk-container-id-11 label.sk-toggleable__label {cursor: pointer;display: block;width: 100%;margin-bottom: 0;padding: 0.3em;box-sizing: border-box;text-align: center;}#sk-container-id-11 label.sk-toggleable__label-arrow:before {content: \"▸\";float: left;margin-right: 0.25em;color: #696969;}#sk-container-id-11 label.sk-toggleable__label-arrow:hover:before {color: black;}#sk-container-id-11 div.sk-estimator:hover label.sk-toggleable__label-arrow:before {color: black;}#sk-container-id-11 div.sk-toggleable__content {max-height: 0;max-width: 0;overflow: hidden;text-align: left;background-color: #f0f8ff;}#sk-container-id-11 div.sk-toggleable__content pre {margin: 0.2em;color: black;border-radius: 0.25em;background-color: #f0f8ff;}#sk-container-id-11 input.sk-toggleable__control:checked~div.sk-toggleable__content {max-height: 200px;max-width: 100%;overflow: auto;}#sk-container-id-11 input.sk-toggleable__control:checked~label.sk-toggleable__label-arrow:before {content: \"▾\";}#sk-container-id-11 div.sk-estimator input.sk-toggleable__control:checked~label.sk-toggleable__label {background-color: #d4ebff;}#sk-container-id-11 div.sk-label input.sk-toggleable__control:checked~label.sk-toggleable__label {background-color: #d4ebff;}#sk-container-id-11 input.sk-hidden--visually {border: 0;clip: rect(1px 1px 1px 1px);clip: rect(1px, 1px, 1px, 1px);height: 1px;margin: -1px;overflow: hidden;padding: 0;position: absolute;width: 1px;}#sk-container-id-11 div.sk-estimator {font-family: monospace;background-color: #f0f8ff;border: 1px dotted black;border-radius: 0.25em;box-sizing: border-box;margin-bottom: 0.5em;}#sk-container-id-11 div.sk-estimator:hover {background-color: #d4ebff;}#sk-container-id-11 div.sk-parallel-item::after {content: \"\";width: 100%;border-bottom: 1px solid gray;flex-grow: 1;}#sk-container-id-11 div.sk-label:hover label.sk-toggleable__label {background-color: #d4ebff;}#sk-container-id-11 div.sk-serial::before {content: \"\";position: absolute;border-left: 1px solid gray;box-sizing: border-box;top: 0;bottom: 0;left: 50%;z-index: 0;}#sk-container-id-11 div.sk-serial {display: flex;flex-direction: column;align-items: center;background-color: white;padding-right: 0.2em;padding-left: 0.2em;position: relative;}#sk-container-id-11 div.sk-item {position: relative;z-index: 1;}#sk-container-id-11 div.sk-parallel {display: flex;align-items: stretch;justify-content: center;background-color: white;position: relative;}#sk-container-id-11 div.sk-item::before, #sk-container-id-11 div.sk-parallel-item::before {content: \"\";position: absolute;border-left: 1px solid gray;box-sizing: border-box;top: 0;bottom: 0;left: 50%;z-index: -1;}#sk-container-id-11 div.sk-parallel-item {display: flex;flex-direction: column;z-index: 1;position: relative;background-color: white;}#sk-container-id-11 div.sk-parallel-item:first-child::after {align-self: flex-end;width: 50%;}#sk-container-id-11 div.sk-parallel-item:last-child::after {align-self: flex-start;width: 50%;}#sk-container-id-11 div.sk-parallel-item:only-child::after {width: 0;}#sk-container-id-11 div.sk-dashed-wrapped {border: 1px dashed gray;margin: 0 0.4em 0.5em 0.4em;box-sizing: border-box;padding-bottom: 0.4em;background-color: white;}#sk-container-id-11 div.sk-label label {font-family: monospace;font-weight: bold;display: inline-block;line-height: 1.2em;}#sk-container-id-11 div.sk-label-container {text-align: center;}#sk-container-id-11 div.sk-container {/* jupyter's `normalize.less` sets `[hidden] { display: none; }` but bootstrap.min.css set `[hidden] { display: none !important; }` so we also need the `!important` here to be able to override the default hidden behavior on the sphinx rendered scikit-learn.org. See: https://github.com/scikit-learn/scikit-learn/issues/21755 */display: inline-block !important;position: relative;}#sk-container-id-11 div.sk-text-repr-fallback {display: none;}</style><div id=\"sk-container-id-11\" class=\"sk-top-container\"><div class=\"sk-text-repr-fallback\"><pre>SVC()</pre><b>In a Jupyter environment, please rerun this cell to show the HTML representation or trust the notebook. <br />On GitHub, the HTML representation is unable to render, please try loading this page with nbviewer.org.</b></div><div class=\"sk-container\" hidden><div class=\"sk-item\"><div class=\"sk-estimator sk-toggleable\"><input class=\"sk-toggleable__control sk-hidden--visually\" id=\"sk-estimator-id-11\" type=\"checkbox\" checked><label for=\"sk-estimator-id-11\" class=\"sk-toggleable__label sk-toggleable__label-arrow\">SVC</label><div class=\"sk-toggleable__content\"><pre>SVC()</pre></div></div></div></div></div>"
      ],
      "text/plain": [
       "SVC()"
      ]
     },
     "execution_count": 251,
     "metadata": {},
     "output_type": "execute_result"
    }
   ],
   "source": [
    "svc12.fit(sx_train,sy_train)"
   ]
  },
  {
   "cell_type": "code",
   "execution_count": 252,
   "id": "312e66f7-6a02-47f9-928b-c7469210ec38",
   "metadata": {},
   "outputs": [],
   "source": [
    "s_p12=svc12.predict(sx_test)"
   ]
  },
  {
   "cell_type": "code",
   "execution_count": 253,
   "id": "9d55e8c2-491d-4a3a-989a-da7e5f699c87",
   "metadata": {},
   "outputs": [
    {
     "data": {
      "text/plain": [
       "array([[12242,  1440],\n",
       "       [ 5342, 16042]], dtype=int64)"
      ]
     },
     "execution_count": 253,
     "metadata": {},
     "output_type": "execute_result"
    }
   ],
   "source": [
    "s_m12=confusion_matrix(s_p12,sy_test)\n",
    "s_m12"
   ]
  },
  {
   "cell_type": "code",
   "execution_count": 254,
   "id": "1f658deb-9c5c-4811-b4a5-de498c693216",
   "metadata": {},
   "outputs": [
    {
     "data": {
      "text/plain": [
       "80.65932812410882"
      ]
     },
     "execution_count": 254,
     "metadata": {},
     "output_type": "execute_result"
    }
   ],
   "source": [
    "s_acc12=s_m12.diagonal().sum()/s_m12.sum()*100\n",
    "s_acc12"
   ]
  },
  {
   "cell_type": "markdown",
   "id": "cf6790a0-49a2-44ee-8904-d732a6167412",
   "metadata": {},
   "source": [
    "#### precision"
   ]
  },
  {
   "cell_type": "code",
   "execution_count": 256,
   "id": "bf36305d-8c48-48ba-a23a-3f3b784fff8a",
   "metadata": {},
   "outputs": [
    {
     "data": {
      "text/plain": [
       "0.8880845519038656"
      ]
     },
     "execution_count": 256,
     "metadata": {},
     "output_type": "execute_result"
    }
   ],
   "source": [
    "sp12=(12268)/(12268+1546)\n",
    "sp12"
   ]
  },
  {
   "cell_type": "markdown",
   "id": "e7751302-8b6d-4ccc-84d9-3780636815f3",
   "metadata": {},
   "source": [
    "#### Recall"
   ]
  },
  {
   "cell_type": "code",
   "execution_count": 258,
   "id": "773b98ee-a517-4d39-a282-0adbda07e84d",
   "metadata": {},
   "outputs": [
    {
     "data": {
      "text/plain": [
       "0.6976797088262057"
      ]
     },
     "execution_count": 258,
     "metadata": {},
     "output_type": "execute_result"
    }
   ],
   "source": [
    "sr12=(12268)/(12268+5316)\n",
    "sr12"
   ]
  },
  {
   "cell_type": "markdown",
   "id": "44ae0a20-a198-4d86-b579-42c90a12a9dc",
   "metadata": {},
   "source": [
    "#### F1 Score"
   ]
  },
  {
   "cell_type": "code",
   "execution_count": 260,
   "id": "1d4d5898-cfdc-4d9f-96db-82e0af437ce5",
   "metadata": {},
   "outputs": [
    {
     "data": {
      "text/plain": [
       "0.7735031847133759"
      ]
     },
     "execution_count": 260,
     "metadata": {},
     "output_type": "execute_result"
    }
   ],
   "source": [
    "sf12=2*(0.88*0.69)/(0.88+0.69)\n",
    "sf12"
   ]
  },
  {
   "cell_type": "code",
   "execution_count": 261,
   "id": "b6316f03-e95d-4fef-8b57-b1ca7477f577",
   "metadata": {},
   "outputs": [
    {
     "name": "stdout",
     "output_type": "stream",
     "text": [
      "              precision    recall  f1-score   support\n",
      "\n",
      "           0       0.70      0.89      0.78     13682\n",
      "           1       0.92      0.75      0.83     21384\n",
      "\n",
      "    accuracy                           0.81     35066\n",
      "   macro avg       0.81      0.82      0.80     35066\n",
      "weighted avg       0.83      0.81      0.81     35066\n",
      "\n"
     ]
    }
   ],
   "source": [
    "print(classification_report(s_p12,sy_test))"
   ]
  },
  {
   "cell_type": "markdown",
   "id": "05e95c11-e9af-4c3d-bf7b-bafb3db0303a",
   "metadata": {},
   "source": [
    "# 6.Navie-Bayes"
   ]
  },
  {
   "cell_type": "code",
   "execution_count": 263,
   "id": "2467cc8a-f2b8-4ce0-b333-3bb16b6d8553",
   "metadata": {},
   "outputs": [],
   "source": [
    "from sklearn.naive_bayes import MultinomialNB\n",
    "nb12=MultinomialNB()"
   ]
  },
  {
   "cell_type": "code",
   "execution_count": 264,
   "id": "6ef055d2-b4ff-4c94-9faf-56703831c128",
   "metadata": {},
   "outputs": [
    {
     "data": {
      "text/html": [
       "<style>#sk-container-id-12 {color: black;background-color: white;}#sk-container-id-12 pre{padding: 0;}#sk-container-id-12 div.sk-toggleable {background-color: white;}#sk-container-id-12 label.sk-toggleable__label {cursor: pointer;display: block;width: 100%;margin-bottom: 0;padding: 0.3em;box-sizing: border-box;text-align: center;}#sk-container-id-12 label.sk-toggleable__label-arrow:before {content: \"▸\";float: left;margin-right: 0.25em;color: #696969;}#sk-container-id-12 label.sk-toggleable__label-arrow:hover:before {color: black;}#sk-container-id-12 div.sk-estimator:hover label.sk-toggleable__label-arrow:before {color: black;}#sk-container-id-12 div.sk-toggleable__content {max-height: 0;max-width: 0;overflow: hidden;text-align: left;background-color: #f0f8ff;}#sk-container-id-12 div.sk-toggleable__content pre {margin: 0.2em;color: black;border-radius: 0.25em;background-color: #f0f8ff;}#sk-container-id-12 input.sk-toggleable__control:checked~div.sk-toggleable__content {max-height: 200px;max-width: 100%;overflow: auto;}#sk-container-id-12 input.sk-toggleable__control:checked~label.sk-toggleable__label-arrow:before {content: \"▾\";}#sk-container-id-12 div.sk-estimator input.sk-toggleable__control:checked~label.sk-toggleable__label {background-color: #d4ebff;}#sk-container-id-12 div.sk-label input.sk-toggleable__control:checked~label.sk-toggleable__label {background-color: #d4ebff;}#sk-container-id-12 input.sk-hidden--visually {border: 0;clip: rect(1px 1px 1px 1px);clip: rect(1px, 1px, 1px, 1px);height: 1px;margin: -1px;overflow: hidden;padding: 0;position: absolute;width: 1px;}#sk-container-id-12 div.sk-estimator {font-family: monospace;background-color: #f0f8ff;border: 1px dotted black;border-radius: 0.25em;box-sizing: border-box;margin-bottom: 0.5em;}#sk-container-id-12 div.sk-estimator:hover {background-color: #d4ebff;}#sk-container-id-12 div.sk-parallel-item::after {content: \"\";width: 100%;border-bottom: 1px solid gray;flex-grow: 1;}#sk-container-id-12 div.sk-label:hover label.sk-toggleable__label {background-color: #d4ebff;}#sk-container-id-12 div.sk-serial::before {content: \"\";position: absolute;border-left: 1px solid gray;box-sizing: border-box;top: 0;bottom: 0;left: 50%;z-index: 0;}#sk-container-id-12 div.sk-serial {display: flex;flex-direction: column;align-items: center;background-color: white;padding-right: 0.2em;padding-left: 0.2em;position: relative;}#sk-container-id-12 div.sk-item {position: relative;z-index: 1;}#sk-container-id-12 div.sk-parallel {display: flex;align-items: stretch;justify-content: center;background-color: white;position: relative;}#sk-container-id-12 div.sk-item::before, #sk-container-id-12 div.sk-parallel-item::before {content: \"\";position: absolute;border-left: 1px solid gray;box-sizing: border-box;top: 0;bottom: 0;left: 50%;z-index: -1;}#sk-container-id-12 div.sk-parallel-item {display: flex;flex-direction: column;z-index: 1;position: relative;background-color: white;}#sk-container-id-12 div.sk-parallel-item:first-child::after {align-self: flex-end;width: 50%;}#sk-container-id-12 div.sk-parallel-item:last-child::after {align-self: flex-start;width: 50%;}#sk-container-id-12 div.sk-parallel-item:only-child::after {width: 0;}#sk-container-id-12 div.sk-dashed-wrapped {border: 1px dashed gray;margin: 0 0.4em 0.5em 0.4em;box-sizing: border-box;padding-bottom: 0.4em;background-color: white;}#sk-container-id-12 div.sk-label label {font-family: monospace;font-weight: bold;display: inline-block;line-height: 1.2em;}#sk-container-id-12 div.sk-label-container {text-align: center;}#sk-container-id-12 div.sk-container {/* jupyter's `normalize.less` sets `[hidden] { display: none; }` but bootstrap.min.css set `[hidden] { display: none !important; }` so we also need the `!important` here to be able to override the default hidden behavior on the sphinx rendered scikit-learn.org. See: https://github.com/scikit-learn/scikit-learn/issues/21755 */display: inline-block !important;position: relative;}#sk-container-id-12 div.sk-text-repr-fallback {display: none;}</style><div id=\"sk-container-id-12\" class=\"sk-top-container\"><div class=\"sk-text-repr-fallback\"><pre>MultinomialNB()</pre><b>In a Jupyter environment, please rerun this cell to show the HTML representation or trust the notebook. <br />On GitHub, the HTML representation is unable to render, please try loading this page with nbviewer.org.</b></div><div class=\"sk-container\" hidden><div class=\"sk-item\"><div class=\"sk-estimator sk-toggleable\"><input class=\"sk-toggleable__control sk-hidden--visually\" id=\"sk-estimator-id-12\" type=\"checkbox\" checked><label for=\"sk-estimator-id-12\" class=\"sk-toggleable__label sk-toggleable__label-arrow\">MultinomialNB</label><div class=\"sk-toggleable__content\"><pre>MultinomialNB()</pre></div></div></div></div></div>"
      ],
      "text/plain": [
       "MultinomialNB()"
      ]
     },
     "execution_count": 264,
     "metadata": {},
     "output_type": "execute_result"
    }
   ],
   "source": [
    "nb12.fit(sx_train,sy_train)"
   ]
  },
  {
   "cell_type": "code",
   "execution_count": 265,
   "id": "68a6378a-1662-42d8-aa91-c4d243c9f85b",
   "metadata": {},
   "outputs": [],
   "source": [
    "n_p12=nb12.predict(sx_test)"
   ]
  },
  {
   "cell_type": "code",
   "execution_count": 266,
   "id": "b116eaf8-739a-4eb7-bf92-ac401e671cfa",
   "metadata": {},
   "outputs": [
    {
     "data": {
      "text/plain": [
       "array([[10112,  6582],\n",
       "       [ 7472, 10900]], dtype=int64)"
      ]
     },
     "execution_count": 266,
     "metadata": {},
     "output_type": "execute_result"
    }
   ],
   "source": [
    "n_m12=confusion_matrix(n_p12,sy_test)\n",
    "n_m12"
   ]
  },
  {
   "cell_type": "code",
   "execution_count": 267,
   "id": "012a6425-856a-444f-b279-4d6ebf53f6c6",
   "metadata": {},
   "outputs": [
    {
     "data": {
      "text/plain": [
       "59.92129127930189"
      ]
     },
     "execution_count": 267,
     "metadata": {},
     "output_type": "execute_result"
    }
   ],
   "source": [
    "n_acc12=n_m12.diagonal().sum()/n_m12.sum()*100\n",
    "n_acc12"
   ]
  },
  {
   "cell_type": "markdown",
   "id": "03d3eda8-2bc1-48ef-b1be-79415eb202a6",
   "metadata": {},
   "source": [
    "#### precision"
   ]
  },
  {
   "cell_type": "code",
   "execution_count": 269,
   "id": "953cb064-bc2c-4bff-a439-4ccaa388145b",
   "metadata": {},
   "outputs": [
    {
     "data": {
      "text/plain": [
       "0.6086092715231788"
      ]
     },
     "execution_count": 269,
     "metadata": {},
     "output_type": "execute_result"
    }
   ],
   "source": [
    "np12=(10109)/(10109+6501)\n",
    "np12"
   ]
  },
  {
   "cell_type": "markdown",
   "id": "81393125-2d6b-4998-864d-7a9de4a76654",
   "metadata": {},
   "source": [
    "#### Recall"
   ]
  },
  {
   "cell_type": "code",
   "execution_count": 271,
   "id": "49e82836-d250-4e20-9388-c94d07fd9dfa",
   "metadata": {},
   "outputs": [
    {
     "data": {
      "text/plain": [
       "0.5748976342129208"
      ]
     },
     "execution_count": 271,
     "metadata": {},
     "output_type": "execute_result"
    }
   ],
   "source": [
    "nr12=(10109)/(10109+7475)\n",
    "nr12"
   ]
  },
  {
   "cell_type": "markdown",
   "id": "789ba454-dbcd-4dcb-a24b-2acc31fd223f",
   "metadata": {},
   "source": [
    "#### F1 Score"
   ]
  },
  {
   "cell_type": "code",
   "execution_count": 273,
   "id": "355038a1-9d09-4ff6-a804-d0d80a723a08",
   "metadata": {},
   "outputs": [
    {
     "data": {
      "text/plain": [
       "0.5846153846153846"
      ]
     },
     "execution_count": 273,
     "metadata": {},
     "output_type": "execute_result"
    }
   ],
   "source": [
    "nf12=2*(0.60*0.57)/(0.60+0.57)\n",
    "nf12"
   ]
  },
  {
   "cell_type": "code",
   "execution_count": 274,
   "id": "6e7685fe-de72-4c76-aeab-dcb0ee30f3c5",
   "metadata": {},
   "outputs": [
    {
     "name": "stdout",
     "output_type": "stream",
     "text": [
      "              precision    recall  f1-score   support\n",
      "\n",
      "           0       0.58      0.61      0.59     16694\n",
      "           1       0.62      0.59      0.61     18372\n",
      "\n",
      "    accuracy                           0.60     35066\n",
      "   macro avg       0.60      0.60      0.60     35066\n",
      "weighted avg       0.60      0.60      0.60     35066\n",
      "\n"
     ]
    }
   ],
   "source": [
    "print(classification_report(n_p12,sy_test))"
   ]
  },
  {
   "cell_type": "markdown",
   "id": "52fe437b-37df-4187-be35-8bc4061a0673",
   "metadata": {},
   "source": [
    "# Report"
   ]
  },
  {
   "cell_type": "code",
   "execution_count": 544,
   "id": "bcc0d01f-d9b5-4ada-b73f-1abe4f070952",
   "metadata": {},
   "outputs": [],
   "source": [
    "list1=[\"Logistic\",\"DT\",\"RF\",\"KNN\",\"SVM\",\"NB\"]\n",
    "list2=[ac12,d_acc12,r_acc12,k_acc12,s_acc12,n_acc12]\n",
    "list3=[lp12,dp12,rp12,kp12,sp12,np12]\n",
    "list4=[lr12,dr12,rr12,kr12,sr12,nr12]\n",
    "list5=[lf12,df12,rf120,kf12,sf12,nf12]"
   ]
  },
  {
   "cell_type": "code",
   "execution_count": 546,
   "id": "be406baf-18d4-4a42-8840-97c4955a0747",
   "metadata": {},
   "outputs": [
    {
     "data": {
      "text/html": [
       "<div>\n",
       "<style scoped>\n",
       "    .dataframe tbody tr th:only-of-type {\n",
       "        vertical-align: middle;\n",
       "    }\n",
       "\n",
       "    .dataframe tbody tr th {\n",
       "        vertical-align: top;\n",
       "    }\n",
       "\n",
       "    .dataframe thead th {\n",
       "        text-align: right;\n",
       "    }\n",
       "</style>\n",
       "<table border=\"1\" class=\"dataframe\">\n",
       "  <thead>\n",
       "    <tr style=\"text-align: right;\">\n",
       "      <th></th>\n",
       "      <th>Model_Name</th>\n",
       "      <th>Accuracy</th>\n",
       "      <th>Precision</th>\n",
       "      <th>Recall</th>\n",
       "      <th>F1-Score</th>\n",
       "    </tr>\n",
       "  </thead>\n",
       "  <tbody>\n",
       "    <tr>\n",
       "      <th>0</th>\n",
       "      <td>Logistic</td>\n",
       "      <td>50.145440</td>\n",
       "      <td>0.501454</td>\n",
       "      <td>1.000000</td>\n",
       "      <td>0.666667</td>\n",
       "    </tr>\n",
       "    <tr>\n",
       "      <th>1</th>\n",
       "      <td>DT</td>\n",
       "      <td>69.434780</td>\n",
       "      <td>0.620313</td>\n",
       "      <td>1.000000</td>\n",
       "      <td>0.765432</td>\n",
       "    </tr>\n",
       "    <tr>\n",
       "      <th>2</th>\n",
       "      <td>RF</td>\n",
       "      <td>90.281184</td>\n",
       "      <td>0.894080</td>\n",
       "      <td>0.912079</td>\n",
       "      <td>0.899889</td>\n",
       "    </tr>\n",
       "    <tr>\n",
       "      <th>3</th>\n",
       "      <td>KNN</td>\n",
       "      <td>85.187931</td>\n",
       "      <td>0.876621</td>\n",
       "      <td>0.815002</td>\n",
       "      <td>0.838929</td>\n",
       "    </tr>\n",
       "    <tr>\n",
       "      <th>4</th>\n",
       "      <td>SVM</td>\n",
       "      <td>80.659328</td>\n",
       "      <td>0.888085</td>\n",
       "      <td>0.697680</td>\n",
       "      <td>0.773503</td>\n",
       "    </tr>\n",
       "    <tr>\n",
       "      <th>5</th>\n",
       "      <td>NB</td>\n",
       "      <td>59.921291</td>\n",
       "      <td>0.608609</td>\n",
       "      <td>0.574898</td>\n",
       "      <td>0.584615</td>\n",
       "    </tr>\n",
       "  </tbody>\n",
       "</table>\n",
       "</div>"
      ],
      "text/plain": [
       "  Model_Name   Accuracy  Precision    Recall  F1-Score\n",
       "0   Logistic  50.145440   0.501454  1.000000  0.666667\n",
       "1         DT  69.434780   0.620313  1.000000  0.765432\n",
       "2         RF  90.281184   0.894080  0.912079  0.899889\n",
       "3        KNN  85.187931   0.876621  0.815002  0.838929\n",
       "4        SVM  80.659328   0.888085  0.697680  0.773503\n",
       "5         NB  59.921291   0.608609  0.574898  0.584615"
      ]
     },
     "execution_count": 546,
     "metadata": {},
     "output_type": "execute_result"
    }
   ],
   "source": [
    "result=pd.DataFrame({\"Model_Name\":list1,\"Accuracy\":list2,\"Precision\":list3,\"Recall\":list4,\"F1-Score\":list5})\n",
    "result"
   ]
  },
  {
   "cell_type": "markdown",
   "id": "4da7b379-fbda-4ee4-aeb4-0afdfba9d913",
   "metadata": {},
   "source": [
    " #### Conclusion- Random Forest is the best model in this comparison due to its superior accuracy, high recall, and balanced F1-Score. \n",
    " ####             It strikes the best balance between precision and recall, making it the most reliable model "
   ]
  },
  {
   "cell_type": "markdown",
   "id": "79db1cc0-f016-43fb-9377-5ce18e82bcd6",
   "metadata": {},
   "source": [
    "# Feature Selection"
   ]
  },
  {
   "cell_type": "markdown",
   "id": "05007e6a-8813-424c-bba5-3bc7cc39e261",
   "metadata": {},
   "source": [
    "# RFE(Recursive Feature Elimination)"
   ]
  },
  {
   "cell_type": "code",
   "execution_count": 281,
   "id": "66d06e2b-fda2-4054-aeba-6161d90be41b",
   "metadata": {},
   "outputs": [],
   "source": [
    "from sklearn.feature_selection import RFE\n",
    "from sklearn.ensemble import RandomForestClassifier\n",
    "rf12=RandomForestClassifier()"
   ]
  },
  {
   "cell_type": "code",
   "execution_count": 282,
   "id": "ed76317a-a9f4-4ac0-90b5-824e3755e13d",
   "metadata": {},
   "outputs": [],
   "source": [
    "rfe=RFE(estimator=rf12)"
   ]
  },
  {
   "cell_type": "code",
   "execution_count": 283,
   "id": "e26e6818-6825-45b9-b910-1263f550bb31",
   "metadata": {},
   "outputs": [
    {
     "data": {
      "text/html": [
       "<style>#sk-container-id-13 {color: black;background-color: white;}#sk-container-id-13 pre{padding: 0;}#sk-container-id-13 div.sk-toggleable {background-color: white;}#sk-container-id-13 label.sk-toggleable__label {cursor: pointer;display: block;width: 100%;margin-bottom: 0;padding: 0.3em;box-sizing: border-box;text-align: center;}#sk-container-id-13 label.sk-toggleable__label-arrow:before {content: \"▸\";float: left;margin-right: 0.25em;color: #696969;}#sk-container-id-13 label.sk-toggleable__label-arrow:hover:before {color: black;}#sk-container-id-13 div.sk-estimator:hover label.sk-toggleable__label-arrow:before {color: black;}#sk-container-id-13 div.sk-toggleable__content {max-height: 0;max-width: 0;overflow: hidden;text-align: left;background-color: #f0f8ff;}#sk-container-id-13 div.sk-toggleable__content pre {margin: 0.2em;color: black;border-radius: 0.25em;background-color: #f0f8ff;}#sk-container-id-13 input.sk-toggleable__control:checked~div.sk-toggleable__content {max-height: 200px;max-width: 100%;overflow: auto;}#sk-container-id-13 input.sk-toggleable__control:checked~label.sk-toggleable__label-arrow:before {content: \"▾\";}#sk-container-id-13 div.sk-estimator input.sk-toggleable__control:checked~label.sk-toggleable__label {background-color: #d4ebff;}#sk-container-id-13 div.sk-label input.sk-toggleable__control:checked~label.sk-toggleable__label {background-color: #d4ebff;}#sk-container-id-13 input.sk-hidden--visually {border: 0;clip: rect(1px 1px 1px 1px);clip: rect(1px, 1px, 1px, 1px);height: 1px;margin: -1px;overflow: hidden;padding: 0;position: absolute;width: 1px;}#sk-container-id-13 div.sk-estimator {font-family: monospace;background-color: #f0f8ff;border: 1px dotted black;border-radius: 0.25em;box-sizing: border-box;margin-bottom: 0.5em;}#sk-container-id-13 div.sk-estimator:hover {background-color: #d4ebff;}#sk-container-id-13 div.sk-parallel-item::after {content: \"\";width: 100%;border-bottom: 1px solid gray;flex-grow: 1;}#sk-container-id-13 div.sk-label:hover label.sk-toggleable__label {background-color: #d4ebff;}#sk-container-id-13 div.sk-serial::before {content: \"\";position: absolute;border-left: 1px solid gray;box-sizing: border-box;top: 0;bottom: 0;left: 50%;z-index: 0;}#sk-container-id-13 div.sk-serial {display: flex;flex-direction: column;align-items: center;background-color: white;padding-right: 0.2em;padding-left: 0.2em;position: relative;}#sk-container-id-13 div.sk-item {position: relative;z-index: 1;}#sk-container-id-13 div.sk-parallel {display: flex;align-items: stretch;justify-content: center;background-color: white;position: relative;}#sk-container-id-13 div.sk-item::before, #sk-container-id-13 div.sk-parallel-item::before {content: \"\";position: absolute;border-left: 1px solid gray;box-sizing: border-box;top: 0;bottom: 0;left: 50%;z-index: -1;}#sk-container-id-13 div.sk-parallel-item {display: flex;flex-direction: column;z-index: 1;position: relative;background-color: white;}#sk-container-id-13 div.sk-parallel-item:first-child::after {align-self: flex-end;width: 50%;}#sk-container-id-13 div.sk-parallel-item:last-child::after {align-self: flex-start;width: 50%;}#sk-container-id-13 div.sk-parallel-item:only-child::after {width: 0;}#sk-container-id-13 div.sk-dashed-wrapped {border: 1px dashed gray;margin: 0 0.4em 0.5em 0.4em;box-sizing: border-box;padding-bottom: 0.4em;background-color: white;}#sk-container-id-13 div.sk-label label {font-family: monospace;font-weight: bold;display: inline-block;line-height: 1.2em;}#sk-container-id-13 div.sk-label-container {text-align: center;}#sk-container-id-13 div.sk-container {/* jupyter's `normalize.less` sets `[hidden] { display: none; }` but bootstrap.min.css set `[hidden] { display: none !important; }` so we also need the `!important` here to be able to override the default hidden behavior on the sphinx rendered scikit-learn.org. See: https://github.com/scikit-learn/scikit-learn/issues/21755 */display: inline-block !important;position: relative;}#sk-container-id-13 div.sk-text-repr-fallback {display: none;}</style><div id=\"sk-container-id-13\" class=\"sk-top-container\"><div class=\"sk-text-repr-fallback\"><pre>RFE(estimator=RandomForestClassifier())</pre><b>In a Jupyter environment, please rerun this cell to show the HTML representation or trust the notebook. <br />On GitHub, the HTML representation is unable to render, please try loading this page with nbviewer.org.</b></div><div class=\"sk-container\" hidden><div class=\"sk-item sk-dashed-wrapped\"><div class=\"sk-label-container\"><div class=\"sk-label sk-toggleable\"><input class=\"sk-toggleable__control sk-hidden--visually\" id=\"sk-estimator-id-13\" type=\"checkbox\" ><label for=\"sk-estimator-id-13\" class=\"sk-toggleable__label sk-toggleable__label-arrow\">RFE</label><div class=\"sk-toggleable__content\"><pre>RFE(estimator=RandomForestClassifier())</pre></div></div></div><div class=\"sk-parallel\"><div class=\"sk-parallel-item\"><div class=\"sk-item\"><div class=\"sk-label-container\"><div class=\"sk-label sk-toggleable\"><input class=\"sk-toggleable__control sk-hidden--visually\" id=\"sk-estimator-id-14\" type=\"checkbox\" ><label for=\"sk-estimator-id-14\" class=\"sk-toggleable__label sk-toggleable__label-arrow\">estimator: RandomForestClassifier</label><div class=\"sk-toggleable__content\"><pre>RandomForestClassifier()</pre></div></div></div><div class=\"sk-serial\"><div class=\"sk-item\"><div class=\"sk-estimator sk-toggleable\"><input class=\"sk-toggleable__control sk-hidden--visually\" id=\"sk-estimator-id-15\" type=\"checkbox\" ><label for=\"sk-estimator-id-15\" class=\"sk-toggleable__label sk-toggleable__label-arrow\">RandomForestClassifier</label><div class=\"sk-toggleable__content\"><pre>RandomForestClassifier()</pre></div></div></div></div></div></div></div></div></div></div>"
      ],
      "text/plain": [
       "RFE(estimator=RandomForestClassifier())"
      ]
     },
     "execution_count": 283,
     "metadata": {},
     "output_type": "execute_result"
    }
   ],
   "source": [
    "rfe.fit(sx_train,sy_train)"
   ]
  },
  {
   "cell_type": "code",
   "execution_count": 284,
   "id": "8e1e260f-6f7d-4589-afb9-2f996dd38d55",
   "metadata": {},
   "outputs": [
    {
     "data": {
      "text/plain": [
       "array([ True,  True, False, False,  True, False, False,  True])"
      ]
     },
     "execution_count": 284,
     "metadata": {},
     "output_type": "execute_result"
    }
   ],
   "source": [
    "rfe.support_"
   ]
  },
  {
   "cell_type": "code",
   "execution_count": 285,
   "id": "5dbc180f-e2c9-4467-9bf4-1acaa2c97a66",
   "metadata": {},
   "outputs": [
    {
     "data": {
      "text/html": [
       "<div>\n",
       "<style scoped>\n",
       "    .dataframe tbody tr th:only-of-type {\n",
       "        vertical-align: middle;\n",
       "    }\n",
       "\n",
       "    .dataframe tbody tr th {\n",
       "        vertical-align: top;\n",
       "    }\n",
       "\n",
       "    .dataframe thead th {\n",
       "        text-align: right;\n",
       "    }\n",
       "</style>\n",
       "<table border=\"1\" class=\"dataframe\">\n",
       "  <thead>\n",
       "    <tr style=\"text-align: right;\">\n",
       "      <th></th>\n",
       "      <th>0</th>\n",
       "    </tr>\n",
       "  </thead>\n",
       "  <tbody>\n",
       "    <tr>\n",
       "      <th>0</th>\n",
       "      <td>True</td>\n",
       "    </tr>\n",
       "    <tr>\n",
       "      <th>1</th>\n",
       "      <td>True</td>\n",
       "    </tr>\n",
       "    <tr>\n",
       "      <th>2</th>\n",
       "      <td>False</td>\n",
       "    </tr>\n",
       "    <tr>\n",
       "      <th>3</th>\n",
       "      <td>False</td>\n",
       "    </tr>\n",
       "    <tr>\n",
       "      <th>4</th>\n",
       "      <td>True</td>\n",
       "    </tr>\n",
       "    <tr>\n",
       "      <th>5</th>\n",
       "      <td>False</td>\n",
       "    </tr>\n",
       "    <tr>\n",
       "      <th>6</th>\n",
       "      <td>False</td>\n",
       "    </tr>\n",
       "    <tr>\n",
       "      <th>7</th>\n",
       "      <td>True</td>\n",
       "    </tr>\n",
       "  </tbody>\n",
       "</table>\n",
       "</div>"
      ],
      "text/plain": [
       "       0\n",
       "0   True\n",
       "1   True\n",
       "2  False\n",
       "3  False\n",
       "4   True\n",
       "5  False\n",
       "6  False\n",
       "7   True"
      ]
     },
     "execution_count": 285,
     "metadata": {},
     "output_type": "execute_result"
    }
   ],
   "source": [
    "df=pd.DataFrame(rfe.support_)\n",
    "df"
   ]
  },
  {
   "cell_type": "code",
   "execution_count": 286,
   "id": "c9ec50f8-ba69-4cbb-971f-aef910858b95",
   "metadata": {},
   "outputs": [
    {
     "data": {
      "text/html": [
       "<div>\n",
       "<style scoped>\n",
       "    .dataframe tbody tr th:only-of-type {\n",
       "        vertical-align: middle;\n",
       "    }\n",
       "\n",
       "    .dataframe tbody tr th {\n",
       "        vertical-align: top;\n",
       "    }\n",
       "\n",
       "    .dataframe thead th {\n",
       "        text-align: right;\n",
       "    }\n",
       "</style>\n",
       "<table border=\"1\" class=\"dataframe\">\n",
       "  <thead>\n",
       "    <tr style=\"text-align: right;\">\n",
       "      <th></th>\n",
       "      <th>fature_score</th>\n",
       "      <th>columns</th>\n",
       "    </tr>\n",
       "  </thead>\n",
       "  <tbody>\n",
       "    <tr>\n",
       "      <th>0</th>\n",
       "      <td>True</td>\n",
       "      <td>gender</td>\n",
       "    </tr>\n",
       "    <tr>\n",
       "      <th>1</th>\n",
       "      <td>True</td>\n",
       "      <td>age</td>\n",
       "    </tr>\n",
       "    <tr>\n",
       "      <th>2</th>\n",
       "      <td>False</td>\n",
       "      <td>hypertension</td>\n",
       "    </tr>\n",
       "    <tr>\n",
       "      <th>3</th>\n",
       "      <td>False</td>\n",
       "      <td>heart_disease</td>\n",
       "    </tr>\n",
       "    <tr>\n",
       "      <th>4</th>\n",
       "      <td>True</td>\n",
       "      <td>smoking_history</td>\n",
       "    </tr>\n",
       "    <tr>\n",
       "      <th>5</th>\n",
       "      <td>False</td>\n",
       "      <td>bmi</td>\n",
       "    </tr>\n",
       "    <tr>\n",
       "      <th>6</th>\n",
       "      <td>False</td>\n",
       "      <td>HbA1c_level</td>\n",
       "    </tr>\n",
       "    <tr>\n",
       "      <th>7</th>\n",
       "      <td>True</td>\n",
       "      <td>blood_glucose_level</td>\n",
       "    </tr>\n",
       "  </tbody>\n",
       "</table>\n",
       "</div>"
      ],
      "text/plain": [
       "   fature_score              columns\n",
       "0          True               gender\n",
       "1          True                  age\n",
       "2         False         hypertension\n",
       "3         False        heart_disease\n",
       "4          True      smoking_history\n",
       "5         False                  bmi\n",
       "6         False          HbA1c_level\n",
       "7          True  blood_glucose_level"
      ]
     },
     "execution_count": 286,
     "metadata": {},
     "output_type": "execute_result"
    }
   ],
   "source": [
    "df1=pd.DataFrame({\"fature_score\":list(rfe.support_),\"columns\":list(sx_train.iloc[:,0:8])})\n",
    "df1"
   ]
  },
  {
   "cell_type": "code",
   "execution_count": 287,
   "id": "7c843643-d974-429f-9343-282f95676a85",
   "metadata": {},
   "outputs": [],
   "source": [
    "unwanted_columns=[\"hypertension\",\"heart_disease\",\"bmi\",\"HbA1c_level\"]\n",
    "df2=sx_train.drop(unwanted_columns, axis=1)"
   ]
  },
  {
   "cell_type": "code",
   "execution_count": 288,
   "id": "c82f67df-7721-4cea-a1db-5bf890079a09",
   "metadata": {},
   "outputs": [
    {
     "data": {
      "text/html": [
       "<div>\n",
       "<style scoped>\n",
       "    .dataframe tbody tr th:only-of-type {\n",
       "        vertical-align: middle;\n",
       "    }\n",
       "\n",
       "    .dataframe tbody tr th {\n",
       "        vertical-align: top;\n",
       "    }\n",
       "\n",
       "    .dataframe thead th {\n",
       "        text-align: right;\n",
       "    }\n",
       "</style>\n",
       "<table border=\"1\" class=\"dataframe\">\n",
       "  <thead>\n",
       "    <tr style=\"text-align: right;\">\n",
       "      <th></th>\n",
       "      <th>gender</th>\n",
       "      <th>age</th>\n",
       "      <th>smoking_history</th>\n",
       "      <th>blood_glucose_level</th>\n",
       "    </tr>\n",
       "  </thead>\n",
       "  <tbody>\n",
       "    <tr>\n",
       "      <th>65742</th>\n",
       "      <td>0</td>\n",
       "      <td>14.0000</td>\n",
       "      <td>0</td>\n",
       "      <td>160</td>\n",
       "    </tr>\n",
       "    <tr>\n",
       "      <th>114545</th>\n",
       "      <td>0</td>\n",
       "      <td>73.2325</td>\n",
       "      <td>1</td>\n",
       "      <td>260</td>\n",
       "    </tr>\n",
       "  </tbody>\n",
       "</table>\n",
       "</div>"
      ],
      "text/plain": [
       "        gender      age  smoking_history  blood_glucose_level\n",
       "65742        0  14.0000                0                  160\n",
       "114545       0  73.2325                1                  260"
      ]
     },
     "execution_count": 288,
     "metadata": {},
     "output_type": "execute_result"
    }
   ],
   "source": [
    "df2.head(2)"
   ]
  },
  {
   "cell_type": "code",
   "execution_count": 289,
   "id": "2aa2649f-6dc0-45f0-a878-b5c00d8ab941",
   "metadata": {},
   "outputs": [],
   "source": [
    "x2=df2\n",
    "y2=sy_train"
   ]
  },
  {
   "cell_type": "code",
   "execution_count": 290,
   "id": "aefa764d-83e7-4443-8fc5-144a144ecdaf",
   "metadata": {},
   "outputs": [],
   "source": [
    "x2_train,x2_test,y2_train,y2_test=train_test_split(x2,y2,test_size=0.2,random_state=101)"
   ]
  },
  {
   "cell_type": "code",
   "execution_count": 291,
   "id": "a93f7a10-c7a6-4bb4-95de-a3b862b58bf4",
   "metadata": {},
   "outputs": [
    {
     "data": {
      "text/plain": [
       "((112209, 4), (28053, 4), (112209,), (28053,))"
      ]
     },
     "execution_count": 291,
     "metadata": {},
     "output_type": "execute_result"
    }
   ],
   "source": [
    "x2_train.shape,x2_test.shape,y2_train.shape,y2_test.shape"
   ]
  },
  {
   "cell_type": "code",
   "execution_count": 292,
   "id": "de3f31fa-9532-4f7d-8d7e-f41b5e758984",
   "metadata": {},
   "outputs": [],
   "source": [
    "rf22 = RandomForestClassifier()"
   ]
  },
  {
   "cell_type": "code",
   "execution_count": 293,
   "id": "058b6886-1e26-4d6b-b30a-b1a55d82be36",
   "metadata": {},
   "outputs": [
    {
     "data": {
      "text/html": [
       "<style>#sk-container-id-14 {color: black;background-color: white;}#sk-container-id-14 pre{padding: 0;}#sk-container-id-14 div.sk-toggleable {background-color: white;}#sk-container-id-14 label.sk-toggleable__label {cursor: pointer;display: block;width: 100%;margin-bottom: 0;padding: 0.3em;box-sizing: border-box;text-align: center;}#sk-container-id-14 label.sk-toggleable__label-arrow:before {content: \"▸\";float: left;margin-right: 0.25em;color: #696969;}#sk-container-id-14 label.sk-toggleable__label-arrow:hover:before {color: black;}#sk-container-id-14 div.sk-estimator:hover label.sk-toggleable__label-arrow:before {color: black;}#sk-container-id-14 div.sk-toggleable__content {max-height: 0;max-width: 0;overflow: hidden;text-align: left;background-color: #f0f8ff;}#sk-container-id-14 div.sk-toggleable__content pre {margin: 0.2em;color: black;border-radius: 0.25em;background-color: #f0f8ff;}#sk-container-id-14 input.sk-toggleable__control:checked~div.sk-toggleable__content {max-height: 200px;max-width: 100%;overflow: auto;}#sk-container-id-14 input.sk-toggleable__control:checked~label.sk-toggleable__label-arrow:before {content: \"▾\";}#sk-container-id-14 div.sk-estimator input.sk-toggleable__control:checked~label.sk-toggleable__label {background-color: #d4ebff;}#sk-container-id-14 div.sk-label input.sk-toggleable__control:checked~label.sk-toggleable__label {background-color: #d4ebff;}#sk-container-id-14 input.sk-hidden--visually {border: 0;clip: rect(1px 1px 1px 1px);clip: rect(1px, 1px, 1px, 1px);height: 1px;margin: -1px;overflow: hidden;padding: 0;position: absolute;width: 1px;}#sk-container-id-14 div.sk-estimator {font-family: monospace;background-color: #f0f8ff;border: 1px dotted black;border-radius: 0.25em;box-sizing: border-box;margin-bottom: 0.5em;}#sk-container-id-14 div.sk-estimator:hover {background-color: #d4ebff;}#sk-container-id-14 div.sk-parallel-item::after {content: \"\";width: 100%;border-bottom: 1px solid gray;flex-grow: 1;}#sk-container-id-14 div.sk-label:hover label.sk-toggleable__label {background-color: #d4ebff;}#sk-container-id-14 div.sk-serial::before {content: \"\";position: absolute;border-left: 1px solid gray;box-sizing: border-box;top: 0;bottom: 0;left: 50%;z-index: 0;}#sk-container-id-14 div.sk-serial {display: flex;flex-direction: column;align-items: center;background-color: white;padding-right: 0.2em;padding-left: 0.2em;position: relative;}#sk-container-id-14 div.sk-item {position: relative;z-index: 1;}#sk-container-id-14 div.sk-parallel {display: flex;align-items: stretch;justify-content: center;background-color: white;position: relative;}#sk-container-id-14 div.sk-item::before, #sk-container-id-14 div.sk-parallel-item::before {content: \"\";position: absolute;border-left: 1px solid gray;box-sizing: border-box;top: 0;bottom: 0;left: 50%;z-index: -1;}#sk-container-id-14 div.sk-parallel-item {display: flex;flex-direction: column;z-index: 1;position: relative;background-color: white;}#sk-container-id-14 div.sk-parallel-item:first-child::after {align-self: flex-end;width: 50%;}#sk-container-id-14 div.sk-parallel-item:last-child::after {align-self: flex-start;width: 50%;}#sk-container-id-14 div.sk-parallel-item:only-child::after {width: 0;}#sk-container-id-14 div.sk-dashed-wrapped {border: 1px dashed gray;margin: 0 0.4em 0.5em 0.4em;box-sizing: border-box;padding-bottom: 0.4em;background-color: white;}#sk-container-id-14 div.sk-label label {font-family: monospace;font-weight: bold;display: inline-block;line-height: 1.2em;}#sk-container-id-14 div.sk-label-container {text-align: center;}#sk-container-id-14 div.sk-container {/* jupyter's `normalize.less` sets `[hidden] { display: none; }` but bootstrap.min.css set `[hidden] { display: none !important; }` so we also need the `!important` here to be able to override the default hidden behavior on the sphinx rendered scikit-learn.org. See: https://github.com/scikit-learn/scikit-learn/issues/21755 */display: inline-block !important;position: relative;}#sk-container-id-14 div.sk-text-repr-fallback {display: none;}</style><div id=\"sk-container-id-14\" class=\"sk-top-container\"><div class=\"sk-text-repr-fallback\"><pre>RandomForestClassifier()</pre><b>In a Jupyter environment, please rerun this cell to show the HTML representation or trust the notebook. <br />On GitHub, the HTML representation is unable to render, please try loading this page with nbviewer.org.</b></div><div class=\"sk-container\" hidden><div class=\"sk-item\"><div class=\"sk-estimator sk-toggleable\"><input class=\"sk-toggleable__control sk-hidden--visually\" id=\"sk-estimator-id-16\" type=\"checkbox\" checked><label for=\"sk-estimator-id-16\" class=\"sk-toggleable__label sk-toggleable__label-arrow\">RandomForestClassifier</label><div class=\"sk-toggleable__content\"><pre>RandomForestClassifier()</pre></div></div></div></div></div>"
      ],
      "text/plain": [
       "RandomForestClassifier()"
      ]
     },
     "execution_count": 293,
     "metadata": {},
     "output_type": "execute_result"
    }
   ],
   "source": [
    "rf22.fit(x2_train,y2_train)"
   ]
  },
  {
   "cell_type": "code",
   "execution_count": 294,
   "id": "781c01c0-fdc6-468a-a800-80b8bd7d1b0f",
   "metadata": {},
   "outputs": [],
   "source": [
    "rp22=rf22.predict(x2_test)"
   ]
  },
  {
   "cell_type": "code",
   "execution_count": 295,
   "id": "f3f985c8-6ccd-4682-be42-a934da9ad25e",
   "metadata": {},
   "outputs": [
    {
     "data": {
      "text/plain": [
       "array([[12726,  1510],\n",
       "       [ 1308, 12509]], dtype=int64)"
      ]
     },
     "execution_count": 295,
     "metadata": {},
     "output_type": "execute_result"
    }
   ],
   "source": [
    "rm22=confusion_matrix(rp22,y2_test)\n",
    "rm22"
   ]
  },
  {
   "cell_type": "code",
   "execution_count": 296,
   "id": "7365dbed-dd5d-4e70-95ff-1a186710ffdb",
   "metadata": {},
   "outputs": [
    {
     "data": {
      "text/plain": [
       "89.95472854953125"
      ]
     },
     "execution_count": 296,
     "metadata": {},
     "output_type": "execute_result"
    }
   ],
   "source": [
    "r_acc22=rm22.diagonal().sum()/rm22.sum()*100\n",
    "r_acc22"
   ]
  },
  {
   "cell_type": "markdown",
   "id": "38a9a5f7-e386-4a86-a244-698630e0f559",
   "metadata": {},
   "source": [
    "#### precision\n"
   ]
  },
  {
   "cell_type": "code",
   "execution_count": 298,
   "id": "abf17fa0-fc5c-4a83-b79a-b20babaebc21",
   "metadata": {},
   "outputs": [
    {
     "data": {
      "text/plain": [
       "0.8965857092573037"
      ]
     },
     "execution_count": 298,
     "metadata": {},
     "output_type": "execute_result"
    }
   ],
   "source": [
    "rp0=(12736)/(12736+1469)\n",
    "rp0"
   ]
  },
  {
   "cell_type": "markdown",
   "id": "11ef811f-6615-4139-a2c1-0807e8fd6149",
   "metadata": {},
   "source": [
    "#### Recall"
   ]
  },
  {
   "cell_type": "code",
   "execution_count": 300,
   "id": "e5ccc637-8fa7-4212-8f22-6e86f334d182",
   "metadata": {},
   "outputs": [
    {
     "data": {
      "text/plain": [
       "0.907510332050734"
      ]
     },
     "execution_count": 300,
     "metadata": {},
     "output_type": "execute_result"
    }
   ],
   "source": [
    "rr0=(12736)/(12736+1298)\n",
    "rr0"
   ]
  },
  {
   "cell_type": "markdown",
   "id": "c027770e-79de-4b5d-9c70-309c23134d3f",
   "metadata": {},
   "source": [
    "#### F1 Score"
   ]
  },
  {
   "cell_type": "code",
   "execution_count": 534,
   "id": "baf1cc34-803c-4e4a-a754-8c18599c2d3d",
   "metadata": {},
   "outputs": [
    {
     "data": {
      "text/plain": [
       "0.8949720670391061"
      ]
     },
     "execution_count": 534,
     "metadata": {},
     "output_type": "execute_result"
    }
   ],
   "source": [
    "rf220=2*(0.89*0.90)/(0.89+0.90)\n",
    "rf220"
   ]
  },
  {
   "cell_type": "code",
   "execution_count": 303,
   "id": "37076968-eceb-425b-9bc7-db2d232ee19b",
   "metadata": {},
   "outputs": [
    {
     "name": "stdout",
     "output_type": "stream",
     "text": [
      "              precision    recall  f1-score   support\n",
      "\n",
      "           0       0.91      0.89      0.90     14236\n",
      "           1       0.89      0.91      0.90     13817\n",
      "\n",
      "    accuracy                           0.90     28053\n",
      "   macro avg       0.90      0.90      0.90     28053\n",
      "weighted avg       0.90      0.90      0.90     28053\n",
      "\n"
     ]
    }
   ],
   "source": [
    "print(classification_report(rp22,y2_test))"
   ]
  },
  {
   "cell_type": "code",
   "execution_count": 549,
   "id": "fc594f27-0581-4c5f-a8a3-e0e44644cb02",
   "metadata": {},
   "outputs": [],
   "source": [
    "list1=[\"RF\",\"Feature Selection\"]\n",
    "list2=[r_acc12,r_acc22]\n",
    "list3=[rp12,rp0]\n",
    "list4=[rr12,rr0]\n",
    "list5=[rf120,rf220]"
   ]
  },
  {
   "cell_type": "code",
   "execution_count": 551,
   "id": "90786a88-a0e2-4e3a-8d29-b1ea1cb93930",
   "metadata": {},
   "outputs": [
    {
     "data": {
      "text/html": [
       "<div>\n",
       "<style scoped>\n",
       "    .dataframe tbody tr th:only-of-type {\n",
       "        vertical-align: middle;\n",
       "    }\n",
       "\n",
       "    .dataframe tbody tr th {\n",
       "        vertical-align: top;\n",
       "    }\n",
       "\n",
       "    .dataframe thead th {\n",
       "        text-align: right;\n",
       "    }\n",
       "</style>\n",
       "<table border=\"1\" class=\"dataframe\">\n",
       "  <thead>\n",
       "    <tr style=\"text-align: right;\">\n",
       "      <th></th>\n",
       "      <th>Model_Name</th>\n",
       "      <th>Accuracy</th>\n",
       "      <th>Precision</th>\n",
       "      <th>Recall</th>\n",
       "      <th>F1-Score</th>\n",
       "    </tr>\n",
       "  </thead>\n",
       "  <tbody>\n",
       "    <tr>\n",
       "      <th>0</th>\n",
       "      <td>RF</td>\n",
       "      <td>90.281184</td>\n",
       "      <td>0.894080</td>\n",
       "      <td>0.912079</td>\n",
       "      <td>0.899889</td>\n",
       "    </tr>\n",
       "    <tr>\n",
       "      <th>1</th>\n",
       "      <td>Feature Selection</td>\n",
       "      <td>89.954729</td>\n",
       "      <td>0.896586</td>\n",
       "      <td>0.907510</td>\n",
       "      <td>0.894972</td>\n",
       "    </tr>\n",
       "  </tbody>\n",
       "</table>\n",
       "</div>"
      ],
      "text/plain": [
       "          Model_Name   Accuracy  Precision    Recall  F1-Score\n",
       "0                 RF  90.281184   0.894080  0.912079  0.899889\n",
       "1  Feature Selection  89.954729   0.896586  0.907510  0.894972"
      ]
     },
     "execution_count": 551,
     "metadata": {},
     "output_type": "execute_result"
    }
   ],
   "source": [
    "result=pd.DataFrame({\"Model_Name\":list1,\"Accuracy\":list2,\"Precision\":list3,\"Recall\":list4,\"F1-Score\":list5})\n",
    "result"
   ]
  },
  {
   "cell_type": "markdown",
   "id": "937d4224-8ff5-4f09-8f96-cca591b1991d",
   "metadata": {},
   "source": [
    "### After feature selection there is no effect on random forest"
   ]
  },
  {
   "cell_type": "markdown",
   "id": "9e21682a-c5ca-4823-8e3b-5b8854584a9f",
   "metadata": {},
   "source": [
    "# Model Validation"
   ]
  },
  {
   "cell_type": "markdown",
   "id": "b836d092-e4a6-45bb-92a6-e4aa266fb6f5",
   "metadata": {},
   "source": [
    "## Cross Validation"
   ]
  },
  {
   "cell_type": "code",
   "execution_count": 307,
   "id": "6e03f73a-4a8b-4789-a8d8-aa4d17208fc6",
   "metadata": {},
   "outputs": [],
   "source": [
    "from sklearn.model_selection import cross_val_score"
   ]
  },
  {
   "cell_type": "code",
   "execution_count": 308,
   "id": "50b49655-f1f1-4369-8e56-cab842d50c60",
   "metadata": {},
   "outputs": [],
   "source": [
    "scores = cross_val_score(rfe,x2_train,y2_train,cv=5)"
   ]
  },
  {
   "cell_type": "code",
   "execution_count": 309,
   "id": "dc7f0f68-75b8-481d-8538-5dbf17f837cc",
   "metadata": {},
   "outputs": [
    {
     "name": "stdout",
     "output_type": "stream",
     "text": [
      "Cross-validation scores: [0.89746903 0.89648873 0.89457268 0.90161305 0.8974199 ]\n",
      "Mean cv accuracy:0.90\n"
     ]
    }
   ],
   "source": [
    "print(f\"Cross-validation scores: {scores}\")\n",
    "print(f\"Mean cv accuracy:{scores.mean():.2f}\")"
   ]
  },
  {
   "cell_type": "code",
   "execution_count": null,
   "id": "36ecb2cf-8007-4328-9c23-99837c402f00",
   "metadata": {},
   "outputs": [],
   "source": []
  }
 ],
 "metadata": {
  "kernelspec": {
   "display_name": "Python 3 (ipykernel)",
   "language": "python",
   "name": "python3"
  },
  "language_info": {
   "codemirror_mode": {
    "name": "ipython",
    "version": 3
   },
   "file_extension": ".py",
   "mimetype": "text/x-python",
   "name": "python",
   "nbconvert_exporter": "python",
   "pygments_lexer": "ipython3",
   "version": "3.11.7"
  }
 },
 "nbformat": 4,
 "nbformat_minor": 5
}
